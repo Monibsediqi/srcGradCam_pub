{
 "cells": [
  {
   "cell_type": "markdown",
   "source": [
    "# Log\n",
    "* Written by: Monib Sediqi\n",
    "* Email: kh.monib@gmail.com\n",
    "* Date: 12 Jul 2022\n",
    "\n",
    "---\n",
    "\n",
    "# Code Desc\n",
    "\n",
    "* Binary classification and Class Activation Map (CAM) visualization\n",
    "\n",
    "* Normality and abnormality detection of the following classes in a chest x-ray images.\n",
    "1. Rib fracture\n",
    "2. Pneumothorax\n",
    "3. Tension pneumothorax\n",
    "4. Hemothorax\n",
    "5. Pericardial effusion\n",
    "6. Mediastinum abnormality\n",
    "7. Pleural effusion\n",
    "\n",
    "* Input: X-ray image (1024x1024x3)\n",
    "* Outputs:\n",
    "    1. Probability score\n",
    "    2. PNG image with CAM\n",
    "\n",
    "* Network: XceptionNet\n",
    "---"
   ],
   "metadata": {
    "collapsed": false,
    "pycharm": {
     "name": "#%% md\n"
    }
   }
  },
  {
   "cell_type": "code",
   "execution_count": 1,
   "outputs": [
    {
     "name": "stderr",
     "output_type": "stream",
     "text": [
      "2022-07-12 16:51:04.192421: I tensorflow/stream_executor/platform/default/dso_loader.cc:53] Successfully opened dynamic library libcudart.so.11.0\n"
     ]
    },
    {
     "name": "stdout",
     "output_type": "stream",
     "text": [
      "[PhysicalDevice(name='/physical_device:GPU:0', device_type='GPU'), PhysicalDevice(name='/physical_device:GPU:1', device_type='GPU'), PhysicalDevice(name='/physical_device:GPU:2', device_type='GPU'), PhysicalDevice(name='/physical_device:GPU:3', device_type='GPU')]\n"
     ]
    },
    {
     "name": "stderr",
     "output_type": "stream",
     "text": [
      "2022-07-12 16:51:07.321264: I tensorflow/stream_executor/platform/default/dso_loader.cc:53] Successfully opened dynamic library libcuda.so.1\n",
      "2022-07-12 16:51:07.416252: I tensorflow/core/common_runtime/gpu/gpu_device.cc:1733] Found device 0 with properties: \n",
      "pciBusID: 0000:19:00.0 name: NVIDIA GeForce RTX 3090 computeCapability: 8.6\n",
      "coreClock: 1.695GHz coreCount: 82 deviceMemorySize: 23.70GiB deviceMemoryBandwidth: 871.81GiB/s\n",
      "2022-07-12 16:51:07.417468: I tensorflow/core/common_runtime/gpu/gpu_device.cc:1733] Found device 1 with properties: \n",
      "pciBusID: 0000:1a:00.0 name: NVIDIA GeForce RTX 3090 computeCapability: 8.6\n",
      "coreClock: 1.695GHz coreCount: 82 deviceMemorySize: 23.70GiB deviceMemoryBandwidth: 871.81GiB/s\n",
      "2022-07-12 16:51:07.418615: I tensorflow/core/common_runtime/gpu/gpu_device.cc:1733] Found device 2 with properties: \n",
      "pciBusID: 0000:67:00.0 name: NVIDIA GeForce RTX 3090 computeCapability: 8.6\n",
      "coreClock: 1.695GHz coreCount: 82 deviceMemorySize: 23.70GiB deviceMemoryBandwidth: 871.81GiB/s\n",
      "2022-07-12 16:51:07.419751: I tensorflow/core/common_runtime/gpu/gpu_device.cc:1733] Found device 3 with properties: \n",
      "pciBusID: 0000:68:00.0 name: NVIDIA GeForce RTX 3090 computeCapability: 8.6\n",
      "coreClock: 1.695GHz coreCount: 82 deviceMemorySize: 23.70GiB deviceMemoryBandwidth: 871.81GiB/s\n",
      "2022-07-12 16:51:07.419797: I tensorflow/stream_executor/platform/default/dso_loader.cc:53] Successfully opened dynamic library libcudart.so.11.0\n",
      "2022-07-12 16:51:07.434138: I tensorflow/stream_executor/platform/default/dso_loader.cc:53] Successfully opened dynamic library libcublas.so.11\n",
      "2022-07-12 16:51:07.434272: I tensorflow/stream_executor/platform/default/dso_loader.cc:53] Successfully opened dynamic library libcublasLt.so.11\n",
      "2022-07-12 16:51:07.439562: I tensorflow/stream_executor/platform/default/dso_loader.cc:53] Successfully opened dynamic library libcufft.so.10\n",
      "2022-07-12 16:51:07.441087: I tensorflow/stream_executor/platform/default/dso_loader.cc:53] Successfully opened dynamic library libcurand.so.10\n",
      "2022-07-12 16:51:07.442719: I tensorflow/stream_executor/platform/default/dso_loader.cc:53] Successfully opened dynamic library libcusolver.so.11\n",
      "2022-07-12 16:51:07.445743: I tensorflow/stream_executor/platform/default/dso_loader.cc:53] Successfully opened dynamic library libcusparse.so.11\n",
      "2022-07-12 16:51:07.446272: I tensorflow/stream_executor/platform/default/dso_loader.cc:53] Successfully opened dynamic library libcudnn.so.8\n",
      "2022-07-12 16:51:07.454306: I tensorflow/core/common_runtime/gpu/gpu_device.cc:1871] Adding visible gpu devices: 0, 1, 2, 3\n"
     ]
    }
   ],
   "source": [
    "import tensorflow as tf\n",
    "from tensorflow import keras\n",
    "\n",
    "if tf.__version__ < '2.3.0':\n",
    "    from tensorflow.python.keras import layers\n",
    "else:\n",
    "    from tensorflow.python.keras.layers import VersionAwareLayers\n",
    "\n",
    "    layers = VersionAwareLayers()\n",
    "import os\n",
    "from IPython.display import Image, display\n",
    "import matplotlib.cm as cm\n",
    "\n",
    "try:\n",
    "    import cv2\n",
    "except:\n",
    "    pass\n",
    "import tensorflow as tf\n",
    "import tqdm\n",
    "from PIL import Image as PIL_Image\n",
    "\n",
    "from skimage.transform import resize\n",
    "import pydicom\n",
    "import numpy as np\n",
    "import pandas as pd\n",
    "from matplotlib import pyplot as plt\n",
    "gpus = tf.config.list_physical_devices('GPU')\n",
    "print(gpus)\n",
    "tf.config.set_visible_devices(gpus[1], 'GPU') # using GPU2"
   ],
   "metadata": {
    "collapsed": false,
    "pycharm": {
     "name": "#%%\n"
    }
   }
  },
  {
   "cell_type": "markdown",
   "metadata": {
    "pycharm": {
     "name": "#%% md\n"
    }
   },
   "source": [
    "# Clean data"
   ]
  },
  {
   "cell_type": "code",
   "execution_count": 2,
   "metadata": {
    "pycharm": {
     "name": "#%%\n"
    }
   },
   "outputs": [],
   "source": [
    "class XrayData:\n",
    "    def __init__(self, root_path = None, img_dir = None, label_dir = None, column_name = None):\n",
    "        \"\"\"\n",
    "        root_path: (str) the path to root dirctory\n",
    "        img_dir_name: (str) directory name to imagee\n",
    "        label_dir : (str) directory name to labels. The labels can be in exel format\n",
    "        column : (str) column to read data from excel file. For example = Rib Fracture\n",
    "        \"\"\"\n",
    "        self.root_path = root_path\n",
    "        self.img_dir = img_dir\n",
    "        self.label_dir = label_dir\n",
    "        self.column_name = column_name\n",
    "        self.data_dict = {\"serial_no\": [], column_name: [], 'x_ray_paths': []}\n",
    "        # self.x_ray_paths = []\n",
    "\n",
    "    def clean_labels(self, debug ='off'):\n",
    "\n",
    "        excel_file = os.path.join(self.root_path, self.label_dir)\n",
    "        data = pd.read_excel(excel_file)\n",
    "        df = pd.DataFrame(data, columns=['Serial No', self.column_name])\n",
    "        df = df.reset_index()\n",
    "\n",
    "        for index, row in df.iterrows():\n",
    "            if row[\"Serial No\"] == row[\"Serial No\"]:  # checking for NaN value\n",
    "                self.data_dict[\"serial_no\"].append(int(row[\"Serial No\"]))\n",
    "            if row[self.column_name] == 0 or row[self.column_name] == 1:\n",
    "                self.data_dict[self.column_name].append(int(row[self.column_name]))\n",
    "        assert len(self.data_dict[\"serial_no\"]) == len(self.data_dict[self.column_name])\n",
    "        print(\"cleaned up labels\")\n",
    "\n",
    "    def get_data(self):\n",
    "        \"\"\"\n",
    "        Returns:\n",
    "            dict: a dictionary of image paths with corresponding label\n",
    "        \"\"\"\n",
    "        self.clean_labels()\n",
    "        data_root = os.path.join(self.root_path, self.img_dir)\n",
    "\n",
    "        for i in range(len(self.data_dict['serial_no'])):\n",
    "            sub_path1 = os.path.join(data_root, str(self.data_dict[\"serial_no\"][i]))\n",
    "            dir_l1 = os.listdir(sub_path1)\n",
    "            sub_path2 = os.path.join(sub_path1, dir_l1[0])\n",
    "            # print(\"sub_path2\", sub_path2)\n",
    "            is_file = os.listdir(sub_path2)\n",
    "            if len(is_file) != 0:\n",
    "                # print('is file', is_file[0])\n",
    "                if is_file[0].endswith('.dcm') or is_file[0].endswith('.DCM'):\n",
    "                    self.data_dict['x_ray_paths'].append(os.path.join(sub_path2, is_file[0]))\n",
    "\n",
    "                else:\n",
    "                    sub_path3 = os.path.join(sub_path2, is_file[0])\n",
    "                    # print(\"sub path3\", sub_path3)\n",
    "                    this_is_file = os.listdir(sub_path3)\n",
    "                    if this_is_file[0].endswith(\".dcm\") or this_is_file[0].endswith('.DCM'):\n",
    "                        self.data_dict['x_ray_paths'].append(os.path.join(sub_path3, this_is_file[0]))\n",
    "                    else:\n",
    "                        print(\"not a dicom file path:\", os.path.join(sub_path3, this_is_file[0]))\n",
    "        return self.data_dict"
   ]
  },
  {
   "cell_type": "markdown",
   "metadata": {
    "pycharm": {
     "name": "#%% md\n"
    }
   },
   "source": [
    "# Preprocess"
   ]
  },
  {
   "cell_type": "code",
   "execution_count": 3,
   "metadata": {
    "pycharm": {
     "name": "#%%\n"
    }
   },
   "outputs": [],
   "source": [
    "# Preprocess the x_ray data\n",
    "class Preprocesser:\n",
    "\n",
    "    def __init__(self, method='min-max', scale_factor=1):\n",
    "        \"\"\"\n",
    "            method : Normalization method\n",
    "                - 'min-max' : min-max normalization\n",
    "                - 'z-score' : z-score standardization\n",
    "        \"\"\"\n",
    "        self.method = method\n",
    "        self.scale_factor = scale_factor\n",
    "    def normalize(self, image):\n",
    "\n",
    "        if self.method == 'min-max':\n",
    "            max_val = np.max(image)\n",
    "            min_val = np.min(image)\n",
    "\n",
    "            rescale_slope = max_val - min_val + 1e-13\n",
    "            rescale_intercept = min_val\n",
    "\n",
    "            image_norm = (image - rescale_intercept) / rescale_slope\n",
    "\n",
    "        elif self.method == 'z-score':\n",
    "            mean_val = np.mean(image)\n",
    "            std_val = np.std(image)\n",
    "\n",
    "            rescale_slope = std_val + 1e-13\n",
    "            rescale_intercept = mean_val\n",
    "\n",
    "            image_norm = (image - rescale_intercept) / rescale_slope\n",
    "\n",
    "        else:\n",
    "            rescale_slope = 1\n",
    "            rescale_intercept = 0\n",
    "\n",
    "            image_norm = (image - rescale_intercept) / rescale_slope\n",
    "        return image_norm, rescale_intercept, rescale_slope\n",
    "\n",
    "    def resize(self, image , new_size = None):\n",
    "\n",
    "        return resize(image, new_size)\n"
   ]
  },
  {
   "cell_type": "code",
   "execution_count": 4,
   "outputs": [],
   "source": [
    "save_path = \"/media/monib/ext1/work2022/Base_Dataset/chest_x_ray_snuh/rgb_files_600\"\n",
    "val_save_path = \"/media/monib/ext1/work2022/Base_Dataset/chest_x_ray_snuh/val_split\"\n",
    "preprocessor = Preprocesser('min-max')\n",
    "\n",
    "root_path = \"/media/monib/ext1/work2022/Base_Dataset/chest_x_ray_snuh\"\n",
    "\n",
    "\n",
    "def load_data(root_path):\n",
    "    x_ray_1= XrayData(root_path=root_path, img_dir = \"DICOM 파일 이신애\", label_dir=\"Chest x-ray data - sort.xlsx\", column_name=\"Pleural effusion\")\n",
    "\n",
    "    return [x_ray_1.get_data()]\n",
    "\n",
    "\n",
    "img_h = 1024\n",
    "img_w = 1024\n",
    "num_ch = 3\n",
    "\n",
    "def data2numpy(root_path):\n",
    "\n",
    "    data = load_data(root_path)\n",
    "    normal_images = []\n",
    "    normal_labels = []\n",
    "    abnormal_images = []\n",
    "    abnormal_labels = []\n",
    "\n",
    "    #printing a few paths with corresponding serial number and labels\n",
    "    print(len(data[0]['x_ray_paths']))\n",
    "    for i in range(len(data[0]['x_ray_paths'])):\n",
    "\n",
    "        try:\n",
    "            # if data[0]['Rib fracture'][i] == 1 or data[1]['Pneumothorax'][i] == 1 or data[2]['Tension pneumothorax'][i] ==1 or data[3]['Hemothorax'][i]==1 or data[4]['Pericardial effusion'][i] ==1 or data[5]['Mediastinum abnormality'][i] ==1 or data[6]['Pleural effusion'][i] ==1:\n",
    "            if data[0]['Pleural effusion'][i] == 1:\n",
    "                img_arr = pydicom.dcmread(data[0]['x_ray_paths'][i]).pixel_array # has shape x,y\n",
    "                img_norm, _, _ = preprocessor.normalize(img_arr)\n",
    "\n",
    "                img_resized = preprocessor.resize(img_norm, (img_h, img_w))\n",
    "                img_resized = np.stack((img_resized,)*3, axis=-1)\n",
    "\n",
    "                abnormal_images.append(img_resized)\n",
    "                abnormal_labels.append(np.array(1))\n",
    "            # label = data['Rib fracture'][i]\n",
    "            else:\n",
    "                print(\"path\", data[0]['x_ray_paths'][i])\n",
    "                img_arr = pydicom.dcmread(data[0]['x_ray_paths'][i]).pixel_array # has shape x,y\n",
    "                img_norm, _, _ = preprocessor.normalize(img_arr)\n",
    "\n",
    "                img_resized = preprocessor.resize(img_norm, (img_h, img_w))\n",
    "                img_resized = np.stack((img_resized,)*3, axis=-1)\n",
    "\n",
    "                normal_images.append(img_resized)\n",
    "                normal_labels.append(np.array(0))\n",
    "\n",
    "        except ValueError as ve:\n",
    "            print(f\"Value error at: {data[0]['x_ray_paths'][i]}\")\n",
    "            # error_paths.append(data['x_ray_paths'][i])\n",
    "\n",
    "    # -------------- Perform on-hot encoding on labels -------------------\n",
    "\n",
    "    norm_images_np = np.array(normal_images)\n",
    "    norm_labels_np = np.array(normal_labels)\n",
    "    print(\"Total Normal Images\", len(normal_images))\n",
    "\n",
    "    abnorm_images_np = np.array(abnormal_images)\n",
    "    abnorm_labels_np = np.array(abnormal_labels)\n",
    "    print(\"Total Abnormal Images\", len(abnormal_images))\n",
    "\n",
    "    return norm_images_np, norm_labels_np, abnorm_images_np, abnorm_labels_np\n",
    "\n",
    "def get_dataset(data): # Created to deal with memory leackage\n",
    "\n",
    "    norm_imgs_np, norm_labels_np, abnorm_imgs_np, abnorm_labels_np = data2numpy(data)\n",
    "\n",
    "    batch_size = 1\n",
    "    total_norm_size = norm_imgs_np.shape[0]\n",
    "    total_abnorm_size = abnorm_imgs_np.shape[0]\n",
    "    norm_train_num = int(total_norm_size * 0.8)\n",
    "    abnorm_train_num = int(total_abnorm_size * 0.8)\n",
    "\n",
    "    x_train = np.concatenate((norm_imgs_np[:norm_train_num], abnorm_imgs_np[:abnorm_train_num]), axis=0)\n",
    "    y_train = np.concatenate((norm_labels_np[:norm_train_num], abnorm_labels_np[:abnorm_train_num]), axis=0)\n",
    "    x_val = np.concatenate((norm_imgs_np[norm_train_num:], abnorm_imgs_np[abnorm_train_num:]), axis=0)\n",
    "    y_val = np.concatenate((norm_labels_np[norm_train_num:], abnorm_labels_np[abnorm_train_num:]), axis=0)\n",
    "\n",
    "\n",
    "    print(\"x_train shape\", x_train.shape)\n",
    "    print(\"y_train shape\", y_train.shape)\n",
    "    print(\"x_val\", x_val.shape)\n",
    "    print(\"y_val\", y_val.shape)\n",
    "    print(f\"Number of sample in train and validation are: {x_train.shape[0]}, {x_val.shape[0]}\")\n",
    "\n",
    "    train_loader = tf.data.Dataset.from_tensor_slices((x_train, y_train))\n",
    "    val_loader = tf.data.Dataset.from_tensor_slices((x_val, y_val))\n",
    "\n",
    "    train_dataset = (train_loader.shuffle(len(x_train)).batch(batch_size).prefetch(batch_size))\n",
    "    val_dataset = (val_loader.shuffle(len(x_val)).batch(batch_size).prefetch(batch_size))\n",
    "    return train_dataset, val_dataset, x_val, y_val\n",
    "\n"
   ],
   "metadata": {
    "collapsed": false,
    "pycharm": {
     "name": "#%%\n"
    }
   }
  },
  {
   "cell_type": "markdown",
   "source": [
    "# create dataset"
   ],
   "metadata": {
    "collapsed": false,
    "pycharm": {
     "name": "#%% md\n"
    }
   }
  },
  {
   "cell_type": "code",
   "execution_count": 5,
   "outputs": [
    {
     "name": "stdout",
     "output_type": "stream",
     "text": [
      "cleaned up labels\n",
      "911\n",
      "path /media/monib/ext1/work2022/Base_Dataset/chest_x_ray_snuh/DICOM 파일 이신애/1/07865068/Chest PA/1.2.840.113619.2.203.4.2147483647.1602804914.18335.dcm\n",
      "path /media/monib/ext1/work2022/Base_Dataset/chest_x_ray_snuh/DICOM 파일 이신애/3/09757620/Chest PA/1.3.12.2.1107.5.3.49.22547.11.201907191438230734.dcm\n",
      "path /media/monib/ext1/work2022/Base_Dataset/chest_x_ray_snuh/DICOM 파일 이신애/4/10009585/Chest PA/1.3.12.2.1107.5.3.49.22547.11.201501281005070234.dcm\n",
      "path /media/monib/ext1/work2022/Base_Dataset/chest_x_ray_snuh/DICOM 파일 이신애/6/11870038/Chest PA/1.3.46.670589.30.1.6.1.963334917095.1545619292484.2.dcm\n",
      "path /media/monib/ext1/work2022/Base_Dataset/chest_x_ray_snuh/DICOM 파일 이신애/7/12109342/Chest PA/1.3.46.670589.26.802146.4.20150317.113311.347918.0.dcm\n",
      "Value error at: /media/monib/ext1/work2022/Base_Dataset/chest_x_ray_snuh/DICOM 파일 이신애/7/12109342/Chest PA/1.3.46.670589.26.802146.4.20150317.113311.347918.0.dcm\n",
      "path /media/monib/ext1/work2022/Base_Dataset/chest_x_ray_snuh/DICOM 파일 이신애/8/12198070/Chest AP/1.2.840.113564.1721616194.20180131113957312240.1003000225002.dcm\n",
      "path /media/monib/ext1/work2022/Base_Dataset/chest_x_ray_snuh/DICOM 파일 이신애/9/12222935/1.3.46.670589.26.802065.4.20150304.162931.912466.0.dcm\n",
      "Value error at: /media/monib/ext1/work2022/Base_Dataset/chest_x_ray_snuh/DICOM 파일 이신애/9/12222935/1.3.46.670589.26.802065.4.20150304.162931.912466.0.dcm\n",
      "path /media/monib/ext1/work2022/Base_Dataset/chest_x_ray_snuh/DICOM 파일 이신애/10/12820029/Chest PA/1.3.12.2.1107.5.3.49.22547.11.201505051714190781.dcm\n",
      "path /media/monib/ext1/work2022/Base_Dataset/chest_x_ray_snuh/DICOM 파일 이신애/11/12857470/dd.DCM\n",
      "path /media/monib/ext1/work2022/Base_Dataset/chest_x_ray_snuh/DICOM 파일 이신애/12/13538330/Chest PA/1.3.46.670589.26.802065.4.20201006.93033.669326.0.dcm\n",
      "Value error at: /media/monib/ext1/work2022/Base_Dataset/chest_x_ray_snuh/DICOM 파일 이신애/12/13538330/Chest PA/1.3.46.670589.26.802065.4.20201006.93033.669326.0.dcm\n",
      "path /media/monib/ext1/work2022/Base_Dataset/chest_x_ray_snuh/DICOM 파일 이신애/13/13945084/Chest AP/1.2.840.113564.1721616195.20161114230054500990.1003000225002.dcm\n",
      "path /media/monib/ext1/work2022/Base_Dataset/chest_x_ray_snuh/DICOM 파일 이신애/14/14080074/Chest PA/1.3.46.670589.26.802065.4.20180102.110034.298247.0.dcm\n",
      "Value error at: /media/monib/ext1/work2022/Base_Dataset/chest_x_ray_snuh/DICOM 파일 이신애/14/14080074/Chest PA/1.3.46.670589.26.802065.4.20180102.110034.298247.0.dcm\n",
      "path /media/monib/ext1/work2022/Base_Dataset/chest_x_ray_snuh/DICOM 파일 이신애/16/52863776/ㅇㅁㅈ.DCM\n",
      "path /media/monib/ext1/work2022/Base_Dataset/chest_x_ray_snuh/DICOM 파일 이신애/17/52965146/ㄱㅈㅅ.DCM\n",
      "path /media/monib/ext1/work2022/Base_Dataset/chest_x_ray_snuh/DICOM 파일 이신애/20/51932903/ㅁㄷㅅ.DCM\n",
      "path /media/monib/ext1/work2022/Base_Dataset/chest_x_ray_snuh/DICOM 파일 이신애/23/76506310/ㅇㄱㅁ.DCM\n",
      "path /media/monib/ext1/work2022/Base_Dataset/chest_x_ray_snuh/DICOM 파일 이신애/24/52711015/ㅇㅈㅇ0000.DCM\n",
      "path /media/monib/ext1/work2022/Base_Dataset/chest_x_ray_snuh/DICOM 파일 이신애/25/53014522/ㅊㅅㄱ.DCM\n",
      "path /media/monib/ext1/work2022/Base_Dataset/chest_x_ray_snuh/DICOM 파일 이신애/26/53112457/ㅎㄱㅇ.DCM\n",
      "path /media/monib/ext1/work2022/Base_Dataset/chest_x_ray_snuh/DICOM 파일 이신애/29/51850676/ㄱㅇㅈ.DCM\n",
      "path /media/monib/ext1/work2022/Base_Dataset/chest_x_ray_snuh/DICOM 파일 이신애/31/51861638/ㅇㅇㅇ.DCM\n",
      "path /media/monib/ext1/work2022/Base_Dataset/chest_x_ray_snuh/DICOM 파일 이신애/32/38702123/ㄱㅈㅌ.DCM\n",
      "path /media/monib/ext1/work2022/Base_Dataset/chest_x_ray_snuh/DICOM 파일 이신애/33/21108817/ㄳㅇ .DCM\n",
      "path /media/monib/ext1/work2022/Base_Dataset/chest_x_ray_snuh/DICOM 파일 이신애/35/32126574/ㄱㅎㅅ.DCM\n",
      "path /media/monib/ext1/work2022/Base_Dataset/chest_x_ray_snuh/DICOM 파일 이신애/36/51920551/ㄱㅎㅈ.DCM\n",
      "path /media/monib/ext1/work2022/Base_Dataset/chest_x_ray_snuh/DICOM 파일 이신애/37/51944937/ㅂㅇㅈ.DCM\n",
      "path /media/monib/ext1/work2022/Base_Dataset/chest_x_ray_snuh/DICOM 파일 이신애/38/51947239/ㄱㄱㅂ.DCM\n",
      "path /media/monib/ext1/work2022/Base_Dataset/chest_x_ray_snuh/DICOM 파일 이신애/39/28986809/ㅎㄱㅇ.DCM\n",
      "path /media/monib/ext1/work2022/Base_Dataset/chest_x_ray_snuh/DICOM 파일 이신애/41/49509533/ㄱㄱㅎ.DCM\n",
      "path /media/monib/ext1/work2022/Base_Dataset/chest_x_ray_snuh/DICOM 파일 이신애/42/48070171/ㅇㅈㄱ.DCM\n",
      "path /media/monib/ext1/work2022/Base_Dataset/chest_x_ray_snuh/DICOM 파일 이신애/43/52098813/ㄱㅈㅎ.DCM\n",
      "path /media/monib/ext1/work2022/Base_Dataset/chest_x_ray_snuh/DICOM 파일 이신애/44/28119159/ㄱㅇㅈ.DCM\n",
      "path /media/monib/ext1/work2022/Base_Dataset/chest_x_ray_snuh/DICOM 파일 이신애/45/52134911/ㅇㅎㅅ.DCM\n",
      "path /media/monib/ext1/work2022/Base_Dataset/chest_x_ray_snuh/DICOM 파일 이신애/46/28558538/ㅎㅎㅈ.DCM\n",
      "path /media/monib/ext1/work2022/Base_Dataset/chest_x_ray_snuh/DICOM 파일 이신애/47/26559580/ㄱㅈㅎ.DCM\n",
      "path /media/monib/ext1/work2022/Base_Dataset/chest_x_ray_snuh/DICOM 파일 이신애/48/52173550/ㅇㅅㅎ.DCM\n",
      "path /media/monib/ext1/work2022/Base_Dataset/chest_x_ray_snuh/DICOM 파일 이신애/49/34042139/ㅂ ㅅㄱ.DCM\n",
      "path /media/monib/ext1/work2022/Base_Dataset/chest_x_ray_snuh/DICOM 파일 이신애/51/23333431/ㅄㅇ.DCM\n",
      "path /media/monib/ext1/work2022/Base_Dataset/chest_x_ray_snuh/DICOM 파일 이신애/52/46626174/ㅅㅇㅅ.DCM\n",
      "path /media/monib/ext1/work2022/Base_Dataset/chest_x_ray_snuh/DICOM 파일 이신애/53/52451243/ㅄㅎ.DCM\n",
      "path /media/monib/ext1/work2022/Base_Dataset/chest_x_ray_snuh/DICOM 파일 이신애/55/52474392/ㄱㅁㅇ.DCM\n",
      "path /media/monib/ext1/work2022/Base_Dataset/chest_x_ray_snuh/DICOM 파일 이신애/56/52502622/ㅇㅈㄱ.DCM\n",
      "path /media/monib/ext1/work2022/Base_Dataset/chest_x_ray_snuh/DICOM 파일 이신애/57/52525764/ㅈㅇㄷ.DCM\n",
      "path /media/monib/ext1/work2022/Base_Dataset/chest_x_ray_snuh/DICOM 파일 이신애/58/25603237/ㅎㅂㅇ.DCM\n",
      "path /media/monib/ext1/work2022/Base_Dataset/chest_x_ray_snuh/DICOM 파일 이신애/59/52621794/ㄱㅁㅅ.DCM\n",
      "path /media/monib/ext1/work2022/Base_Dataset/chest_x_ray_snuh/DICOM 파일 이신애/60/23359596/ㅇㅎㅈ.DCM\n",
      "path /media/monib/ext1/work2022/Base_Dataset/chest_x_ray_snuh/DICOM 파일 이신애/63/52692828/ㅎㅈㅇ.DCM\n",
      "path /media/monib/ext1/work2022/Base_Dataset/chest_x_ray_snuh/DICOM 파일 이신애/65/52736906/ㅇㅎㅈ.DCM\n",
      "path /media/monib/ext1/work2022/Base_Dataset/chest_x_ray_snuh/DICOM 파일 이신애/66/52823189/ㅇㅅㄹ.DCM\n",
      "path /media/monib/ext1/work2022/Base_Dataset/chest_x_ray_snuh/DICOM 파일 이신애/67/72779217/ㅂㅈㅇ.DCM\n",
      "path /media/monib/ext1/work2022/Base_Dataset/chest_x_ray_snuh/DICOM 파일 이신애/68/52916315/ㅂㄱㅇ.DCM\n",
      "path /media/monib/ext1/work2022/Base_Dataset/chest_x_ray_snuh/DICOM 파일 이신애/70/16471669/ㄱㅇㅌ.DCM\n",
      "path /media/monib/ext1/work2022/Base_Dataset/chest_x_ray_snuh/DICOM 파일 이신애/72/52968385/ㅇㅇㅎ.DCM\n",
      "path /media/monib/ext1/work2022/Base_Dataset/chest_x_ray_snuh/DICOM 파일 이신애/73/44851190/ㅇㅁㅈ.DCM\n",
      "path /media/monib/ext1/work2022/Base_Dataset/chest_x_ray_snuh/DICOM 파일 이신애/74/14065037/ㅅㅇㅈ.DCM\n",
      "path /media/monib/ext1/work2022/Base_Dataset/chest_x_ray_snuh/DICOM 파일 이신애/76/25847361/ㅈㅊㅇ.DCM\n",
      "path /media/monib/ext1/work2022/Base_Dataset/chest_x_ray_snuh/DICOM 파일 이신애/77/15714837/ㅅㅎㅇ.DCM\n",
      "path /media/monib/ext1/work2022/Base_Dataset/chest_x_ray_snuh/DICOM 파일 이신애/78/43766073/ㅂㅇㅇ.DCM\n",
      "path /media/monib/ext1/work2022/Base_Dataset/chest_x_ray_snuh/DICOM 파일 이신애/80/50950511/ㅂㄱㅈ.DCM\n",
      "path /media/monib/ext1/work2022/Base_Dataset/chest_x_ray_snuh/DICOM 파일 이신애/81/43151246/ㄱㅅㅈ.DCM\n",
      "path /media/monib/ext1/work2022/Base_Dataset/chest_x_ray_snuh/DICOM 파일 이신애/82/53093981/ㄳㅂ.DCM\n",
      "path /media/monib/ext1/work2022/Base_Dataset/chest_x_ray_snuh/DICOM 파일 이신애/83/53105978/ㅊㅈㅎ.DCM\n",
      "path /media/monib/ext1/work2022/Base_Dataset/chest_x_ray_snuh/DICOM 파일 이신애/84/53123224/ㅂㅇㅌ.DCM\n",
      "path /media/monib/ext1/work2022/Base_Dataset/chest_x_ray_snuh/DICOM 파일 이신애/85/27589267/ㅂㄴㅅ.DCM\n",
      "path /media/monib/ext1/work2022/Base_Dataset/chest_x_ray_snuh/DICOM 파일 이신애/86/53141998/ㄱㅇㅇ.DCM\n",
      "path /media/monib/ext1/work2022/Base_Dataset/chest_x_ray_snuh/DICOM 파일 이신애/87/53148519/ㄱㅇㅅ.DCM\n",
      "path /media/monib/ext1/work2022/Base_Dataset/chest_x_ray_snuh/DICOM 파일 이신애/88/33221744/ㅇㅇㅅ.DCM\n",
      "path /media/monib/ext1/work2022/Base_Dataset/chest_x_ray_snuh/DICOM 파일 이신애/89/53183288/ㄱㄱㅈ.DCM\n",
      "path /media/monib/ext1/work2022/Base_Dataset/chest_x_ray_snuh/DICOM 파일 이신애/90/35526964/ㄳㅇ.DCM\n",
      "path /media/monib/ext1/work2022/Base_Dataset/chest_x_ray_snuh/DICOM 파일 이신애/91/32679395/ㅁㄱㅎ.DCM\n",
      "path /media/monib/ext1/work2022/Base_Dataset/chest_x_ray_snuh/DICOM 파일 이신애/92/32468254/ㄱㅎㅇ.DCM\n",
      "path /media/monib/ext1/work2022/Base_Dataset/chest_x_ray_snuh/DICOM 파일 이신애/93/53332547/ㅈㄱㅁ.DCM\n",
      "path /media/monib/ext1/work2022/Base_Dataset/chest_x_ray_snuh/DICOM 파일 이신애/94/75263634/ㅇㅅㅎ.DCM\n",
      "path /media/monib/ext1/work2022/Base_Dataset/chest_x_ray_snuh/DICOM 파일 이신애/97/28550712/ㅁㄷㅇ.DCM\n",
      "path /media/monib/ext1/work2022/Base_Dataset/chest_x_ray_snuh/DICOM 파일 이신애/98/53519748/ㄱㅎㅇ.DCM\n",
      "path /media/monib/ext1/work2022/Base_Dataset/chest_x_ray_snuh/DICOM 파일 이신애/99/53539766/ㄴㅅㅇ.DCM\n",
      "path /media/monib/ext1/work2022/Base_Dataset/chest_x_ray_snuh/DICOM 파일 이신애/100/53543912/ㅈㅁㅊ.DCM\n",
      "path /media/monib/ext1/work2022/Base_Dataset/chest_x_ray_snuh/DICOM 파일 이신애/101/79849650/ㅇㅅㅇ.DCM\n",
      "path /media/monib/ext1/work2022/Base_Dataset/chest_x_ray_snuh/DICOM 파일 이신애/104/42000693/ㅎㅇㅌ.DCM\n",
      "path /media/monib/ext1/work2022/Base_Dataset/chest_x_ray_snuh/DICOM 파일 이신애/105/53640255/ㅅㅂㅇ.DCM\n",
      "path /media/monib/ext1/work2022/Base_Dataset/chest_x_ray_snuh/DICOM 파일 이신애/107/53669148/ㅇㄷ.DCM\n",
      "path /media/monib/ext1/work2022/Base_Dataset/chest_x_ray_snuh/DICOM 파일 이신애/108/33852984/ㄱㄱㅊ.DCM\n",
      "path /media/monib/ext1/work2022/Base_Dataset/chest_x_ray_snuh/DICOM 파일 이신애/111/53736170/ㅈㅂㄱ.DCM\n",
      "path /media/monib/ext1/work2022/Base_Dataset/chest_x_ray_snuh/DICOM 파일 이신애/112/53739162/ㅇㅇㅎ.DCM\n",
      "path /media/monib/ext1/work2022/Base_Dataset/chest_x_ray_snuh/DICOM 파일 이신애/113/53792365/ㄱㅌㅇ.DCM\n",
      "path /media/monib/ext1/work2022/Base_Dataset/chest_x_ray_snuh/DICOM 파일 이신애/115/27822786/ㅈㅅㅅ.DCM\n",
      "path /media/monib/ext1/work2022/Base_Dataset/chest_x_ray_snuh/DICOM 파일 이신애/117/53838348/ㅇㅈㅍ.DCM\n",
      "path /media/monib/ext1/work2022/Base_Dataset/chest_x_ray_snuh/DICOM 파일 이신애/120/53964937/ㅇㅎㅊ.DCM\n",
      "path /media/monib/ext1/work2022/Base_Dataset/chest_x_ray_snuh/DICOM 파일 이신애/121/53978664/ㅅㅅㄱ.DCM\n",
      "path /media/monib/ext1/work2022/Base_Dataset/chest_x_ray_snuh/DICOM 파일 이신애/122/54025006/ㅇㅈㄱ.DCM\n",
      "path /media/monib/ext1/work2022/Base_Dataset/chest_x_ray_snuh/DICOM 파일 이신애/124/54186095/ㅁㅁㄴ.DCM\n",
      "path /media/monib/ext1/work2022/Base_Dataset/chest_x_ray_snuh/DICOM 파일 이신애/125/54199743/ㅈㄱㅌ.DCM\n",
      "path /media/monib/ext1/work2022/Base_Dataset/chest_x_ray_snuh/DICOM 파일 이신애/126/27046436/ㅇㅈㅍ.DCM\n",
      "path /media/monib/ext1/work2022/Base_Dataset/chest_x_ray_snuh/DICOM 파일 이신애/127/52850376/ㅇㅎㅅ.DCM\n",
      "path /media/monib/ext1/work2022/Base_Dataset/chest_x_ray_snuh/DICOM 파일 이신애/128/54233908/ㄱㅍㅂ.DCM\n",
      "path /media/monib/ext1/work2022/Base_Dataset/chest_x_ray_snuh/DICOM 파일 이신애/129/54239160/ㅂㅇㅅ.DCM\n",
      "path /media/monib/ext1/work2022/Base_Dataset/chest_x_ray_snuh/DICOM 파일 이신애/130/29737310/ㅈㅁㅈ.DCM\n",
      "path /media/monib/ext1/work2022/Base_Dataset/chest_x_ray_snuh/DICOM 파일 이신애/132/49907788/ㅇㅂㅈ.DCM\n",
      "path /media/monib/ext1/work2022/Base_Dataset/chest_x_ray_snuh/DICOM 파일 이신애/133/28306388/ㅎㅈㅅ.DCM\n",
      "path /media/monib/ext1/work2022/Base_Dataset/chest_x_ray_snuh/DICOM 파일 이신애/134/54410402/ㄱㅇ.DCM\n",
      "path /media/monib/ext1/work2022/Base_Dataset/chest_x_ray_snuh/DICOM 파일 이신애/136/13592257/ㄱㅇㅎ.DCM\n",
      "path /media/monib/ext1/work2022/Base_Dataset/chest_x_ray_snuh/DICOM 파일 이신애/137/44913562/ㅂㅎㄱ.DCM\n",
      "path /media/monib/ext1/work2022/Base_Dataset/chest_x_ray_snuh/DICOM 파일 이신애/138/54466645/ㅇㅅㅅ.DCM\n",
      "path /media/monib/ext1/work2022/Base_Dataset/chest_x_ray_snuh/DICOM 파일 이신애/140/54478871/ㄳㄷ.DCM\n",
      "path /media/monib/ext1/work2022/Base_Dataset/chest_x_ray_snuh/DICOM 파일 이신애/141/21162804/ㅇㅅㅈ.DCM\n",
      "path /media/monib/ext1/work2022/Base_Dataset/chest_x_ray_snuh/DICOM 파일 이신애/142/46251152/ㅊㅁㅎ.DCM\n",
      "path /media/monib/ext1/work2022/Base_Dataset/chest_x_ray_snuh/DICOM 파일 이신애/143/49769195/ㄴㄱㄹ.DCM\n",
      "path /media/monib/ext1/work2022/Base_Dataset/chest_x_ray_snuh/DICOM 파일 이신애/148/54882704/ㅅㅈㅅ.DCM\n",
      "path /media/monib/ext1/work2022/Base_Dataset/chest_x_ray_snuh/DICOM 파일 이신애/149/55018001/ㅇㅅㅈ.DCM\n",
      "path /media/monib/ext1/work2022/Base_Dataset/chest_x_ray_snuh/DICOM 파일 이신애/150/52792641/ㅈㅎㄱ.DCM\n",
      "path /media/monib/ext1/work2022/Base_Dataset/chest_x_ray_snuh/DICOM 파일 이신애/152/55143077/ㄱㅈㅈ.DCM\n",
      "path /media/monib/ext1/work2022/Base_Dataset/chest_x_ray_snuh/DICOM 파일 이신애/153/55162030/ㄱㅎㄱ.DCM\n",
      "path /media/monib/ext1/work2022/Base_Dataset/chest_x_ray_snuh/DICOM 파일 이신애/157/55467449/ㅇㅎㅈ.DCM\n",
      "path /media/monib/ext1/work2022/Base_Dataset/chest_x_ray_snuh/DICOM 파일 이신애/159/55490665/ㄱㅈㄱ.DCM\n",
      "path /media/monib/ext1/work2022/Base_Dataset/chest_x_ray_snuh/DICOM 파일 이신애/161/55555858/ㄱㄱㅎ.DCM\n",
      "path /media/monib/ext1/work2022/Base_Dataset/chest_x_ray_snuh/DICOM 파일 이신애/162/52729977/ㅅㅅㅁ.DCM\n",
      "path /media/monib/ext1/work2022/Base_Dataset/chest_x_ray_snuh/DICOM 파일 이신애/163/55685324/ㅇㅅㅈ.DCM\n",
      "path /media/monib/ext1/work2022/Base_Dataset/chest_x_ray_snuh/DICOM 파일 이신애/164/52633007/ㅇㅁㅁ.DCM\n",
      "path /media/monib/ext1/work2022/Base_Dataset/chest_x_ray_snuh/DICOM 파일 이신애/165/55773308/ㅇㅅㅎ.DCM\n",
      "path /media/monib/ext1/work2022/Base_Dataset/chest_x_ray_snuh/DICOM 파일 이신애/166/55831608/ㅇㅅㄱ.DCM\n",
      "path /media/monib/ext1/work2022/Base_Dataset/chest_x_ray_snuh/DICOM 파일 이신애/168/55861205/ㅈㅎㅅ.DCM\n",
      "path /media/monib/ext1/work2022/Base_Dataset/chest_x_ray_snuh/DICOM 파일 이신애/169/55864211/ㅈㄱㄹ.DCM\n",
      "path /media/monib/ext1/work2022/Base_Dataset/chest_x_ray_snuh/DICOM 파일 이신애/171/55891080/ㅇㅇㅇ.DCM\n",
      "path /media/monib/ext1/work2022/Base_Dataset/chest_x_ray_snuh/DICOM 파일 이신애/172/55912730/ㅇㅈㄴ.DCM\n",
      "path /media/monib/ext1/work2022/Base_Dataset/chest_x_ray_snuh/DICOM 파일 이신애/173/55928449/ㄱㅈㅎ.DCM\n",
      "path /media/monib/ext1/work2022/Base_Dataset/chest_x_ray_snuh/DICOM 파일 이신애/174/55931630/ㅇㅈㅇ.DCM\n",
      "path /media/monib/ext1/work2022/Base_Dataset/chest_x_ray_snuh/DICOM 파일 이신애/175/35816612/ㅈㅈㅌ.DCM\n",
      "path /media/monib/ext1/work2022/Base_Dataset/chest_x_ray_snuh/DICOM 파일 이신애/176/18062256/ㅇㅄ.DCM\n",
      "path /media/monib/ext1/work2022/Base_Dataset/chest_x_ray_snuh/DICOM 파일 이신애/177/56022522/ㅇㅅㅂ.DCM\n",
      "path /media/monib/ext1/work2022/Base_Dataset/chest_x_ray_snuh/DICOM 파일 이신애/178/56046148/ㄱㅇㅈ.DCM\n",
      "path /media/monib/ext1/work2022/Base_Dataset/chest_x_ray_snuh/DICOM 파일 이신애/179/56047677/ㅎㅎㅅ.DCM\n",
      "path /media/monib/ext1/work2022/Base_Dataset/chest_x_ray_snuh/DICOM 파일 이신애/180/54687783/ㄱㅈㅇ.DCM\n",
      "path /media/monib/ext1/work2022/Base_Dataset/chest_x_ray_snuh/DICOM 파일 이신애/181/56089912/ㄱㅇㅎ.DCM\n",
      "path /media/monib/ext1/work2022/Base_Dataset/chest_x_ray_snuh/DICOM 파일 이신애/182/56092660/ㄱㅄ.DCM\n",
      "path /media/monib/ext1/work2022/Base_Dataset/chest_x_ray_snuh/DICOM 파일 이신애/183/25226407/ㅎㅇㅅ.DCM\n",
      "path /media/monib/ext1/work2022/Base_Dataset/chest_x_ray_snuh/DICOM 파일 이신애/184/56143265/ㅇㅈㅁ.DCM\n",
      "path /media/monib/ext1/work2022/Base_Dataset/chest_x_ray_snuh/DICOM 파일 이신애/187/56218525/ㅎㄷㅇ.DCM\n",
      "path /media/monib/ext1/work2022/Base_Dataset/chest_x_ray_snuh/DICOM 파일 이신애/188/43673380/ㅇㅇㅁ.DCM\n",
      "path /media/monib/ext1/work2022/Base_Dataset/chest_x_ray_snuh/DICOM 파일 이신애/190/56256495/ㅈㅇㅎ.DCM\n",
      "path /media/monib/ext1/work2022/Base_Dataset/chest_x_ray_snuh/DICOM 파일 이신애/191/33664567/ㄱㅇㅊ.DCM\n",
      "path /media/monib/ext1/work2022/Base_Dataset/chest_x_ray_snuh/DICOM 파일 이신애/192/56259588/ㄴㅊㅇ.DCM\n",
      "path /media/monib/ext1/work2022/Base_Dataset/chest_x_ray_snuh/DICOM 파일 이신애/193/56265646/ㅈㄳ.DCM\n",
      "path /media/monib/ext1/work2022/Base_Dataset/chest_x_ray_snuh/DICOM 파일 이신애/194/56279087/ㄱㅇㅅ.DCM\n",
      "path /media/monib/ext1/work2022/Base_Dataset/chest_x_ray_snuh/DICOM 파일 이신애/200/56328693/ㅊㄷㅎ.DCM\n",
      "path /media/monib/ext1/work2022/Base_Dataset/chest_x_ray_snuh/DICOM 파일 이신애/206/50047376/ㅎㅇㅎ.DCM\n",
      "path /media/monib/ext1/work2022/Base_Dataset/chest_x_ray_snuh/DICOM 파일 이신애/207/31526405/ㅊㄱㄹ.DCM\n",
      "path /media/monib/ext1/work2022/Base_Dataset/chest_x_ray_snuh/DICOM 파일 이신애/209/71565617/ㅈㅇㅎ.DCM\n",
      "path /media/monib/ext1/work2022/Base_Dataset/chest_x_ray_snuh/DICOM 파일 이신애/210/20367529/ㅇㅇㄱ.DCM\n",
      "path /media/monib/ext1/work2022/Base_Dataset/chest_x_ray_snuh/DICOM 파일 이신애/212/35396613/ㅇㅂㅇ.DCM\n",
      "path /media/monib/ext1/work2022/Base_Dataset/chest_x_ray_snuh/DICOM 파일 이신애/213/31233741/ㄱㅂㅈ.DCM\n",
      "path /media/monib/ext1/work2022/Base_Dataset/chest_x_ray_snuh/DICOM 파일 이신애/214/35295176/ㅈㅈㅊ.DCM\n",
      "path /media/monib/ext1/work2022/Base_Dataset/chest_x_ray_snuh/DICOM 파일 이신애/216/50365618/ㄴㅂㅈ.DCM\n",
      "path /media/monib/ext1/work2022/Base_Dataset/chest_x_ray_snuh/DICOM 파일 이신애/217/50372313/ㅍㅈㅎ.DCM\n",
      "path /media/monib/ext1/work2022/Base_Dataset/chest_x_ray_snuh/DICOM 파일 이신애/218/42827540/ㅅㅅㅈ.DCM\n",
      "path /media/monib/ext1/work2022/Base_Dataset/chest_x_ray_snuh/DICOM 파일 이신애/219/50393699/ㅁㅅㄹ.DCM\n",
      "path /media/monib/ext1/work2022/Base_Dataset/chest_x_ray_snuh/DICOM 파일 이신애/220/33646374/ㄱㅅㅎ.DCM\n",
      "path /media/monib/ext1/work2022/Base_Dataset/chest_x_ray_snuh/DICOM 파일 이신애/222/50406076/ㄱㅇㅅ.DCM\n",
      "path /media/monib/ext1/work2022/Base_Dataset/chest_x_ray_snuh/DICOM 파일 이신애/223/25898422/ㄱㅇㅈ.DCM\n",
      "path /media/monib/ext1/work2022/Base_Dataset/chest_x_ray_snuh/DICOM 파일 이신애/224/20132235/ㅇㅅㅅ.DCM\n",
      "path /media/monib/ext1/work2022/Base_Dataset/chest_x_ray_snuh/DICOM 파일 이신애/225/50421664/ㅂㄳ.DCM\n",
      "path /media/monib/ext1/work2022/Base_Dataset/chest_x_ray_snuh/DICOM 파일 이신애/226/50421671/ㅁㅁㄴ.DCM\n",
      "path /media/monib/ext1/work2022/Base_Dataset/chest_x_ray_snuh/DICOM 파일 이신애/227/37810418/ㄱㄷㄱ.DCM\n",
      "path /media/monib/ext1/work2022/Base_Dataset/chest_x_ray_snuh/DICOM 파일 이신애/228/09549292/ㅊㄷㅇ.DCM\n",
      "path /media/monib/ext1/work2022/Base_Dataset/chest_x_ray_snuh/DICOM 파일 이신애/229/25841907/ㄱㅇㅈ.DCM\n",
      "path /media/monib/ext1/work2022/Base_Dataset/chest_x_ray_snuh/DICOM 파일 이신애/230/31164016/ㄱㅇㅇ.DCM\n",
      "path /media/monib/ext1/work2022/Base_Dataset/chest_x_ray_snuh/DICOM 파일 이신애/231/47108035/ㅄㅇ.DCM\n",
      "path /media/monib/ext1/work2022/Base_Dataset/chest_x_ray_snuh/DICOM 파일 이신애/232/12198070/ㅈㅅㅎ.DCM\n",
      "path /media/monib/ext1/work2022/Base_Dataset/chest_x_ray_snuh/DICOM 파일 이신애/233/50471722/ㄱㅎㅅ.DCM\n",
      "path /media/monib/ext1/work2022/Base_Dataset/chest_x_ray_snuh/DICOM 파일 이신애/234/26520087/ㄳㄹ.DCM\n",
      "path /media/monib/ext1/work2022/Base_Dataset/chest_x_ray_snuh/DICOM 파일 이신애/235/24908977/ㅅㅁㅈ.DCM\n",
      "path /media/monib/ext1/work2022/Base_Dataset/chest_x_ray_snuh/DICOM 파일 이신애/236/50490918/ㅇㄱㅈ.DCM\n",
      "path /media/monib/ext1/work2022/Base_Dataset/chest_x_ray_snuh/DICOM 파일 이신애/237/31274672/ㅇㅅㅇ.DCM\n",
      "path /media/monib/ext1/work2022/Base_Dataset/chest_x_ray_snuh/DICOM 파일 이신애/238/43259638/ㅂㅊㅅ.DCM\n",
      "path /media/monib/ext1/work2022/Base_Dataset/chest_x_ray_snuh/DICOM 파일 이신애/239/50521463/ㅈㄱㅎ.DCM\n",
      "path /media/monib/ext1/work2022/Base_Dataset/chest_x_ray_snuh/DICOM 파일 이신애/240/33673352/ㅂㅂ.DCM\n",
      "path /media/monib/ext1/work2022/Base_Dataset/chest_x_ray_snuh/DICOM 파일 이신애/241/47669390/ㅄㅅ.DCM\n",
      "path /media/monib/ext1/work2022/Base_Dataset/chest_x_ray_snuh/DICOM 파일 이신애/242/50525768/ZHAO.DCM\n",
      "path /media/monib/ext1/work2022/Base_Dataset/chest_x_ray_snuh/DICOM 파일 이신애/245/17594332/ㅂㅇㅅ.DCM\n",
      "path /media/monib/ext1/work2022/Base_Dataset/chest_x_ray_snuh/DICOM 파일 이신애/246/50556445/ㄱㅊㅅ.DCM\n",
      "path /media/monib/ext1/work2022/Base_Dataset/chest_x_ray_snuh/DICOM 파일 이신애/247/50347393/ㅅㅅㅌ.DCM\n",
      "path /media/monib/ext1/work2022/Base_Dataset/chest_x_ray_snuh/DICOM 파일 이신애/248/50589902/ㅇㅅㅁ.DCM\n",
      "path /media/monib/ext1/work2022/Base_Dataset/chest_x_ray_snuh/DICOM 파일 이신애/250/50597871/ㅅㄱㅇ.DCM\n",
      "path /media/monib/ext1/work2022/Base_Dataset/chest_x_ray_snuh/DICOM 파일 이신애/251/50607110/ㅈㄷㅅ.DCM\n",
      "path /media/monib/ext1/work2022/Base_Dataset/chest_x_ray_snuh/DICOM 파일 이신애/252/29917736/ㅇㅈㄱ.DCM\n",
      "path /media/monib/ext1/work2022/Base_Dataset/chest_x_ray_snuh/DICOM 파일 이신애/253/23879146/ㄱㄱㅎ.DCM\n",
      "path /media/monib/ext1/work2022/Base_Dataset/chest_x_ray_snuh/DICOM 파일 이신애/254/29649507/ㅂㅈㅅ.DCM\n",
      "path /media/monib/ext1/work2022/Base_Dataset/chest_x_ray_snuh/DICOM 파일 이신애/255/50663040/ㄱㅊㅎ.DCM\n",
      "path /media/monib/ext1/work2022/Base_Dataset/chest_x_ray_snuh/DICOM 파일 이신애/256/41904499/ㅅㅎ.DCM\n",
      "path /media/monib/ext1/work2022/Base_Dataset/chest_x_ray_snuh/DICOM 파일 이신애/257/15550103/ㄳㅇ.DCM\n",
      "path /media/monib/ext1/work2022/Base_Dataset/chest_x_ray_snuh/DICOM 파일 이신애/258/32746404/ㄱㅇㅁ.DCM\n",
      "path /media/monib/ext1/work2022/Base_Dataset/chest_x_ray_snuh/DICOM 파일 이신애/259/32869422/ㅎㅅㅈ.DCM\n",
      "path /media/monib/ext1/work2022/Base_Dataset/chest_x_ray_snuh/DICOM 파일 이신애/261/50797936/ㄵㅅ.DCM\n",
      "path /media/monib/ext1/work2022/Base_Dataset/chest_x_ray_snuh/DICOM 파일 이신애/262/50808982/ㅇㅎㄴ.DCM\n",
      "path /media/monib/ext1/work2022/Base_Dataset/chest_x_ray_snuh/DICOM 파일 이신애/264/22499934/ㅅㅈㅎ.DCM\n",
      "path /media/monib/ext1/work2022/Base_Dataset/chest_x_ray_snuh/DICOM 파일 이신애/266/50886658/ㅁㅈㅎ.DCM\n",
      "path /media/monib/ext1/work2022/Base_Dataset/chest_x_ray_snuh/DICOM 파일 이신애/267/42857200/ㅈㅅㄱ.DCM\n",
      "path /media/monib/ext1/work2022/Base_Dataset/chest_x_ray_snuh/DICOM 파일 이신애/268/18100886/ㅂㅇㅈ.DCM\n",
      "path /media/monib/ext1/work2022/Base_Dataset/chest_x_ray_snuh/DICOM 파일 이신애/269/50943676/ㅈㅈㅎ.DCM\n",
      "path /media/monib/ext1/work2022/Base_Dataset/chest_x_ray_snuh/DICOM 파일 이신애/270/50944989/ㄳㅈ.DCM\n",
      "path /media/monib/ext1/work2022/Base_Dataset/chest_x_ray_snuh/DICOM 파일 이신애/271/44886521/ㅇㅅㅅ.DCM\n",
      "path /media/monib/ext1/work2022/Base_Dataset/chest_x_ray_snuh/DICOM 파일 이신애/272/50954342/ㅊㅈㅇ.DCM\n",
      "path /media/monib/ext1/work2022/Base_Dataset/chest_x_ray_snuh/DICOM 파일 이신애/273/22919591/ㅅㄱㅊ.DCM\n",
      "path /media/monib/ext1/work2022/Base_Dataset/chest_x_ray_snuh/DICOM 파일 이신애/274/37640183/ㅈㅅㅇ.DCM\n",
      "path /media/monib/ext1/work2022/Base_Dataset/chest_x_ray_snuh/DICOM 파일 이신애/275/50987025/ㄱㅇㅇ.DCM\n",
      "path /media/monib/ext1/work2022/Base_Dataset/chest_x_ray_snuh/DICOM 파일 이신애/276/31002721/ㅈㅅㅊ.DCM\n",
      "path /media/monib/ext1/work2022/Base_Dataset/chest_x_ray_snuh/DICOM 파일 이신애/277/51006796/ㅇㅈㅇ.DCM\n",
      "path /media/monib/ext1/work2022/Base_Dataset/chest_x_ray_snuh/DICOM 파일 이신애/278/51014975/ㄱㅇㅌ.DCM\n",
      "path /media/monib/ext1/work2022/Base_Dataset/chest_x_ray_snuh/DICOM 파일 이신애/280/15202574/ㅈㅇㅇ.DCM\n",
      "path /media/monib/ext1/work2022/Base_Dataset/chest_x_ray_snuh/DICOM 파일 이신애/281/51044426/ㅇㅂㅎ.DCM\n",
      "path /media/monib/ext1/work2022/Base_Dataset/chest_x_ray_snuh/DICOM 파일 이신애/282/17799461/ㄱㅎㅈ.DCM\n",
      "path /media/monib/ext1/work2022/Base_Dataset/chest_x_ray_snuh/DICOM 파일 이신애/283/51046617/ㅇㅈㅅ.DCM\n",
      "path /media/monib/ext1/work2022/Base_Dataset/chest_x_ray_snuh/DICOM 파일 이신애/284/18862146/ㅅㅇㅇㅌ.DCM\n",
      "path /media/monib/ext1/work2022/Base_Dataset/chest_x_ray_snuh/DICOM 파일 이신애/285/51022527/ㅁㄷㄹ.DCM\n",
      "path /media/monib/ext1/work2022/Base_Dataset/chest_x_ray_snuh/DICOM 파일 이신애/286/51079268/ㅇㅇㅂ.DCM\n",
      "path /media/monib/ext1/work2022/Base_Dataset/chest_x_ray_snuh/DICOM 파일 이신애/287/34478606/ㅈㅅㅈ.DCM\n",
      "path /media/monib/ext1/work2022/Base_Dataset/chest_x_ray_snuh/DICOM 파일 이신애/288/51119863/ㅅㅇㄱ.DCM\n",
      "path /media/monib/ext1/work2022/Base_Dataset/chest_x_ray_snuh/DICOM 파일 이신애/289/43947245/ㅈㅈㅎ.DCM\n",
      "path /media/monib/ext1/work2022/Base_Dataset/chest_x_ray_snuh/DICOM 파일 이신애/290/51187152/ㄱㅁㅅ.DCM\n",
      "path /media/monib/ext1/work2022/Base_Dataset/chest_x_ray_snuh/DICOM 파일 이신애/291/34469006/ㅈㅇㅁ.DCM\n",
      "path /media/monib/ext1/work2022/Base_Dataset/chest_x_ray_snuh/DICOM 파일 이신애/292/23529946/ㄱㅇㄷ.DCM\n",
      "path /media/monib/ext1/work2022/Base_Dataset/chest_x_ray_snuh/DICOM 파일 이신애/294/51225869/ㅇㅅㅇ.DCM\n",
      "path /media/monib/ext1/work2022/Base_Dataset/chest_x_ray_snuh/DICOM 파일 이신애/295/51257183/ㄱㄷㅎ.DCM\n",
      "path /media/monib/ext1/work2022/Base_Dataset/chest_x_ray_snuh/DICOM 파일 이신애/296/51269388/ㅇㅂㅌ.DCM\n",
      "path /media/monib/ext1/work2022/Base_Dataset/chest_x_ray_snuh/DICOM 파일 이신애/298/31166911/ㅅㅎㅇ.DCM\n",
      "path /media/monib/ext1/work2022/Base_Dataset/chest_x_ray_snuh/DICOM 파일 이신애/299/27084546/ㅈㅂㅈ.DCM\n",
      "path /media/monib/ext1/work2022/Base_Dataset/chest_x_ray_snuh/DICOM 파일 이신애/300/19015866/ㅇㄱㅎ.DCM\n",
      "path /media/monib/ext1/work2022/Base_Dataset/chest_x_ray_snuh/DICOM 파일 이신애/301/31992761/ㅇㅈㅇ.DCM\n",
      "path /media/monib/ext1/work2022/Base_Dataset/chest_x_ray_snuh/DICOM 파일 이신애/302/51365729/ㅎㅅㅎ.DCM\n",
      "path /media/monib/ext1/work2022/Base_Dataset/chest_x_ray_snuh/DICOM 파일 이신애/303/40129822/ㅈㅅㅇ.DCM\n",
      "path /media/monib/ext1/work2022/Base_Dataset/chest_x_ray_snuh/DICOM 파일 이신애/304/48381819/ㅇㅈㅇ.DCM\n",
      "path /media/monib/ext1/work2022/Base_Dataset/chest_x_ray_snuh/DICOM 파일 이신애/305/51441887/ㅂㅁㅈ.DCM\n",
      "path /media/monib/ext1/work2022/Base_Dataset/chest_x_ray_snuh/DICOM 파일 이신애/306/51441894/ㅈㅇㅂ.DCM\n",
      "path /media/monib/ext1/work2022/Base_Dataset/chest_x_ray_snuh/DICOM 파일 이신애/307/51480154/ㄱㅇㅇ.DCM\n",
      "path /media/monib/ext1/work2022/Base_Dataset/chest_x_ray_snuh/DICOM 파일 이신애/308/51480349/ㅈㅇㅇ.DCM\n",
      "path /media/monib/ext1/work2022/Base_Dataset/chest_x_ray_snuh/DICOM 파일 이신애/309/51491659/ㅈㅈㅅ.DCM\n",
      "path /media/monib/ext1/work2022/Base_Dataset/chest_x_ray_snuh/DICOM 파일 이신애/311/51502256/ㄴㄹ.DCM\n",
      "path /media/monib/ext1/work2022/Base_Dataset/chest_x_ray_snuh/DICOM 파일 이신애/312/46294801/ㅈㄱㅁ.DCM\n",
      "path /media/monib/ext1/work2022/Base_Dataset/chest_x_ray_snuh/DICOM 파일 이신애/313/51511623/ㄱㅈㅁ.DCM\n",
      "path /media/monib/ext1/work2022/Base_Dataset/chest_x_ray_snuh/DICOM 파일 이신애/314/51512811/ㅊㅅㅎ.DCM\n",
      "path /media/monib/ext1/work2022/Base_Dataset/chest_x_ray_snuh/DICOM 파일 이신애/315/51530631/ㅂㄴㅇ.DCM\n",
      "path /media/monib/ext1/work2022/Base_Dataset/chest_x_ray_snuh/DICOM 파일 이신애/316/43940547/ㅎㅁㄹ.DCM\n",
      "path /media/monib/ext1/work2022/Base_Dataset/chest_x_ray_snuh/DICOM 파일 이신애/317/38527625/ㅅㅅㅇ.DCM\n",
      "path /media/monib/ext1/work2022/Base_Dataset/chest_x_ray_snuh/DICOM 파일 이신애/318/51559980/ㅊㅈㅅ.DCM\n",
      "path /media/monib/ext1/work2022/Base_Dataset/chest_x_ray_snuh/DICOM 파일 이신애/319/30425547/ㅂㅈㅎ.DCM\n",
      "path /media/monib/ext1/work2022/Base_Dataset/chest_x_ray_snuh/DICOM 파일 이신애/320/51583558/ㅇㅅㅊ.DCM\n",
      "path /media/monib/ext1/work2022/Base_Dataset/chest_x_ray_snuh/DICOM 파일 이신애/321/48740393/ㅎㅇㅅ.DCM\n",
      "path /media/monib/ext1/work2022/Base_Dataset/chest_x_ray_snuh/DICOM 파일 이신애/322/23878390/ㄺㅇ.DCM\n",
      "path /media/monib/ext1/work2022/Base_Dataset/chest_x_ray_snuh/DICOM 파일 이신애/323/23303430/ㅂㅈㅇ.DCM\n",
      "path /media/monib/ext1/work2022/Base_Dataset/chest_x_ray_snuh/DICOM 파일 이신애/324/51677648/ㄱㅇㅊ.DCM\n",
      "path /media/monib/ext1/work2022/Base_Dataset/chest_x_ray_snuh/DICOM 파일 이신애/325/51678216/ㅇㅇㄱ.DCM\n",
      "path /media/monib/ext1/work2022/Base_Dataset/chest_x_ray_snuh/DICOM 파일 이신애/326/15889801/ㄱㄷㅇ.DCM\n",
      "path /media/monib/ext1/work2022/Base_Dataset/chest_x_ray_snuh/DICOM 파일 이신애/327/19691044/ㅇㄷㅅ.DCM\n",
      "path /media/monib/ext1/work2022/Base_Dataset/chest_x_ray_snuh/DICOM 파일 이신애/328/23705308/ㅈㅂㅇ.DCM\n",
      "path /media/monib/ext1/work2022/Base_Dataset/chest_x_ray_snuh/DICOM 파일 이신애/329/51703408/ㅇㅊㅅ.DCM\n",
      "path /media/monib/ext1/work2022/Base_Dataset/chest_x_ray_snuh/DICOM 파일 이신애/330/51708030/ㄱㅈㅂ.DCM\n",
      "path /media/monib/ext1/work2022/Base_Dataset/chest_x_ray_snuh/DICOM 파일 이신애/332/51708605/ㄳㅇ.DCM\n",
      "path /media/monib/ext1/work2022/Base_Dataset/chest_x_ray_snuh/DICOM 파일 이신애/333/25862841/ㄱㅇㅎ.DCM\n",
      "path /media/monib/ext1/work2022/Base_Dataset/chest_x_ray_snuh/DICOM 파일 이신애/334/41592966/ㅂㅎㅅ.DCM\n",
      "path /media/monib/ext1/work2022/Base_Dataset/chest_x_ray_snuh/DICOM 파일 이신애/335/51766764/ㄳㅇ.DCM\n",
      "path /media/monib/ext1/work2022/Base_Dataset/chest_x_ray_snuh/DICOM 파일 이신애/337/49076677/ㅅㅇㅇ.DCM\n",
      "path /media/monib/ext1/work2022/Base_Dataset/chest_x_ray_snuh/DICOM 파일 이신애/338/49085392/ㅇㅅㅇ.DCM\n",
      "path /media/monib/ext1/work2022/Base_Dataset/chest_x_ray_snuh/DICOM 파일 이신애/340/49102468/ㅇㅊㅈ.DCM\n",
      "path /media/monib/ext1/work2022/Base_Dataset/chest_x_ray_snuh/DICOM 파일 이신애/341/49106268/ㄴㅇㅇ.DCM\n",
      "path /media/monib/ext1/work2022/Base_Dataset/chest_x_ray_snuh/DICOM 파일 이신애/342/49138429/ㅅㄱㅎ.DCM\n",
      "path /media/monib/ext1/work2022/Base_Dataset/chest_x_ray_snuh/DICOM 파일 이신애/344/14472837/ㅇㅌㅎ.DCM\n",
      "path /media/monib/ext1/work2022/Base_Dataset/chest_x_ray_snuh/DICOM 파일 이신애/345/49356917/ㄳㅈ.DCM\n",
      "path /media/monib/ext1/work2022/Base_Dataset/chest_x_ray_snuh/DICOM 파일 이신애/346/49369780/ㅇㅅㅎ.DCM\n",
      "path /media/monib/ext1/work2022/Base_Dataset/chest_x_ray_snuh/DICOM 파일 이신애/348/45422209/ㅊㅅㅌ.DCM\n",
      "path /media/monib/ext1/work2022/Base_Dataset/chest_x_ray_snuh/DICOM 파일 이신애/349/49478901/ㅈㅈㄱ.DCM\n",
      "path /media/monib/ext1/work2022/Base_Dataset/chest_x_ray_snuh/DICOM 파일 이신애/350/49491531/ㅁㅇㄱㄹ.DCM\n",
      "path /media/monib/ext1/work2022/Base_Dataset/chest_x_ray_snuh/DICOM 파일 이신애/351/49526639/ㅊㄷㅎ.DCM\n",
      "path /media/monib/ext1/work2022/Base_Dataset/chest_x_ray_snuh/DICOM 파일 이신애/352/49565711/ㅊㅅㅊ.DCM\n",
      "path /media/monib/ext1/work2022/Base_Dataset/chest_x_ray_snuh/DICOM 파일 이신애/353/43621163/ㄱㅇㅊ.DCM\n",
      "path /media/monib/ext1/work2022/Base_Dataset/chest_x_ray_snuh/DICOM 파일 이신애/354/49574498/ㄱㄳ.DCM\n",
      "path /media/monib/ext1/work2022/Base_Dataset/chest_x_ray_snuh/DICOM 파일 이신애/355/49603149/ㄱㅎ.DCM\n",
      "path /media/monib/ext1/work2022/Base_Dataset/chest_x_ray_snuh/DICOM 파일 이신애/356/46293264/ㅊㅅㅇ.DCM\n",
      "path /media/monib/ext1/work2022/Base_Dataset/chest_x_ray_snuh/DICOM 파일 이신애/357/48664343/ㄱㅇㄹ.DCM\n",
      "path /media/monib/ext1/work2022/Base_Dataset/chest_x_ray_snuh/DICOM 파일 이신애/359/49665231/ㅈㅅㅎ.DCM\n",
      "path /media/monib/ext1/work2022/Base_Dataset/chest_x_ray_snuh/DICOM 파일 이신애/360/49668108/ㅈㅊㅅ.DCM\n",
      "path /media/monib/ext1/work2022/Base_Dataset/chest_x_ray_snuh/DICOM 파일 이신애/361/16360093/ㅇㅇㅅ.DCM\n",
      "path /media/monib/ext1/work2022/Base_Dataset/chest_x_ray_snuh/DICOM 파일 이신애/362/49715073/ㅂㄱㄷ.DCM\n",
      "path /media/monib/ext1/work2022/Base_Dataset/chest_x_ray_snuh/DICOM 파일 이신애/363/49719664/ㅇㅅㅎ.DCM\n",
      "path /media/monib/ext1/work2022/Base_Dataset/chest_x_ray_snuh/DICOM 파일 이신애/364/49728721/ㅂㅇㄱ.DCM\n",
      "path /media/monib/ext1/work2022/Base_Dataset/chest_x_ray_snuh/DICOM 파일 이신애/365/72563614/ㅈㅇㅈ.DCM\n",
      "path /media/monib/ext1/work2022/Base_Dataset/chest_x_ray_snuh/DICOM 파일 이신애/367/32283198/ㄱㅊㅅ.DCM\n",
      "path /media/monib/ext1/work2022/Base_Dataset/chest_x_ray_snuh/DICOM 파일 이신애/368/46987723/ㄱㅇㅅ.DCM\n",
      "path /media/monib/ext1/work2022/Base_Dataset/chest_x_ray_snuh/DICOM 파일 이신애/369/49852686/ㄱㅁㅈ.DCM\n",
      "path /media/monib/ext1/work2022/Base_Dataset/chest_x_ray_snuh/DICOM 파일 이신애/370/49877344/ㅇㅎㅅ.DCM\n",
      "path /media/monib/ext1/work2022/Base_Dataset/chest_x_ray_snuh/DICOM 파일 이신애/371/49915400/ㅇㅁㅎ.DCM\n",
      "path /media/monib/ext1/work2022/Base_Dataset/chest_x_ray_snuh/DICOM 파일 이신애/372/49923898/ㄱㅇㅅ.DCM\n",
      "path /media/monib/ext1/work2022/Base_Dataset/chest_x_ray_snuh/DICOM 파일 이신애/373/33898353/ㅇㅅㅎ.DCM\n",
      "path /media/monib/ext1/work2022/Base_Dataset/chest_x_ray_snuh/DICOM 파일 이신애/374/39371229/ㅇㅎㅅ.DCM\n",
      "path /media/monib/ext1/work2022/Base_Dataset/chest_x_ray_snuh/DICOM 파일 이신애/375/36137343/ㅄㅂ.DCM\n",
      "path /media/monib/ext1/work2022/Base_Dataset/chest_x_ray_snuh/DICOM 파일 이신애/376/43351899/ㅎㅅㅊ.DCM\n",
      "path /media/monib/ext1/work2022/Base_Dataset/chest_x_ray_snuh/DICOM 파일 이신애/380/50004759/ㅊㅇㅎ.DCM\n",
      "path /media/monib/ext1/work2022/Base_Dataset/chest_x_ray_snuh/DICOM 파일 이신애/381/50011865/ㄱㅈㅇ.DCM\n",
      "path /media/monib/ext1/work2022/Base_Dataset/chest_x_ray_snuh/DICOM 파일 이신애/384/50068575/ㅊㅂㄱ.DCM\n",
      "path /media/monib/ext1/work2022/Base_Dataset/chest_x_ray_snuh/DICOM 파일 이신애/385/30114900/ㅊㅇㄱ.DCM\n",
      "path /media/monib/ext1/work2022/Base_Dataset/chest_x_ray_snuh/DICOM 파일 이신애/387/50095003/ㅂㅈㅅ.DCM\n",
      "path /media/monib/ext1/work2022/Base_Dataset/chest_x_ray_snuh/DICOM 파일 이신애/388/50110661/ㅅㅎㅅ.DCM\n",
      "path /media/monib/ext1/work2022/Base_Dataset/chest_x_ray_snuh/DICOM 파일 이신애/389/45663149/ㅇㅁㅅ.DCM\n",
      "path /media/monib/ext1/work2022/Base_Dataset/chest_x_ray_snuh/DICOM 파일 이신애/390/19851396/ㅇㅊㅈ.DCM\n",
      "path /media/monib/ext1/work2022/Base_Dataset/chest_x_ray_snuh/DICOM 파일 이신애/391/50124002/ㄳㅂ.DCM\n",
      "path /media/monib/ext1/work2022/Base_Dataset/chest_x_ray_snuh/DICOM 파일 이신애/392/50127474/ㅇㅈㅁ.DCM\n",
      "path /media/monib/ext1/work2022/Base_Dataset/chest_x_ray_snuh/DICOM 파일 이신애/394/50142947/ㅎㅅㅇ.DCM\n",
      "path /media/monib/ext1/work2022/Base_Dataset/chest_x_ray_snuh/DICOM 파일 이신애/395/50149746/ㄱㄱㅇ.DCM\n",
      "path /media/monib/ext1/work2022/Base_Dataset/chest_x_ray_snuh/DICOM 파일 이신애/396/50173958/ㅇㅅ.DCM\n",
      "path /media/monib/ext1/work2022/Base_Dataset/chest_x_ray_snuh/DICOM 파일 이신애/397/50195516/ㅊㅇㄱ.DCM\n",
      "path /media/monib/ext1/work2022/Base_Dataset/chest_x_ray_snuh/DICOM 파일 이신애/398/50201574/ㅇㅅㅇ.DCM\n",
      "path /media/monib/ext1/work2022/Base_Dataset/chest_x_ray_snuh/DICOM 파일 이신애/399/22944193/ㄱㅁㅎ.DCM\n",
      "path /media/monib/ext1/work2022/Base_Dataset/chest_x_ray_snuh/DICOM 파일 이신애/400/30039371/ㅄㄱ.DCM\n",
      "path /media/monib/ext1/work2022/Base_Dataset/chest_x_ray_snuh/DICOM 파일 이신애/401/19650719/ㅇㄳ.DCM\n",
      "path /media/monib/ext1/work2022/Base_Dataset/chest_x_ray_snuh/DICOM 파일 이신애/402/50253854/ㅎㅅㅇ.DCM\n",
      "path /media/monib/ext1/work2022/Base_Dataset/chest_x_ray_snuh/DICOM 파일 이신애/403/50265059/ㄱㅎㅇ.DCM\n",
      "path /media/monib/ext1/work2022/Base_Dataset/chest_x_ray_snuh/DICOM 파일 이신애/406/50288076/ㄵㅎ.DCM\n",
      "path /media/monib/ext1/work2022/Base_Dataset/chest_x_ray_snuh/DICOM 파일 이신애/407/50293009/ㄱㅇㅌ.DCM\n",
      "path /media/monib/ext1/work2022/Base_Dataset/chest_x_ray_snuh/DICOM 파일 이신애/408/74016943/ㅇㅇㅈ.DCM\n",
      "path /media/monib/ext1/work2022/Base_Dataset/chest_x_ray_snuh/DICOM 파일 이신애/409/50309726/ㅇㅇㄷ.DCM\n",
      "path /media/monib/ext1/work2022/Base_Dataset/chest_x_ray_snuh/DICOM 파일 이신애/410/50312258/ㅊㅈㅇ.DCM\n",
      "path /media/monib/ext1/work2022/Base_Dataset/chest_x_ray_snuh/DICOM 파일 이신애/411/50312304/ㄱㅊㄱ.DCM\n",
      "path /media/monib/ext1/work2022/Base_Dataset/chest_x_ray_snuh/DICOM 파일 이신애/412/23359914/ㅎㄷㅅ.DCM\n",
      "path /media/monib/ext1/work2022/Base_Dataset/chest_x_ray_snuh/DICOM 파일 이신애/413/47825943/ㅇㅈㅎ.DCM\n",
      "path /media/monib/ext1/work2022/Base_Dataset/chest_x_ray_snuh/DICOM 파일 이신애/414/27533574/ㅇㅅㅈ.DCM\n",
      "path /media/monib/ext1/work2022/Base_Dataset/chest_x_ray_snuh/DICOM 파일 이신애/416/41740936/ㄱㅁㅎ.DCM\n",
      "path /media/monib/ext1/work2022/Base_Dataset/chest_x_ray_snuh/DICOM 파일 이신애/417/22046929/ㄱㅈㅍ.DCM\n",
      "path /media/monib/ext1/work2022/Base_Dataset/chest_x_ray_snuh/DICOM 파일 이신애/418/47948341/ㄳㄱ.DCM\n",
      "path /media/monib/ext1/work2022/Base_Dataset/chest_x_ray_snuh/DICOM 파일 이신애/420/47999318/ㅇㅈㅇ.DCM\n",
      "path /media/monib/ext1/work2022/Base_Dataset/chest_x_ray_snuh/DICOM 파일 이신애/423/25983623/ㅂㅁㅇ.DCM\n",
      "path /media/monib/ext1/work2022/Base_Dataset/chest_x_ray_snuh/DICOM 파일 이신애/424/43457007/ㅊㅎㄱ.DCM\n",
      "path /media/monib/ext1/work2022/Base_Dataset/chest_x_ray_snuh/DICOM 파일 이신애/425/48065333/ㄱㅎㅎ.DCM\n",
      "path /media/monib/ext1/work2022/Base_Dataset/chest_x_ray_snuh/DICOM 파일 이신애/426/48053169/ㅇㅅㅎ.DCM\n",
      "path /media/monib/ext1/work2022/Base_Dataset/chest_x_ray_snuh/DICOM 파일 이신애/427/71769750/ㄱㄱㅎ.DCM\n",
      "path /media/monib/ext1/work2022/Base_Dataset/chest_x_ray_snuh/DICOM 파일 이신애/428/48125987/ㅂㄷㄱ.DCM\n",
      "path /media/monib/ext1/work2022/Base_Dataset/chest_x_ray_snuh/DICOM 파일 이신애/430/48161008/ㅊㅂㅌ.DCM\n",
      "path /media/monib/ext1/work2022/Base_Dataset/chest_x_ray_snuh/DICOM 파일 이신애/431/47825943/ㅇㅈㅎ.DCM\n",
      "path /media/monib/ext1/work2022/Base_Dataset/chest_x_ray_snuh/DICOM 파일 이신애/433/25799316/ㅈㅈㅎ.DCM\n",
      "path /media/monib/ext1/work2022/Base_Dataset/chest_x_ray_snuh/DICOM 파일 이신애/434/47903982/ㄱㄱㅎ.DCM\n",
      "path /media/monib/ext1/work2022/Base_Dataset/chest_x_ray_snuh/DICOM 파일 이신애/435/41740936/ㄱㅁㅎ.DCM\n",
      "path /media/monib/ext1/work2022/Base_Dataset/chest_x_ray_snuh/DICOM 파일 이신애/436/22046929/ㄱㅈㅍ.DCM\n",
      "path /media/monib/ext1/work2022/Base_Dataset/chest_x_ray_snuh/DICOM 파일 이신애/437/47948341/ㄳㄱ.DCM\n",
      "path /media/monib/ext1/work2022/Base_Dataset/chest_x_ray_snuh/DICOM 파일 이신애/439/47999318/ㅇㅈㅇ.DCM\n",
      "path /media/monib/ext1/work2022/Base_Dataset/chest_x_ray_snuh/DICOM 파일 이신애/440/48015345/ㄱㅇㅅ.DCM\n",
      "path /media/monib/ext1/work2022/Base_Dataset/chest_x_ray_snuh/DICOM 파일 이신애/442/71113915/ㅇㄱㅇ.DCM\n",
      "path /media/monib/ext1/work2022/Base_Dataset/chest_x_ray_snuh/DICOM 파일 이신애/443/48177591/ㅇㅇㅅ.DCM\n",
      "path /media/monib/ext1/work2022/Base_Dataset/chest_x_ray_snuh/DICOM 파일 이신애/444/48201944/ㄳㅁ.DCM\n",
      "path /media/monib/ext1/work2022/Base_Dataset/chest_x_ray_snuh/DICOM 파일 이신애/445/48223805/ㅊㅎㅊ.DCM\n",
      "path /media/monib/ext1/work2022/Base_Dataset/chest_x_ray_snuh/DICOM 파일 이신애/447/48295259/ㅎㅊㅎ.DCM\n",
      "path /media/monib/ext1/work2022/Base_Dataset/chest_x_ray_snuh/DICOM 파일 이신애/448/48302993/ㅅㅈㅎ.DCM\n",
      "path /media/monib/ext1/work2022/Base_Dataset/chest_x_ray_snuh/DICOM 파일 이신애/450/37518077/ㅇㅇㅅ.DCM\n",
      "path /media/monib/ext1/work2022/Base_Dataset/chest_x_ray_snuh/DICOM 파일 이신애/451/48348223/ㄱㅍㅎ.DCM\n",
      "path /media/monib/ext1/work2022/Base_Dataset/chest_x_ray_snuh/DICOM 파일 이신애/452/48376103/ㅊㅈㅇ.DCM\n",
      "path /media/monib/ext1/work2022/Base_Dataset/chest_x_ray_snuh/DICOM 파일 이신애/454/48424792/ㅂㅁㄱ.DCM\n",
      "path /media/monib/ext1/work2022/Base_Dataset/chest_x_ray_snuh/DICOM 파일 이신애/456/24744933/ㄱㅇㅇ.DCM\n",
      "path /media/monib/ext1/work2022/Base_Dataset/chest_x_ray_snuh/DICOM 파일 이신애/457/47179176/ㅇㅈㅎ.DCM\n",
      "path /media/monib/ext1/work2022/Base_Dataset/chest_x_ray_snuh/DICOM 파일 이신애/458/48588696/ㅂㅇㅅ.DCM\n",
      "path /media/monib/ext1/work2022/Base_Dataset/chest_x_ray_snuh/DICOM 파일 이신애/459/26671512/ㅂㄷㅊ.DCM\n",
      "path /media/monib/ext1/work2022/Base_Dataset/chest_x_ray_snuh/DICOM 파일 이신애/461/48677781/ㅇㅎㅎ.DCM\n",
      "path /media/monib/ext1/work2022/Base_Dataset/chest_x_ray_snuh/DICOM 파일 이신애/462/39928827/ㅇㅇㅎ.DCM\n",
      "path /media/monib/ext1/work2022/Base_Dataset/chest_x_ray_snuh/DICOM 파일 이신애/463/48759289/ㄱㅎ.DCM\n",
      "path /media/monib/ext1/work2022/Base_Dataset/chest_x_ray_snuh/DICOM 파일 이신애/464/48771087/ㄱㅈㅂ.DCM\n",
      "path /media/monib/ext1/work2022/Base_Dataset/chest_x_ray_snuh/DICOM 파일 이신애/465/48797801/ㅇㅅㅇ.DCM\n",
      "path /media/monib/ext1/work2022/Base_Dataset/chest_x_ray_snuh/DICOM 파일 이신애/466/48822435/ㅊㅅㅊ.DCM\n",
      "path /media/monib/ext1/work2022/Base_Dataset/chest_x_ray_snuh/DICOM 파일 이신애/467/48954200/ㄱㄱㄷ.DCM\n",
      "path /media/monib/ext1/work2022/Base_Dataset/chest_x_ray_snuh/DICOM 파일 이신애/468/29901351/ㅇㅎㅇ.DCM\n",
      "path /media/monib/ext1/work2022/Base_Dataset/chest_x_ray_snuh/DICOM 파일 이신애/470/46504971/ㅇㅅㅈ.DCM\n",
      "path /media/monib/ext1/work2022/Base_Dataset/chest_x_ray_snuh/DICOM 파일 이신애/471/46555979/ㅇㄷㅇ.DCM\n",
      "path /media/monib/ext1/work2022/Base_Dataset/chest_x_ray_snuh/DICOM 파일 이신애/472/46583176/ㅂㅁㄱ.DCM\n",
      "path /media/monib/ext1/work2022/Base_Dataset/chest_x_ray_snuh/DICOM 파일 이신애/473/16843598/ㅁㅊㅇ.DCM\n",
      "path /media/monib/ext1/work2022/Base_Dataset/chest_x_ray_snuh/DICOM 파일 이신애/474/46615345/ㅈㄱㅎ.DCM\n",
      "path /media/monib/ext1/work2022/Base_Dataset/chest_x_ray_snuh/DICOM 파일 이신애/475/30020199/ㅇㅇㅇ.DCM\n",
      "path /media/monib/ext1/work2022/Base_Dataset/chest_x_ray_snuh/DICOM 파일 이신애/476/14183841/ㅎㅇㅅ.DCM\n",
      "path /media/monib/ext1/work2022/Base_Dataset/chest_x_ray_snuh/DICOM 파일 이신애/477/73260792/ㄱㄷㅇ.DCM\n",
      "path /media/monib/ext1/work2022/Base_Dataset/chest_x_ray_snuh/DICOM 파일 이신애/478/46641003/ㅎㅎㅊ.DCM\n",
      "path /media/monib/ext1/work2022/Base_Dataset/chest_x_ray_snuh/DICOM 파일 이신애/479/46642556/ㅈㅁㅇ.DCM\n",
      "path /media/monib/ext1/work2022/Base_Dataset/chest_x_ray_snuh/DICOM 파일 이신애/480/70828377/ㅂㅎㅅ.DCM\n",
      "path /media/monib/ext1/work2022/Base_Dataset/chest_x_ray_snuh/DICOM 파일 이신애/481/23399789/ㅎㅈㄱ.DCM\n",
      "path /media/monib/ext1/work2022/Base_Dataset/chest_x_ray_snuh/DICOM 파일 이신애/482/46689896/ㅈㅂㄴ.DCM\n",
      "path /media/monib/ext1/work2022/Base_Dataset/chest_x_ray_snuh/DICOM 파일 이신애/483/46698326/ㅁㅂㄱ.DCM\n",
      "path /media/monib/ext1/work2022/Base_Dataset/chest_x_ray_snuh/DICOM 파일 이신애/484/46792367/ㄱㄴㄱ.DCM\n",
      "path /media/monib/ext1/work2022/Base_Dataset/chest_x_ray_snuh/DICOM 파일 이신애/485/43924677/ㅅㅈㄱ.DCM\n",
      "path /media/monib/ext1/work2022/Base_Dataset/chest_x_ray_snuh/DICOM 파일 이신애/486/46854823/ㅎㅈㅅ.DCM\n",
      "path /media/monib/ext1/work2022/Base_Dataset/chest_x_ray_snuh/DICOM 파일 이신애/488/46880404/ㅊㅂㄱ.DCM\n",
      "path /media/monib/ext1/work2022/Base_Dataset/chest_x_ray_snuh/DICOM 파일 이신애/491/46918532/ㅈㅎㄱ.DCM\n",
      "path /media/monib/ext1/work2022/Base_Dataset/chest_x_ray_snuh/DICOM 파일 이신애/492/46934541/ㅎㅇㅈ.DCM\n",
      "path /media/monib/ext1/work2022/Base_Dataset/chest_x_ray_snuh/DICOM 파일 이신애/493/16396218/ㄱㅇㅈ.DCM\n",
      "path /media/monib/ext1/work2022/Base_Dataset/chest_x_ray_snuh/DICOM 파일 이신애/494/46983783/ㅂㅁㄱ.DCM\n",
      "path /media/monib/ext1/work2022/Base_Dataset/chest_x_ray_snuh/DICOM 파일 이신애/495/44124634/ㅎㅅㅁ.DCM\n",
      "path /media/monib/ext1/work2022/Base_Dataset/chest_x_ray_snuh/DICOM 파일 이신애/496/29306196/ㅇㅅㅇ.DCM\n",
      "path /media/monib/ext1/work2022/Base_Dataset/chest_x_ray_snuh/DICOM 파일 이신애/498/73227043/ㄳㅁ.DCM\n",
      "path /media/monib/ext1/work2022/Base_Dataset/chest_x_ray_snuh/DICOM 파일 이신애/499/47037056/ㅇㅊㅅ.DCM\n",
      "path /media/monib/ext1/work2022/Base_Dataset/chest_x_ray_snuh/DICOM 파일 이신애/500/28301802/ㄱㅇㅊ.DCM\n",
      "path /media/monib/ext1/work2022/Base_Dataset/chest_x_ray_snuh/DICOM 파일 이신애/501/47060412/ㅇㅎㅈ.DCM\n",
      "path /media/monib/ext1/work2022/Base_Dataset/chest_x_ray_snuh/DICOM 파일 이신애/502/46601339/ㅇㅎㅂ.DCM\n",
      "path /media/monib/ext1/work2022/Base_Dataset/chest_x_ray_snuh/DICOM 파일 이신애/503/73000116/ㄱㅈㅎ.DCM\n",
      "path /media/monib/ext1/work2022/Base_Dataset/chest_x_ray_snuh/DICOM 파일 이신애/504/47076727/ㄱㅎㄴ.DCM\n",
      "path /media/monib/ext1/work2022/Base_Dataset/chest_x_ray_snuh/DICOM 파일 이신애/505/35257066/ㅎㅅㅁ.DCM\n",
      "path /media/monib/ext1/work2022/Base_Dataset/chest_x_ray_snuh/DICOM 파일 이신애/506/19011129/ㄱㅊㅌ.DCM\n",
      "path /media/monib/ext1/work2022/Base_Dataset/chest_x_ray_snuh/DICOM 파일 이신애/507/43608797/ㅇㅎㅁ.DCM\n",
      "path /media/monib/ext1/work2022/Base_Dataset/chest_x_ray_snuh/DICOM 파일 이신애/508/47131097/ㅈㅇㅎ.DCM\n",
      "path /media/monib/ext1/work2022/Base_Dataset/chest_x_ray_snuh/DICOM 파일 이신애/509/47137552/ㅇㅅㅇ.DCM\n",
      "path /media/monib/ext1/work2022/Base_Dataset/chest_x_ray_snuh/DICOM 파일 이신애/510/46329620/ㅇㅅㅈ.DCM\n",
      "path /media/monib/ext1/work2022/Base_Dataset/chest_x_ray_snuh/DICOM 파일 이신애/511/47150430/ㅇㅅㅈ.DCM\n",
      "path /media/monib/ext1/work2022/Base_Dataset/chest_x_ray_snuh/DICOM 파일 이신애/512/45276259/ㅇㅅㅎ.DCM\n",
      "path /media/monib/ext1/work2022/Base_Dataset/chest_x_ray_snuh/DICOM 파일 이신애/513/47173750/ㄱㄷㅅ.DCM\n",
      "path /media/monib/ext1/work2022/Base_Dataset/chest_x_ray_snuh/DICOM 파일 이신애/514/47192131/ㄱㅂㄱ.DCM\n",
      "path /media/monib/ext1/work2022/Base_Dataset/chest_x_ray_snuh/DICOM 파일 이신애/515/47200809/ㅇㅅㅈ.DCM\n",
      "path /media/monib/ext1/work2022/Base_Dataset/chest_x_ray_snuh/DICOM 파일 이신애/516/27666188/ㅅㅅㅎ.DCM\n",
      "path /media/monib/ext1/work2022/Base_Dataset/chest_x_ray_snuh/DICOM 파일 이신애/517/47214187/ㅇㅇㅇ.DCM\n",
      "path /media/monib/ext1/work2022/Base_Dataset/chest_x_ray_snuh/DICOM 파일 이신애/519/47222429/ㄱㄴㅅ.DCM\n",
      "path /media/monib/ext1/work2022/Base_Dataset/chest_x_ray_snuh/DICOM 파일 이신애/520/29227402/ㅊㅈㅎ.DCM\n",
      "path /media/monib/ext1/work2022/Base_Dataset/chest_x_ray_snuh/DICOM 파일 이신애/522/74510111/ㅂㅈㅅ.DCM\n",
      "path /media/monib/ext1/work2022/Base_Dataset/chest_x_ray_snuh/DICOM 파일 이신애/523/44402668/ㄱㅈㅎ.DCM\n",
      "path /media/monib/ext1/work2022/Base_Dataset/chest_x_ray_snuh/DICOM 파일 이신애/524/22270847/ㅅㅈㅅ.DCM\n",
      "path /media/monib/ext1/work2022/Base_Dataset/chest_x_ray_snuh/DICOM 파일 이신애/526/47332016/ㅇㅈㅇ.DCM\n",
      "path /media/monib/ext1/work2022/Base_Dataset/chest_x_ray_snuh/DICOM 파일 이신애/528/47256453/ㅎㄷㅅ.DCM\n",
      "path /media/monib/ext1/work2022/Base_Dataset/chest_x_ray_snuh/DICOM 파일 이신애/529/26099848/ㄳㅎ.DCM\n",
      "path /media/monib/ext1/work2022/Base_Dataset/chest_x_ray_snuh/DICOM 파일 이신애/530/43463172/ㄱㅁㅇ.DCM\n",
      "path /media/monib/ext1/work2022/Base_Dataset/chest_x_ray_snuh/DICOM 파일 이신애/531/26725200/ㄳㅇ.DCM\n",
      "path /media/monib/ext1/work2022/Base_Dataset/chest_x_ray_snuh/DICOM 파일 이신애/532/47448579/ㄳㅁ.DCM\n",
      "path /media/monib/ext1/work2022/Base_Dataset/chest_x_ray_snuh/DICOM 파일 이신애/533/47464355/ㅂㄶ.DCM\n",
      "path /media/monib/ext1/work2022/Base_Dataset/chest_x_ray_snuh/DICOM 파일 이신애/534/26704607/ㅁㅅㅎ.DCM\n",
      "path /media/monib/ext1/work2022/Base_Dataset/chest_x_ray_snuh/DICOM 파일 이신애/535/47475982/ㅇㅊㅅ.DCM\n",
      "path /media/monib/ext1/work2022/Base_Dataset/chest_x_ray_snuh/DICOM 파일 이신애/536/46029881/ㄱㅇㅁ.DCM\n",
      "path /media/monib/ext1/work2022/Base_Dataset/chest_x_ray_snuh/DICOM 파일 이신애/537/47490556/ㄱㄱㅎ.DCM\n",
      "path /media/monib/ext1/work2022/Base_Dataset/chest_x_ray_snuh/DICOM 파일 이신애/538/47338689/ㅇㅎㄱ.DCM\n",
      "path /media/monib/ext1/work2022/Base_Dataset/chest_x_ray_snuh/DICOM 파일 이신애/540/47544251/ㅎㅅㅇ.DCM\n",
      "path /media/monib/ext1/work2022/Base_Dataset/chest_x_ray_snuh/DICOM 파일 이신애/541/18296491/ㅎㅇㅅ.DCM\n",
      "path /media/monib/ext1/work2022/Base_Dataset/chest_x_ray_snuh/DICOM 파일 이신애/542/47550162/ㅂㅈㅅ.DCM\n",
      "path /media/monib/ext1/work2022/Base_Dataset/chest_x_ray_snuh/DICOM 파일 이신애/543/47569438/ㅊㄳ.DCM\n",
      "path /media/monib/ext1/work2022/Base_Dataset/chest_x_ray_snuh/DICOM 파일 이신애/544/47642580/ㅈㄱㅂ.DCM\n",
      "path /media/monib/ext1/work2022/Base_Dataset/chest_x_ray_snuh/DICOM 파일 이신애/545/47643691/ㄵㅎ.DCM\n",
      "path /media/monib/ext1/work2022/Base_Dataset/chest_x_ray_snuh/DICOM 파일 이신애/546/28175034/ㄱㄷㅊ.DCM\n",
      "path /media/monib/ext1/work2022/Base_Dataset/chest_x_ray_snuh/DICOM 파일 이신애/547/47655430/ㅅㅇㅊ.DCM\n",
      "path /media/monib/ext1/work2022/Base_Dataset/chest_x_ray_snuh/DICOM 파일 이신애/548/47657900/ㄱㅁㅅ.DCM\n",
      "path /media/monib/ext1/work2022/Base_Dataset/chest_x_ray_snuh/DICOM 파일 이신애/549/35475352/ㅇㅇㅅ.DCM\n",
      "path /media/monib/ext1/work2022/Base_Dataset/chest_x_ray_snuh/DICOM 파일 이신애/550/47664573/ㅂㅇㅎ.DCM\n",
      "path /media/monib/ext1/work2022/Base_Dataset/chest_x_ray_snuh/DICOM 파일 이신애/551/47708891/ㅈㅎㅅ.DCM\n",
      "path /media/monib/ext1/work2022/Base_Dataset/chest_x_ray_snuh/DICOM 파일 이신애/553/41022746/ㅁㅈㅅ.DCM\n",
      "path /media/monib/ext1/work2022/Base_Dataset/chest_x_ray_snuh/DICOM 파일 이신애/554/36905995/ㄱㅇㄹ.DCM\n",
      "path /media/monib/ext1/work2022/Base_Dataset/chest_x_ray_snuh/DICOM 파일 이신애/555/15228057/ㅇㅅㅁ.DCM\n",
      "path /media/monib/ext1/work2022/Base_Dataset/chest_x_ray_snuh/DICOM 파일 이신애/556/37050968/ㅇㅂㅎ.DCM\n",
      "path /media/monib/ext1/work2022/Base_Dataset/chest_x_ray_snuh/DICOM 파일 이신애/557/32758173/ㅇㅂㅈ.DCM\n",
      "path /media/monib/ext1/work2022/Base_Dataset/chest_x_ray_snuh/DICOM 파일 이신애/558/21150096/ㅈㅅㅇ.DCM\n",
      "path /media/monib/ext1/work2022/Base_Dataset/chest_x_ray_snuh/DICOM 파일 이신애/559/42320195/ㅇㅎㅈ.DCM\n",
      "path /media/monib/ext1/work2022/Base_Dataset/chest_x_ray_snuh/DICOM 파일 이신애/560/45255283/ㅇㅅㅇ.DCM\n",
      "path /media/monib/ext1/work2022/Base_Dataset/chest_x_ray_snuh/DICOM 파일 이신애/561/45267279/ㅇㅅㅈ.DCM\n",
      "path /media/monib/ext1/work2022/Base_Dataset/chest_x_ray_snuh/DICOM 파일 이신애/562/30352430/ㄱㅎㅎ.DCM\n",
      "path /media/monib/ext1/work2022/Base_Dataset/chest_x_ray_snuh/DICOM 파일 이신애/563/30461606/ㅎㅅㄱ.DCM\n",
      "path /media/monib/ext1/work2022/Base_Dataset/chest_x_ray_snuh/DICOM 파일 이신애/564/45276259/ㅇㅅㅎ.DCM\n",
      "path /media/monib/ext1/work2022/Base_Dataset/chest_x_ray_snuh/DICOM 파일 이신애/565/45278370/ㅇㅁㅅ.DCM\n",
      "path /media/monib/ext1/work2022/Base_Dataset/chest_x_ray_snuh/DICOM 파일 이신애/566/45284887/ㄱㅄ.DCM\n",
      "path /media/monib/ext1/work2022/Base_Dataset/chest_x_ray_snuh/DICOM 파일 이신애/567/23149030/ㄱㅍㅈ.DCM\n",
      "path /media/monib/ext1/work2022/Base_Dataset/chest_x_ray_snuh/DICOM 파일 이신애/568/39367864/ㅊㅇㄹ.DCM\n",
      "path /media/monib/ext1/work2022/Base_Dataset/chest_x_ray_snuh/DICOM 파일 이신애/569/18368411/ㅇㅊㅎ.DCM\n",
      "path /media/monib/ext1/work2022/Base_Dataset/chest_x_ray_snuh/DICOM 파일 이신애/570/45307603/ㅊㅇㅅ.DCM\n",
      "path /media/monib/ext1/work2022/Base_Dataset/chest_x_ray_snuh/DICOM 파일 이신애/571/43791473/ㅍㅈㅅ.DCM\n",
      "path /media/monib/ext1/work2022/Base_Dataset/chest_x_ray_snuh/DICOM 파일 이신애/572/39871185/ㅈㅇㅇ.DCM\n",
      "path /media/monib/ext1/work2022/Base_Dataset/chest_x_ray_snuh/DICOM 파일 이신애/573/13506294/ㅊㄱㅎ.DCM\n",
      "path /media/monib/ext1/work2022/Base_Dataset/chest_x_ray_snuh/DICOM 파일 이신애/574/18752643/ㅈㅅㄹ.DCM\n",
      "path /media/monib/ext1/work2022/Base_Dataset/chest_x_ray_snuh/DICOM 파일 이신애/575/21672990/ㅈㅇㅈ.DCM\n",
      "path /media/monib/ext1/work2022/Base_Dataset/chest_x_ray_snuh/DICOM 파일 이신애/576/22741387/ㅇㅅㅇ.DCM\n",
      "path /media/monib/ext1/work2022/Base_Dataset/chest_x_ray_snuh/DICOM 파일 이신애/577/32517226/ㅎㅅㅂ.DCM\n",
      "path /media/monib/ext1/work2022/Base_Dataset/chest_x_ray_snuh/DICOM 파일 이신애/578/45329735/ㅇㄳ.DCM\n",
      "path /media/monib/ext1/work2022/Base_Dataset/chest_x_ray_snuh/DICOM 파일 이신애/580/45329874/ㄷㅇㄴ.DCM\n",
      "path /media/monib/ext1/work2022/Base_Dataset/chest_x_ray_snuh/DICOM 파일 이신애/581/36032400/ㅇㄱㅈ.DCM\n",
      "path /media/monib/ext1/work2022/Base_Dataset/chest_x_ray_snuh/DICOM 파일 이신애/582/16393930/ㅊㅇㅈ.DCM\n",
      "path /media/monib/ext1/work2022/Base_Dataset/chest_x_ray_snuh/DICOM 파일 이신애/583/33281816/ㅇㅊㄴ.DCM\n",
      "path /media/monib/ext1/work2022/Base_Dataset/chest_x_ray_snuh/DICOM 파일 이신애/584/15554004/ㄱㅈㅅ.DCM\n",
      "path /media/monib/ext1/work2022/Base_Dataset/chest_x_ray_snuh/DICOM 파일 이신애/585/45353954/ㅇㅇㅎ.DCM\n",
      "path /media/monib/ext1/work2022/Base_Dataset/chest_x_ray_snuh/DICOM 파일 이신애/586/19256179/ㄱㅌㅎ.DCM\n",
      "path /media/monib/ext1/work2022/Base_Dataset/chest_x_ray_snuh/DICOM 파일 이신애/587/38620315/ㅈㄱㅎ.DCM\n",
      "path /media/monib/ext1/work2022/Base_Dataset/chest_x_ray_snuh/DICOM 파일 이신애/588/19327297/ㅇㅎㅇ.DCM\n",
      "path /media/monib/ext1/work2022/Base_Dataset/chest_x_ray_snuh/DICOM 파일 이신애/589/45373965/ㅊㅎㅇ.DCM\n",
      "path /media/monib/ext1/work2022/Base_Dataset/chest_x_ray_snuh/DICOM 파일 이신애/590/45374076/ㅄㅁ.DCM\n",
      "path /media/monib/ext1/work2022/Base_Dataset/chest_x_ray_snuh/DICOM 파일 이신애/591/45385418/ㅈㅅㄱ.DCM\n",
      "path /media/monib/ext1/work2022/Base_Dataset/chest_x_ray_snuh/DICOM 파일 이신애/592/44307547/ㄳㅎ.DCM\n",
      "path /media/monib/ext1/work2022/Base_Dataset/chest_x_ray_snuh/DICOM 파일 이신애/593/35074982/ㄱㄷㅈ.DCM\n",
      "path /media/monib/ext1/work2022/Base_Dataset/chest_x_ray_snuh/DICOM 파일 이신애/594/20551641/ㅎㅁㅅ.DCM\n",
      "path /media/monib/ext1/work2022/Base_Dataset/chest_x_ray_snuh/DICOM 파일 이신애/595/23667110/ㄱㅈㅇ.DCM\n",
      "path /media/monib/ext1/work2022/Base_Dataset/chest_x_ray_snuh/DICOM 파일 이신애/596/39962997/ㄳㅎ.DCM\n",
      "path /media/monib/ext1/work2022/Base_Dataset/chest_x_ray_snuh/DICOM 파일 이신애/597/35784544/ㅇㅁㅎ.DCM\n",
      "path /media/monib/ext1/work2022/Base_Dataset/chest_x_ray_snuh/DICOM 파일 이신애/598/28248189/ㅇㅈㅎ.DCM\n",
      "path /media/monib/ext1/work2022/Base_Dataset/chest_x_ray_snuh/DICOM 파일 이신애/599/26021131/ㅈㅎㄱ.DCM\n",
      "path /media/monib/ext1/work2022/Base_Dataset/chest_x_ray_snuh/DICOM 파일 이신애/600/43259328/ㅈㅇㅌ.DCM\n",
      "path /media/monib/ext1/work2022/Base_Dataset/chest_x_ray_snuh/DICOM 파일 이신애/601/45417492/ㅅㅅㄱ.DCM\n",
      "path /media/monib/ext1/work2022/Base_Dataset/chest_x_ray_snuh/DICOM 파일 이신애/602/37434364/ㅇㄱㅈ.DCM\n",
      "path /media/monib/ext1/work2022/Base_Dataset/chest_x_ray_snuh/DICOM 파일 이신애/603/45420102/ㅇㅇㄱ.DCM\n",
      "path /media/monib/ext1/work2022/Base_Dataset/chest_x_ray_snuh/DICOM 파일 이신애/605/31108193/ㅊㄷㅅ.DCM\n",
      "path /media/monib/ext1/work2022/Base_Dataset/chest_x_ray_snuh/DICOM 파일 이신애/606/37048244/ㅄㅎ.DCM\n",
      "path /media/monib/ext1/work2022/Base_Dataset/chest_x_ray_snuh/DICOM 파일 이신애/607/45435630/ㅊㅅㄷ.DCM\n",
      "path /media/monib/ext1/work2022/Base_Dataset/chest_x_ray_snuh/DICOM 파일 이신애/608/45453582/ㄳㄴ.DCM\n",
      "path /media/monib/ext1/work2022/Base_Dataset/chest_x_ray_snuh/DICOM 파일 이신애/610/25910548/ㅊㅇㅅ.DCM\n",
      "path /media/monib/ext1/work2022/Base_Dataset/chest_x_ray_snuh/DICOM 파일 이신애/611/41184613/ㅎㅅㅊ.DCM\n",
      "path /media/monib/ext1/work2022/Base_Dataset/chest_x_ray_snuh/DICOM 파일 이신애/612/45481835/ㅇㅊㅅ.DCM\n",
      "path /media/monib/ext1/work2022/Base_Dataset/chest_x_ray_snuh/DICOM 파일 이신애/613/36283758/ㄱㅈㅎ.DCM\n",
      "path /media/monib/ext1/work2022/Base_Dataset/chest_x_ray_snuh/DICOM 파일 이신애/614/44860055/ㅇㄱㅈ.DCM\n",
      "path /media/monib/ext1/work2022/Base_Dataset/chest_x_ray_snuh/DICOM 파일 이신애/615/42861588/ㄱㄱㅁ.DCM\n",
      "path /media/monib/ext1/work2022/Base_Dataset/chest_x_ray_snuh/DICOM 파일 이신애/616/24935227/ㅎㅇㅈ.DCM\n",
      "path /media/monib/ext1/work2022/Base_Dataset/chest_x_ray_snuh/DICOM 파일 이신애/617/45514223/ㅇㄷㅎ.DCM\n",
      "path /media/monib/ext1/work2022/Base_Dataset/chest_x_ray_snuh/DICOM 파일 이신애/618/45524369/ㅎㄷㅇ.DCM\n",
      "path /media/monib/ext1/work2022/Base_Dataset/chest_x_ray_snuh/DICOM 파일 이신애/619/29955170/ㅊㅎㅂ.DCM\n",
      "path /media/monib/ext1/work2022/Base_Dataset/chest_x_ray_snuh/DICOM 파일 이신애/620/45529085/ㄱㅊㅎ.DCM\n",
      "path /media/monib/ext1/work2022/Base_Dataset/chest_x_ray_snuh/DICOM 파일 이신애/621/29484553/ㅊㅂㅇ.DCM\n",
      "path /media/monib/ext1/work2022/Base_Dataset/chest_x_ray_snuh/DICOM 파일 이신애/622/45534342/ㄱㅌㅎ.DCM\n",
      "path /media/monib/ext1/work2022/Base_Dataset/chest_x_ray_snuh/DICOM 파일 이신애/623/30662283/ㅇㅄ0000.DCM\n",
      "path /media/monib/ext1/work2022/Base_Dataset/chest_x_ray_snuh/DICOM 파일 이신애/624/45552124/ㄱㄱㅎ.DCM\n",
      "path /media/monib/ext1/work2022/Base_Dataset/chest_x_ray_snuh/DICOM 파일 이신애/625/45558324/ㅇㅇㅈ.DCM\n",
      "path /media/monib/ext1/work2022/Base_Dataset/chest_x_ray_snuh/DICOM 파일 이신애/626/45560745/ㅅㅎㅇ.DCM\n",
      "path /media/monib/ext1/work2022/Base_Dataset/chest_x_ray_snuh/DICOM 파일 이신애/627/39100890/ㄱㅈㅅ.DCM\n",
      "path /media/monib/ext1/work2022/Base_Dataset/chest_x_ray_snuh/DICOM 파일 이신애/628/37783934/ㄱㅇㅂ.DCM\n",
      "path /media/monib/ext1/work2022/Base_Dataset/chest_x_ray_snuh/DICOM 파일 이신애/629/30457676/ㄱㅅㄱ.DCM\n",
      "path /media/monib/ext1/work2022/Base_Dataset/chest_x_ray_snuh/DICOM 파일 이신애/631/28454674/ㄳㅅ.DCM\n",
      "path /media/monib/ext1/work2022/Base_Dataset/chest_x_ray_snuh/DICOM 파일 이신애/632/41737125/ㅈㅇㅇ.DCM\n",
      "path /media/monib/ext1/work2022/Base_Dataset/chest_x_ray_snuh/DICOM 파일 이신애/633/42724021/ㅈㅈㅇ.DCM\n",
      "path /media/monib/ext1/work2022/Base_Dataset/chest_x_ray_snuh/DICOM 파일 이신애/634/19177959/ㅇㅇㅅ.DCM\n",
      "path /media/monib/ext1/work2022/Base_Dataset/chest_x_ray_snuh/DICOM 파일 이신애/635/45600908/ㄱㄷㄱ.DCM\n",
      "path /media/monib/ext1/work2022/Base_Dataset/chest_x_ray_snuh/DICOM 파일 이신애/636/45601057/ㅇㅎㄱ.DCM\n",
      "path /media/monib/ext1/work2022/Base_Dataset/chest_x_ray_snuh/DICOM 파일 이신애/638/45611078/ㅅㅈㅎ.DCM\n",
      "path /media/monib/ext1/work2022/Base_Dataset/chest_x_ray_snuh/DICOM 파일 이신애/639/26521941/ㄱㅇㅂ.DCM\n",
      "path /media/monib/ext1/work2022/Base_Dataset/chest_x_ray_snuh/DICOM 파일 이신애/640/45617456/ㅇㅊㄴ.DCM\n",
      "path /media/monib/ext1/work2022/Base_Dataset/chest_x_ray_snuh/DICOM 파일 이신애/641/21352133/ㅂㅇㅇ.DCM\n",
      "path /media/monib/ext1/work2022/Base_Dataset/chest_x_ray_snuh/DICOM 파일 이신애/642/45634716/ㅅㅅㅇ.DCM\n",
      "path /media/monib/ext1/work2022/Base_Dataset/chest_x_ray_snuh/DICOM 파일 이신애/643/45639728/ㅇㄷㅈ.DCM\n",
      "path /media/monib/ext1/work2022/Base_Dataset/chest_x_ray_snuh/DICOM 파일 이신애/645/42983231/ㄳㅂ.DCM\n",
      "path /media/monib/ext1/work2022/Base_Dataset/chest_x_ray_snuh/DICOM 파일 이신애/647/17228527/ㄱㄱㅇ.DCM\n",
      "path /media/monib/ext1/work2022/Base_Dataset/chest_x_ray_snuh/DICOM 파일 이신애/648/22873556/ㅇㄷㅅ.DCM\n",
      "path /media/monib/ext1/work2022/Base_Dataset/chest_x_ray_snuh/DICOM 파일 이신애/649/35683773/ㄱㅂㅇ.DCM\n",
      "path /media/monib/ext1/work2022/Base_Dataset/chest_x_ray_snuh/DICOM 파일 이신애/650/45686762/ㅂㅎㅇ.DCM\n",
      "path /media/monib/ext1/work2022/Base_Dataset/chest_x_ray_snuh/DICOM 파일 이신애/651/45658332/ㅇㅎㅈ.DCM\n",
      "path /media/monib/ext1/work2022/Base_Dataset/chest_x_ray_snuh/DICOM 파일 이신애/652/31386544/ㅇㅎㅅ.DCM\n",
      "path /media/monib/ext1/work2022/Base_Dataset/chest_x_ray_snuh/DICOM 파일 이신애/653/16837632/ㅈㅅㅊ.DCM\n",
      "path /media/monib/ext1/work2022/Base_Dataset/chest_x_ray_snuh/DICOM 파일 이신애/654/13490173/ㄱㅈㅈ.DCM\n",
      "path /media/monib/ext1/work2022/Base_Dataset/chest_x_ray_snuh/DICOM 파일 이신애/655/23513352/ㅇㄱㅇ.DCM\n",
      "path /media/monib/ext1/work2022/Base_Dataset/chest_x_ray_snuh/DICOM 파일 이신애/656/33470469/ㄱㅇㅎ.DCM\n",
      "path /media/monib/ext1/work2022/Base_Dataset/chest_x_ray_snuh/DICOM 파일 이신애/657/45683136/ㅈㅁㅅ.DCM\n",
      "path /media/monib/ext1/work2022/Base_Dataset/chest_x_ray_snuh/DICOM 파일 이신애/658/41677038/ㅎㅇㅎ.DCM\n",
      "path /media/monib/ext1/work2022/Base_Dataset/chest_x_ray_snuh/DICOM 파일 이신애/660/45686849/ㄱㄷㅎ.DCM\n",
      "path /media/monib/ext1/work2022/Base_Dataset/chest_x_ray_snuh/DICOM 파일 이신애/661/27823486/ㅇㅁㅅ.DCM\n",
      "path /media/monib/ext1/work2022/Base_Dataset/chest_x_ray_snuh/DICOM 파일 이신애/662/15595966/ㄱㅇㅅ.DCM\n",
      "path /media/monib/ext1/work2022/Base_Dataset/chest_x_ray_snuh/DICOM 파일 이신애/663/27860012/ㅇㅈ.DCM\n",
      "path /media/monib/ext1/work2022/Base_Dataset/chest_x_ray_snuh/DICOM 파일 이신애/664/45709393/ㅇㅎㄷ.DCM\n",
      "path /media/monib/ext1/work2022/Base_Dataset/chest_x_ray_snuh/DICOM 파일 이신애/667/32332348/ㄱㅊㅈ.DCM\n",
      "path /media/monib/ext1/work2022/Base_Dataset/chest_x_ray_snuh/DICOM 파일 이신애/668/23031812/ㅇㅇㅅ.DCM\n",
      "path /media/monib/ext1/work2022/Base_Dataset/chest_x_ray_snuh/DICOM 파일 이신애/669/20860383/ㄱㅇㅎ.DCM\n",
      "path /media/monib/ext1/work2022/Base_Dataset/chest_x_ray_snuh/DICOM 파일 이신애/670/15390387/ㅂㅎㅅ.DCM\n",
      "path /media/monib/ext1/work2022/Base_Dataset/chest_x_ray_snuh/DICOM 파일 이신애/672/45759040/ㄱㅇㅈ.DCM\n",
      "path /media/monib/ext1/work2022/Base_Dataset/chest_x_ray_snuh/DICOM 파일 이신애/673/24243207/ㅂㅈㅅ.DCM\n",
      "path /media/monib/ext1/work2022/Base_Dataset/chest_x_ray_snuh/DICOM 파일 이신애/674/45768051/ㅂㅈㅎ.DCM\n",
      "path /media/monib/ext1/work2022/Base_Dataset/chest_x_ray_snuh/DICOM 파일 이신애/675/35931054/ㄱㅈㄱ.DCM\n",
      "path /media/monib/ext1/work2022/Base_Dataset/chest_x_ray_snuh/DICOM 파일 이신애/676/35829788/ㄱㄱㅇ.DCM\n",
      "path /media/monib/ext1/work2022/Base_Dataset/chest_x_ray_snuh/DICOM 파일 이신애/677/45788947/ㅅㅅㅇ.DCM\n",
      "path /media/monib/ext1/work2022/Base_Dataset/chest_x_ray_snuh/DICOM 파일 이신애/678/45802766/ㅇㄷㅎ.DCM\n",
      "path /media/monib/ext1/work2022/Base_Dataset/chest_x_ray_snuh/DICOM 파일 이신애/679/45806698/ㅁㅎㄹ.DCM\n",
      "path /media/monib/ext1/work2022/Base_Dataset/chest_x_ray_snuh/DICOM 파일 이신애/680/24172831/ㄱㅈㅎ.DCM\n",
      "path /media/monib/ext1/work2022/Base_Dataset/chest_x_ray_snuh/DICOM 파일 이신애/681/17951517/ㄳㅎ.DCM\n",
      "path /media/monib/ext1/work2022/Base_Dataset/chest_x_ray_snuh/DICOM 파일 이신애/682/35564997/ㅅㄳ.DCM\n",
      "path /media/monib/ext1/work2022/Base_Dataset/chest_x_ray_snuh/DICOM 파일 이신애/683/45832387/ㅇㅊㅁ.DCM\n",
      "path /media/monib/ext1/work2022/Base_Dataset/chest_x_ray_snuh/DICOM 파일 이신애/684/24815099/ㄱㅌㄱ.DCM\n",
      "path /media/monib/ext1/work2022/Base_Dataset/chest_x_ray_snuh/DICOM 파일 이신애/685/45845857/ㅂㄷㅅ.DCM\n",
      "path /media/monib/ext1/work2022/Base_Dataset/chest_x_ray_snuh/DICOM 파일 이신애/686/34386978/ㅅㅇㅇ.DCM\n",
      "path /media/monib/ext1/work2022/Base_Dataset/chest_x_ray_snuh/DICOM 파일 이신애/687/42612654/ㄳㅇ.DCM\n",
      "path /media/monib/ext1/work2022/Base_Dataset/chest_x_ray_snuh/DICOM 파일 이신애/688/20864051/ㅇㅇㄱ.DCM\n",
      "path /media/monib/ext1/work2022/Base_Dataset/chest_x_ray_snuh/DICOM 파일 이신애/689/31391553/ㅂㅈㄹ.DCM\n",
      "path /media/monib/ext1/work2022/Base_Dataset/chest_x_ray_snuh/DICOM 파일 이신애/690/45882399/ㅇㄴㅇ.DCM\n",
      "path /media/monib/ext1/work2022/Base_Dataset/chest_x_ray_snuh/DICOM 파일 이신애/691/14397734/ㅂㅇㅅ.DCM\n",
      "path /media/monib/ext1/work2022/Base_Dataset/chest_x_ray_snuh/DICOM 파일 이신애/692/29780275/ㅇㅅㅈ.DCM\n",
      "path /media/monib/ext1/work2022/Base_Dataset/chest_x_ray_snuh/DICOM 파일 이신애/693/35036726/ㄱㅄ.DCM\n",
      "path /media/monib/ext1/work2022/Base_Dataset/chest_x_ray_snuh/DICOM 파일 이신애/694/27484331/ㅇㄷㄹ.DCM\n",
      "path /media/monib/ext1/work2022/Base_Dataset/chest_x_ray_snuh/DICOM 파일 이신애/696/29177165/ㄴㅊㅂ.DCM\n",
      "path /media/monib/ext1/work2022/Base_Dataset/chest_x_ray_snuh/DICOM 파일 이신애/697/24604857/ㅂㅇㅎ.DCM\n",
      "path /media/monib/ext1/work2022/Base_Dataset/chest_x_ray_snuh/DICOM 파일 이신애/698/45905999/ㄳㅇ.DCM\n",
      "path /media/monib/ext1/work2022/Base_Dataset/chest_x_ray_snuh/DICOM 파일 이신애/699/45907971/ㄳㅅ.DCM\n",
      "path /media/monib/ext1/work2022/Base_Dataset/chest_x_ray_snuh/DICOM 파일 이신애/700/45909768/ㅇㅈㅇ.DCM\n",
      "path /media/monib/ext1/work2022/Base_Dataset/chest_x_ray_snuh/DICOM 파일 이신애/701/14243154/ㅊㅂㅎ.DCM\n",
      "path /media/monib/ext1/work2022/Base_Dataset/chest_x_ray_snuh/DICOM 파일 이신애/702/16471669/ㄱㅇㅌ.DCM\n",
      "path /media/monib/ext1/work2022/Base_Dataset/chest_x_ray_snuh/DICOM 파일 이신애/703/45911280/ㅊㅎㅅ.DCM\n",
      "path /media/monib/ext1/work2022/Base_Dataset/chest_x_ray_snuh/DICOM 파일 이신애/704/32095339/ㅇㅇㅇ.DCM\n",
      "path /media/monib/ext1/work2022/Base_Dataset/chest_x_ray_snuh/DICOM 파일 이신애/705/36430059/ㄱㅁㄹ.DCM\n",
      "path /media/monib/ext1/work2022/Base_Dataset/chest_x_ray_snuh/DICOM 파일 이신애/706/34317244/ㅅㅅㅇ.DCM\n",
      "path /media/monib/ext1/work2022/Base_Dataset/chest_x_ray_snuh/DICOM 파일 이신애/707/45135024/ㄱㅎㅇ.DCM\n",
      "path /media/monib/ext1/work2022/Base_Dataset/chest_x_ray_snuh/DICOM 파일 이신애/708/45961090/ㄳㅅ.DCM\n",
      "path /media/monib/ext1/work2022/Base_Dataset/chest_x_ray_snuh/DICOM 파일 이신애/709/22451437/ㅈㄱㅎ.DCM\n",
      "path /media/monib/ext1/work2022/Base_Dataset/chest_x_ray_snuh/DICOM 파일 이신애/710/16204496/ㄱㄱㅈ.DCM\n",
      "path /media/monib/ext1/work2022/Base_Dataset/chest_x_ray_snuh/DICOM 파일 이신애/711/38822779/ㄱㅇㅎ.DCM\n",
      "path /media/monib/ext1/work2022/Base_Dataset/chest_x_ray_snuh/DICOM 파일 이신애/712/45930755/ㅂㅇㅎ.DCM\n",
      "path /media/monib/ext1/work2022/Base_Dataset/chest_x_ray_snuh/DICOM 파일 이신애/713/15775825/ㄱㅈㅂ.DCM\n",
      "path /media/monib/ext1/work2022/Base_Dataset/chest_x_ray_snuh/DICOM 파일 이신애/714/14236505/ㅈㅇㅎ.DCM\n",
      "path /media/monib/ext1/work2022/Base_Dataset/chest_x_ray_snuh/DICOM 파일 이신애/715/45984170/ㅇㅇㅅ.DCM\n",
      "path /media/monib/ext1/work2022/Base_Dataset/chest_x_ray_snuh/DICOM 파일 이신애/717/24503288/ㅇㅅㅊ.DCM\n",
      "path /media/monib/ext1/work2022/Base_Dataset/chest_x_ray_snuh/DICOM 파일 이신애/718/24895608/ㅁㄱㅈ.DCM\n",
      "path /media/monib/ext1/work2022/Base_Dataset/chest_x_ray_snuh/DICOM 파일 이신애/719/45988196/ㅈㄱㅇ.DCM\n",
      "path /media/monib/ext1/work2022/Base_Dataset/chest_x_ray_snuh/DICOM 파일 이신애/720/41806285/ㅂㅈㅎ.DCM\n",
      "path /media/monib/ext1/work2022/Base_Dataset/chest_x_ray_snuh/DICOM 파일 이신애/721/40792251/ㄳㅎ.DCM\n",
      "path /media/monib/ext1/work2022/Base_Dataset/chest_x_ray_snuh/DICOM 파일 이신애/722/16951057/ㅇㅇㅅ.DCM\n",
      "path /media/monib/ext1/work2022/Base_Dataset/chest_x_ray_snuh/DICOM 파일 이신애/723/45993686/ㄱㄱㅈ.DCM\n",
      "path /media/monib/ext1/work2022/Base_Dataset/chest_x_ray_snuh/DICOM 파일 이신애/724/38452149/ㅅㅅㅇ.DCM\n",
      "path /media/monib/ext1/work2022/Base_Dataset/chest_x_ray_snuh/DICOM 파일 이신애/725/46003199/ㅇㅅㅈ.DCM\n",
      "path /media/monib/ext1/work2022/Base_Dataset/chest_x_ray_snuh/DICOM 파일 이신애/726/25278516/ㅇㅇㅅ.DCM\n",
      "path /media/monib/ext1/work2022/Base_Dataset/chest_x_ray_snuh/DICOM 파일 이신애/727/42012843/ㄱㅎㅈ.DCM\n",
      "path /media/monib/ext1/work2022/Base_Dataset/chest_x_ray_snuh/DICOM 파일 이신애/728/22953368/ㄱㄷㅇ.DCM\n",
      "path /media/monib/ext1/work2022/Base_Dataset/chest_x_ray_snuh/DICOM 파일 이신애/729/35661285/ㄱㅂㅇ.DCM\n",
      "path /media/monib/ext1/work2022/Base_Dataset/chest_x_ray_snuh/DICOM 파일 이신애/730/34752188/ㅁㄳ.DCM\n",
      "path /media/monib/ext1/work2022/Base_Dataset/chest_x_ray_snuh/DICOM 파일 이신애/732/46008853/ㄱㅇㅊ.DCM\n",
      "path /media/monib/ext1/work2022/Base_Dataset/chest_x_ray_snuh/DICOM 파일 이신애/733/46024684/ㄱㅂㅇ.DCM\n",
      "path /media/monib/ext1/work2022/Base_Dataset/chest_x_ray_snuh/DICOM 파일 이신애/734/36072408/ㅂㄱㅎ.DCM\n",
      "path /media/monib/ext1/work2022/Base_Dataset/chest_x_ray_snuh/DICOM 파일 이신애/735/43696376/ㅇㅊㅎ.DCM\n",
      "path /media/monib/ext1/work2022/Base_Dataset/chest_x_ray_snuh/DICOM 파일 이신애/736/30396702/ㄱㅇㅅ.DCM\n",
      "path /media/monib/ext1/work2022/Base_Dataset/chest_x_ray_snuh/DICOM 파일 이신애/737/26705725/ㅇㄷㅊ.DCM\n",
      "path /media/monib/ext1/work2022/Base_Dataset/chest_x_ray_snuh/DICOM 파일 이신애/738/46053613/ㄱㅁㅅ.DCM\n",
      "path /media/monib/ext1/work2022/Base_Dataset/chest_x_ray_snuh/DICOM 파일 이신애/739/38085020/ㄳㅈ.DCM\n",
      "path /media/monib/ext1/work2022/Base_Dataset/chest_x_ray_snuh/DICOM 파일 이신애/740/36442735/ㅅㅇㅅ.DCM\n",
      "path /media/monib/ext1/work2022/Base_Dataset/chest_x_ray_snuh/DICOM 파일 이신애/741/45410840/ㄱㅇㅅ.DCM\n",
      "path /media/monib/ext1/work2022/Base_Dataset/chest_x_ray_snuh/DICOM 파일 이신애/742/26226347/ㄱㅇㅅ.DCM\n",
      "path /media/monib/ext1/work2022/Base_Dataset/chest_x_ray_snuh/DICOM 파일 이신애/743/24700003/ㅈㅊㄴ.DCM\n",
      "path /media/monib/ext1/work2022/Base_Dataset/chest_x_ray_snuh/DICOM 파일 이신애/744/41032628/ㅇㅈㅂ.DCM\n",
      "path /media/monib/ext1/work2022/Base_Dataset/chest_x_ray_snuh/DICOM 파일 이신애/745/46077215/ㄳㅈ.DCM\n",
      "path /media/monib/ext1/work2022/Base_Dataset/chest_x_ray_snuh/DICOM 파일 이신애/747/42289270/ㅈㅇㅎ.DCM\n",
      "path /media/monib/ext1/work2022/Base_Dataset/chest_x_ray_snuh/DICOM 파일 이신애/748/35564098/ㅇㅎ.DCM\n",
      "path /media/monib/ext1/work2022/Base_Dataset/chest_x_ray_snuh/DICOM 파일 이신애/750/42080295/ㅇㅎㄱ.DCM\n",
      "path /media/monib/ext1/work2022/Base_Dataset/chest_x_ray_snuh/DICOM 파일 이신애/751/18014132/ㅂㅈㅇ.DCM\n",
      "path /media/monib/ext1/work2022/Base_Dataset/chest_x_ray_snuh/DICOM 파일 이신애/752/43612169/ㄱㅇㅎ.DCM\n",
      "path /media/monib/ext1/work2022/Base_Dataset/chest_x_ray_snuh/DICOM 파일 이신애/753/34730955/ㅂㅇㅎ.DCM\n",
      "path /media/monib/ext1/work2022/Base_Dataset/chest_x_ray_snuh/DICOM 파일 이신애/754/12959105/ㅇㅇㄱ.DCM\n",
      "path /media/monib/ext1/work2022/Base_Dataset/chest_x_ray_snuh/DICOM 파일 이신애/755/20665540/ㄱㅈㅊ.DCM\n",
      "path /media/monib/ext1/work2022/Base_Dataset/chest_x_ray_snuh/DICOM 파일 이신애/756/46163510/ㅇㅈㅅ.DCM\n",
      "path /media/monib/ext1/work2022/Base_Dataset/chest_x_ray_snuh/DICOM 파일 이신애/757/30787803/ㅈㅇㅅ.DCM\n",
      "path /media/monib/ext1/work2022/Base_Dataset/chest_x_ray_snuh/DICOM 파일 이신애/758/16837632/ㅈㅅㅊ.DCM\n",
      "path /media/monib/ext1/work2022/Base_Dataset/chest_x_ray_snuh/DICOM 파일 이신애/759/45841925/ㄱㅁㅅ.DCM\n",
      "path /media/monib/ext1/work2022/Base_Dataset/chest_x_ray_snuh/DICOM 파일 이신애/760/42809124/ㅅㅎㄱ.DCM\n",
      "path /media/monib/ext1/work2022/Base_Dataset/chest_x_ray_snuh/DICOM 파일 이신애/761/22872995/ㅅㄱㅇ.DCM\n",
      "path /media/monib/ext1/work2022/Base_Dataset/chest_x_ray_snuh/DICOM 파일 이신애/762/34066375/ㅂㅁㅅ.DCM\n",
      "path /media/monib/ext1/work2022/Base_Dataset/chest_x_ray_snuh/DICOM 파일 이신애/763/46181215/ㅁㅎㅅ.DCM\n",
      "path /media/monib/ext1/work2022/Base_Dataset/chest_x_ray_snuh/DICOM 파일 이신애/764/31247827/ㅊㅇㅅ.DCM\n",
      "path /media/monib/ext1/work2022/Base_Dataset/chest_x_ray_snuh/DICOM 파일 이신애/765/46187150/ㅇㅎㅅ.DCM\n",
      "path /media/monib/ext1/work2022/Base_Dataset/chest_x_ray_snuh/DICOM 파일 이신애/766/46187390/ㄳㅎ.DCM\n",
      "path /media/monib/ext1/work2022/Base_Dataset/chest_x_ray_snuh/DICOM 파일 이신애/767/46191609/ㅇㅁㅅ.DCM\n",
      "path /media/monib/ext1/work2022/Base_Dataset/chest_x_ray_snuh/DICOM 파일 이신애/768/46188704/ㄱㅇㅍ.DCM\n",
      "path /media/monib/ext1/work2022/Base_Dataset/chest_x_ray_snuh/DICOM 파일 이신애/770/34803055/ㅈㅇㄷ.DCM\n",
      "path /media/monib/ext1/work2022/Base_Dataset/chest_x_ray_snuh/DICOM 파일 이신애/771/24972923/ㅈㅇㅈ.DCM\n",
      "path /media/monib/ext1/work2022/Base_Dataset/chest_x_ray_snuh/DICOM 파일 이신애/773/27950270/ㅇㅅㅈ.DCM\n",
      "path /media/monib/ext1/work2022/Base_Dataset/chest_x_ray_snuh/DICOM 파일 이신애/774/46210447/ㅈㅇㅅ.DCM\n",
      "path /media/monib/ext1/work2022/Base_Dataset/chest_x_ray_snuh/DICOM 파일 이신애/775/24712633/ㄳㄱ.DCM\n",
      "path /media/monib/ext1/work2022/Base_Dataset/chest_x_ray_snuh/DICOM 파일 이신애/776/29077993/ㅇㅅㅎ.DCM\n",
      "path /media/monib/ext1/work2022/Base_Dataset/chest_x_ray_snuh/DICOM 파일 이신애/777/28098771/ㅅㅇㅅ.DCM\n",
      "path /media/monib/ext1/work2022/Base_Dataset/chest_x_ray_snuh/DICOM 파일 이신애/778/42056603/ㄱㅈㅇ.DCM\n",
      "path /media/monib/ext1/work2022/Base_Dataset/chest_x_ray_snuh/DICOM 파일 이신애/779/46233286/ㅈㄷㅍ.DCM\n",
      "path /media/monib/ext1/work2022/Base_Dataset/chest_x_ray_snuh/DICOM 파일 이신애/780/28690348/ㄱㅇㅅ.DCM\n",
      "path /media/monib/ext1/work2022/Base_Dataset/chest_x_ray_snuh/DICOM 파일 이신애/781/20864051/ㅇㅇㄱ.DCM\n",
      "path /media/monib/ext1/work2022/Base_Dataset/chest_x_ray_snuh/DICOM 파일 이신애/782/46251501/ㅈㅂㄱ.DCM\n",
      "path /media/monib/ext1/work2022/Base_Dataset/chest_x_ray_snuh/DICOM 파일 이신애/783/46257073/ㅂㄷㅇ.DCM\n",
      "path /media/monib/ext1/work2022/Base_Dataset/chest_x_ray_snuh/DICOM 파일 이신애/784/41623574/ㄱㅈㅎ.DCM\n",
      "path /media/monib/ext1/work2022/Base_Dataset/chest_x_ray_snuh/DICOM 파일 이신애/785/28970145/ㅇㅈㅊ.DCM\n",
      "path /media/monib/ext1/work2022/Base_Dataset/chest_x_ray_snuh/DICOM 파일 이신애/786/46277875/ㅈㅈㅇ.DCM\n",
      "path /media/monib/ext1/work2022/Base_Dataset/chest_x_ray_snuh/DICOM 파일 이신애/787/46279732/ㄱㅇㅈ.DCM\n",
      "path /media/monib/ext1/work2022/Base_Dataset/chest_x_ray_snuh/DICOM 파일 이신애/790/46285395/ㅎㅁㅇ.DCM\n",
      "path /media/monib/ext1/work2022/Base_Dataset/chest_x_ray_snuh/DICOM 파일 이신애/791/23791169/ㅅㅅㅈ.DCM\n",
      "path /media/monib/ext1/work2022/Base_Dataset/chest_x_ray_snuh/DICOM 파일 이신애/792/29117170/ㅇㅇㅅ.DCM\n",
      "path /media/monib/ext1/work2022/Base_Dataset/chest_x_ray_snuh/DICOM 파일 이신애/793/13067869/ㅇㅎㅁ.DCM\n",
      "path /media/monib/ext1/work2022/Base_Dataset/chest_x_ray_snuh/DICOM 파일 이신애/794/새 폴더/ㅇㅈㅎ.DCM\n",
      "path /media/monib/ext1/work2022/Base_Dataset/chest_x_ray_snuh/DICOM 파일 이신애/795/45996825/ㅊㅇㅇ.DCM\n",
      "path /media/monib/ext1/work2022/Base_Dataset/chest_x_ray_snuh/DICOM 파일 이신애/796/33384234/ㅅㅈㅈ.DCM\n",
      "path /media/monib/ext1/work2022/Base_Dataset/chest_x_ray_snuh/DICOM 파일 이신애/797/16110166/ㅊㅎㅇ.DCM\n",
      "path /media/monib/ext1/work2022/Base_Dataset/chest_x_ray_snuh/DICOM 파일 이신애/798/42628969/ㅈㅅㅎ.DCM\n",
      "path /media/monib/ext1/work2022/Base_Dataset/chest_x_ray_snuh/DICOM 파일 이신애/799/40596833/ㅇㅅㅇ.DCM\n",
      "path /media/monib/ext1/work2022/Base_Dataset/chest_x_ray_snuh/DICOM 파일 이신애/800/46338383/ㅇㅇㅌ.DCM\n",
      "path /media/monib/ext1/work2022/Base_Dataset/chest_x_ray_snuh/DICOM 파일 이신애/801/29205046/ㄳㅎ.DCM\n",
      "path /media/monib/ext1/work2022/Base_Dataset/chest_x_ray_snuh/DICOM 파일 이신애/802/24584821/ㄱㅇㅅ.DCM\n",
      "path /media/monib/ext1/work2022/Base_Dataset/chest_x_ray_snuh/DICOM 파일 이신애/805/34999235/ㄱㅈㅅ.DCM\n",
      "path /media/monib/ext1/work2022/Base_Dataset/chest_x_ray_snuh/DICOM 파일 이신애/806/46221207/ㅇㅌㄷ.DCM\n",
      "path /media/monib/ext1/work2022/Base_Dataset/chest_x_ray_snuh/DICOM 파일 이신애/807/16302299/ㅅㅇㅅ.DCM\n",
      "path /media/monib/ext1/work2022/Base_Dataset/chest_x_ray_snuh/DICOM 파일 이신애/808/46378350/ㅇㄱㅇ.DCM\n",
      "path /media/monib/ext1/work2022/Base_Dataset/chest_x_ray_snuh/DICOM 파일 이신애/809/23579509/ㄱㅇㅅ.DCM\n",
      "path /media/monib/ext1/work2022/Base_Dataset/chest_x_ray_snuh/DICOM 파일 이신애/810/34756159/ㄱㅂㄹ.DCM\n",
      "path /media/monib/ext1/work2022/Base_Dataset/chest_x_ray_snuh/DICOM 파일 이신애/811/40695158/ㅈㅅㅎ.DCM\n",
      "path /media/monib/ext1/work2022/Base_Dataset/chest_x_ray_snuh/DICOM 파일 이신애/812/17275383/ㅅㅈㅅ.DCM\n",
      "path /media/monib/ext1/work2022/Base_Dataset/chest_x_ray_snuh/DICOM 파일 이신애/814/33002152/ㅂㅇㄱ.DCM\n",
      "path /media/monib/ext1/work2022/Base_Dataset/chest_x_ray_snuh/DICOM 파일 이신애/815/35283919/ㅇㅅㅎ.DCM\n",
      "path /media/monib/ext1/work2022/Base_Dataset/chest_x_ray_snuh/DICOM 파일 이신애/816/46425357/ㅇㅎㅇ.DCM\n",
      "path /media/monib/ext1/work2022/Base_Dataset/chest_x_ray_snuh/DICOM 파일 이신애/817/24662877/ㅇㅇㅈ.DCM\n",
      "path /media/monib/ext1/work2022/Base_Dataset/chest_x_ray_snuh/DICOM 파일 이신애/818/21827334/ㄱㅎㅈ.DCM\n",
      "path /media/monib/ext1/work2022/Base_Dataset/chest_x_ray_snuh/DICOM 파일 이신애/820/46432951/ㅇㅇㅅ.DCM\n",
      "path /media/monib/ext1/work2022/Base_Dataset/chest_x_ray_snuh/DICOM 파일 이신애/821/30930823/ㄱㅇㄴ.DCM\n",
      "path /media/monib/ext1/work2022/Base_Dataset/chest_x_ray_snuh/DICOM 파일 이신애/822/37324467/ㄱㅊㅅ.DCM\n",
      "path /media/monib/ext1/work2022/Base_Dataset/chest_x_ray_snuh/DICOM 파일 이신애/823/31408127/ㄱㅇㅍ.DCM\n",
      "path /media/monib/ext1/work2022/Base_Dataset/chest_x_ray_snuh/DICOM 파일 이신애/824/27477720/ㅇㅇㅅ.DCM\n",
      "path /media/monib/ext1/work2022/Base_Dataset/chest_x_ray_snuh/DICOM 파일 이신애/825/21510984/ㄱㅇㅅ.DCM\n",
      "path /media/monib/ext1/work2022/Base_Dataset/chest_x_ray_snuh/DICOM 파일 이신애/827/43973888/ㅊㅇㅎ.DCM\n",
      "path /media/monib/ext1/work2022/Base_Dataset/chest_x_ray_snuh/DICOM 파일 이신애/828/43997745/ㅇㅅㅇ.DCM\n",
      "path /media/monib/ext1/work2022/Base_Dataset/chest_x_ray_snuh/DICOM 파일 이신애/829/35573744/ㅅㄳ.DCM\n",
      "path /media/monib/ext1/work2022/Base_Dataset/chest_x_ray_snuh/DICOM 파일 이신애/830/29412572/ㅇㅁㅅ.DCM\n",
      "path /media/monib/ext1/work2022/Base_Dataset/chest_x_ray_snuh/DICOM 파일 이신애/831/41849888/ㅈㅁㅅ.DCM\n",
      "path /media/monib/ext1/work2022/Base_Dataset/chest_x_ray_snuh/DICOM 파일 이신애/832/44037569/ㅁㄷㅊ.DCM\n",
      "path /media/monib/ext1/work2022/Base_Dataset/chest_x_ray_snuh/DICOM 파일 이신애/833/44041474/ㄱㅊㅇ.DCM\n",
      "path /media/monib/ext1/work2022/Base_Dataset/chest_x_ray_snuh/DICOM 파일 이신애/834/17018162/ㅈㅊㅎ.DCM\n",
      "path /media/monib/ext1/work2022/Base_Dataset/chest_x_ray_snuh/DICOM 파일 이신애/835/44065829/ㅇㅂㅇ.DCM\n",
      "path /media/monib/ext1/work2022/Base_Dataset/chest_x_ray_snuh/DICOM 파일 이신애/836/16156775/ㅎㅈㅅ.DCM\n",
      "path /media/monib/ext1/work2022/Base_Dataset/chest_x_ray_snuh/DICOM 파일 이신애/837/43234879/ㅈㅌㄹ.DCM\n",
      "path /media/monib/ext1/work2022/Base_Dataset/chest_x_ray_snuh/DICOM 파일 이신애/838/33933504/ㅊㅈㄹ.DCM\n",
      "path /media/monib/ext1/work2022/Base_Dataset/chest_x_ray_snuh/DICOM 파일 이신애/839/39163480/ㅇㄱㅎ.DCM\n",
      "path /media/monib/ext1/work2022/Base_Dataset/chest_x_ray_snuh/DICOM 파일 이신애/840/22172811/ㅇㅅㅅ.DCM\n",
      "path /media/monib/ext1/work2022/Base_Dataset/chest_x_ray_snuh/DICOM 파일 이신애/841/23905805/ㄱㅈㅎ.DCM\n",
      "path /media/monib/ext1/work2022/Base_Dataset/chest_x_ray_snuh/DICOM 파일 이신애/842/34475614/ㄱㅊㅎ.DCM\n",
      "path /media/monib/ext1/work2022/Base_Dataset/chest_x_ray_snuh/DICOM 파일 이신애/843/37570633/ㅅㅈㅇ.DCM\n",
      "path /media/monib/ext1/work2022/Base_Dataset/chest_x_ray_snuh/DICOM 파일 이신애/844/13436504/ㅇㅇㅂ.DCM\n",
      "path /media/monib/ext1/work2022/Base_Dataset/chest_x_ray_snuh/DICOM 파일 이신애/845/44120795/ㅇㅇㄱ.DCM\n",
      "path /media/monib/ext1/work2022/Base_Dataset/chest_x_ray_snuh/DICOM 파일 이신애/846/36955729/ㅎㅅㅈ.DCM\n",
      "path /media/monib/ext1/work2022/Base_Dataset/chest_x_ray_snuh/DICOM 파일 이신애/847/37717254/ㄳㅇ.DCM\n",
      "path /media/monib/ext1/work2022/Base_Dataset/chest_x_ray_snuh/DICOM 파일 이신애/848/44166955/ㅊㅊㅈ.DCM\n",
      "path /media/monib/ext1/work2022/Base_Dataset/chest_x_ray_snuh/DICOM 파일 이신애/849/27586136/ㅄㄱ.DCM\n",
      "path /media/monib/ext1/work2022/Base_Dataset/chest_x_ray_snuh/DICOM 파일 이신애/850/26133414/ㄱㅇㅈ.DCM\n",
      "path /media/monib/ext1/work2022/Base_Dataset/chest_x_ray_snuh/DICOM 파일 이신애/851/24816472/ㅁㅎㅅ.DCM\n",
      "path /media/monib/ext1/work2022/Base_Dataset/chest_x_ray_snuh/DICOM 파일 이신애/852/18318074/ㅈㅁㅅ.DCM\n",
      "path /media/monib/ext1/work2022/Base_Dataset/chest_x_ray_snuh/DICOM 파일 이신애/854/32736964/ㅅㄳ.DCM\n",
      "path /media/monib/ext1/work2022/Base_Dataset/chest_x_ray_snuh/DICOM 파일 이신애/855/34627422/ㄽㄱ.DCM\n",
      "path /media/monib/ext1/work2022/Base_Dataset/chest_x_ray_snuh/DICOM 파일 이신애/856/22726357/ㅂㅈㅅ.DCM\n",
      "path /media/monib/ext1/work2022/Base_Dataset/chest_x_ray_snuh/DICOM 파일 이신애/857/44235767/ㄱㅇㅈ.DCM\n",
      "path /media/monib/ext1/work2022/Base_Dataset/chest_x_ray_snuh/DICOM 파일 이신애/858/40740375/ㅅㅎㅇ.DCM\n",
      "path /media/monib/ext1/work2022/Base_Dataset/chest_x_ray_snuh/DICOM 파일 이신애/859/27097737/ㅇㄱㅁ.DCM\n",
      "path /media/monib/ext1/work2022/Base_Dataset/chest_x_ray_snuh/DICOM 파일 이신애/860/44261610/ㅇㅎㅈ.DCM\n",
      "path /media/monib/ext1/work2022/Base_Dataset/chest_x_ray_snuh/DICOM 파일 이신애/861/44263887/ㅈㅁㅇ.DCM\n",
      "path /media/monib/ext1/work2022/Base_Dataset/chest_x_ray_snuh/DICOM 파일 이신애/862/24882253/ㅇㅅㅌ.DCM\n",
      "path /media/monib/ext1/work2022/Base_Dataset/chest_x_ray_snuh/DICOM 파일 이신애/863/44275455/ㅇㅎㅈ.DCM\n",
      "path /media/monib/ext1/work2022/Base_Dataset/chest_x_ray_snuh/DICOM 파일 이신애/864/21068344/ㅊㅂㅇ.DCM\n",
      "path /media/monib/ext1/work2022/Base_Dataset/chest_x_ray_snuh/DICOM 파일 이신애/865/44286796/ㄱㅁㄱ.DCM\n",
      "path /media/monib/ext1/work2022/Base_Dataset/chest_x_ray_snuh/DICOM 파일 이신애/866/44288468/ㅎㅈㅎ.DCM\n",
      "path /media/monib/ext1/work2022/Base_Dataset/chest_x_ray_snuh/DICOM 파일 이신애/867/44299451/ㅅㅂㅎ.DCM\n",
      "path /media/monib/ext1/work2022/Base_Dataset/chest_x_ray_snuh/DICOM 파일 이신애/868/36931305/ㅈㅇㅇ.DCM\n",
      "path /media/monib/ext1/work2022/Base_Dataset/chest_x_ray_snuh/DICOM 파일 이신애/869/31898946/ㅂㅇㄹ.DCM\n",
      "path /media/monib/ext1/work2022/Base_Dataset/chest_x_ray_snuh/DICOM 파일 이신애/870/44313016/ㅈㅅㅇ.DCM\n",
      "path /media/monib/ext1/work2022/Base_Dataset/chest_x_ray_snuh/DICOM 파일 이신애/871/35408181/ㄱㅎㅅ.DCM\n",
      "path /media/monib/ext1/work2022/Base_Dataset/chest_x_ray_snuh/DICOM 파일 이신애/872/25482346/ㄱㅇㅎ.DCM\n",
      "path /media/monib/ext1/work2022/Base_Dataset/chest_x_ray_snuh/DICOM 파일 이신애/873/25405565/ㅇㅅㅈ.DCM\n",
      "path /media/monib/ext1/work2022/Base_Dataset/chest_x_ray_snuh/DICOM 파일 이신애/874/44357650/ㅇㄱㅁ.DCM\n",
      "path /media/monib/ext1/work2022/Base_Dataset/chest_x_ray_snuh/DICOM 파일 이신애/875/44378145/ㅅㅎㅊ.DCM\n",
      "path /media/monib/ext1/work2022/Base_Dataset/chest_x_ray_snuh/DICOM 파일 이신애/876/38617542/ㅂㅇㅅ.DCM\n",
      "path /media/monib/ext1/work2022/Base_Dataset/chest_x_ray_snuh/DICOM 파일 이신애/877/44355421/ㅇㅇㅈ.DCM\n",
      "path /media/monib/ext1/work2022/Base_Dataset/chest_x_ray_snuh/DICOM 파일 이신애/878/41174313/ㅅㅇㅅ.DCM\n",
      "path /media/monib/ext1/work2022/Base_Dataset/chest_x_ray_snuh/DICOM 파일 이신애/879/31117351/ㄱㅈㅈ.DCM\n",
      "path /media/monib/ext1/work2022/Base_Dataset/chest_x_ray_snuh/DICOM 파일 이신애/880/15766908/ㄹㅇㅎ.DCM\n",
      "path /media/monib/ext1/work2022/Base_Dataset/chest_x_ray_snuh/DICOM 파일 이신애/881/44381925/ㅊㅈㄱ.DCM\n",
      "path /media/monib/ext1/work2022/Base_Dataset/chest_x_ray_snuh/DICOM 파일 이신애/882/44387132/ㅅㅅㅇ 1.DCM\n",
      "path /media/monib/ext1/work2022/Base_Dataset/chest_x_ray_snuh/DICOM 파일 이신애/884/14277544/ㅊㅇㅅ.DCM\n",
      "path /media/monib/ext1/work2022/Base_Dataset/chest_x_ray_snuh/DICOM 파일 이신애/885/44404424/ㅅㅁㅇ.DCM\n",
      "path /media/monib/ext1/work2022/Base_Dataset/chest_x_ray_snuh/DICOM 파일 이신애/887/44409087/ㅇㅈㄱ.DCM\n",
      "path /media/monib/ext1/work2022/Base_Dataset/chest_x_ray_snuh/DICOM 파일 이신애/888/44414870/ㅅㅈㅅ.DCM\n",
      "path /media/monib/ext1/work2022/Base_Dataset/chest_x_ray_snuh/DICOM 파일 이신애/890/24535735/ㄱㅌㅇ.DCM\n",
      "path /media/monib/ext1/work2022/Base_Dataset/chest_x_ray_snuh/DICOM 파일 이신애/891/44424442/ㅇㄱㅎ.DCM\n",
      "path /media/monib/ext1/work2022/Base_Dataset/chest_x_ray_snuh/DICOM 파일 이신애/892/44429757/ㄱㄱㅇ.DCM\n",
      "path /media/monib/ext1/work2022/Base_Dataset/chest_x_ray_snuh/DICOM 파일 이신애/893/25541500/ㄱㅈㅎ.DCM\n",
      "path /media/monib/ext1/work2022/Base_Dataset/chest_x_ray_snuh/DICOM 파일 이신애/894/44450061/ㄳㅇ.DCM\n",
      "path /media/monib/ext1/work2022/Base_Dataset/chest_x_ray_snuh/DICOM 파일 이신애/895/40215925/ㅇㅎㄱ.DCM\n",
      "path /media/monib/ext1/work2022/Base_Dataset/chest_x_ray_snuh/DICOM 파일 이신애/896/34090556/ㄱㅇㅇ.DCM\n",
      "path /media/monib/ext1/work2022/Base_Dataset/chest_x_ray_snuh/DICOM 파일 이신애/897/44443847/ㄳㅈ.DCM\n",
      "path /media/monib/ext1/work2022/Base_Dataset/chest_x_ray_snuh/DICOM 파일 이신애/898/44468529/ㅈㅇㅎ.DCM\n",
      "path /media/monib/ext1/work2022/Base_Dataset/chest_x_ray_snuh/DICOM 파일 이신애/899/26846215/ㄱㅈㅅ.DCM\n",
      "path /media/monib/ext1/work2022/Base_Dataset/chest_x_ray_snuh/DICOM 파일 이신애/900/14281961/ㅇㅇㄷ.DCM\n",
      "path /media/monib/ext1/work2022/Base_Dataset/chest_x_ray_snuh/DICOM 파일 이신애/901/36308741/ㄱㅇㅎ.DCM\n",
      "path /media/monib/ext1/work2022/Base_Dataset/chest_x_ray_snuh/DICOM 파일 이신애/902/44489797/ㅅㅅㄷ.DCM\n",
      "path /media/monib/ext1/work2022/Base_Dataset/chest_x_ray_snuh/DICOM 파일 이신애/903/07838585/ㅂㅅㅎ.DCM\n",
      "path /media/monib/ext1/work2022/Base_Dataset/chest_x_ray_snuh/DICOM 파일 이신애/904/34335064/ㅂㅁㅇ.DCM\n",
      "path /media/monib/ext1/work2022/Base_Dataset/chest_x_ray_snuh/DICOM 파일 이신애/905/17299668/ㅊㅈㅅ.DCM\n",
      "path /media/monib/ext1/work2022/Base_Dataset/chest_x_ray_snuh/DICOM 파일 이신애/906/44521824/ㅈㅊㄱ.DCM\n",
      "path /media/monib/ext1/work2022/Base_Dataset/chest_x_ray_snuh/DICOM 파일 이신애/907/44525749/ㅇㅅㅁ.DCM\n",
      "path /media/monib/ext1/work2022/Base_Dataset/chest_x_ray_snuh/DICOM 파일 이신애/908/44529998/ㄴㅇㅊ.DCM\n",
      "path /media/monib/ext1/work2022/Base_Dataset/chest_x_ray_snuh/DICOM 파일 이신애/909/44533175/ㅇㅈㄷ.DCM\n",
      "path /media/monib/ext1/work2022/Base_Dataset/chest_x_ray_snuh/DICOM 파일 이신애/910/44545293/ㅎㅎㅈ.DCM\n",
      "path /media/monib/ext1/work2022/Base_Dataset/chest_x_ray_snuh/DICOM 파일 이신애/911/44551438/ㅇㄱㅁ.DCM\n",
      "path /media/monib/ext1/work2022/Base_Dataset/chest_x_ray_snuh/DICOM 파일 이신애/912/44553496/ㅈㅇㅅ.DCM\n",
      "path /media/monib/ext1/work2022/Base_Dataset/chest_x_ray_snuh/DICOM 파일 이신애/913/44559177/ㅂㅇㅅ.DCM\n",
      "path /media/monib/ext1/work2022/Base_Dataset/chest_x_ray_snuh/DICOM 파일 이신애/914/44228024/ㄱㅍㅇ.DCM\n",
      "path /media/monib/ext1/work2022/Base_Dataset/chest_x_ray_snuh/DICOM 파일 이신애/915/36976221/ㅂㅂㅈ.DCM\n",
      "path /media/monib/ext1/work2022/Base_Dataset/chest_x_ray_snuh/DICOM 파일 이신애/916/44573320/ㅈㄱㅈ.DCM\n",
      "path /media/monib/ext1/work2022/Base_Dataset/chest_x_ray_snuh/DICOM 파일 이신애/917/20706566/ㅇㅊㅇ.DCM\n",
      "path /media/monib/ext1/work2022/Base_Dataset/chest_x_ray_snuh/DICOM 파일 이신애/918/39051525/ㅅㅈㅇ.DCM\n",
      "path /media/monib/ext1/work2022/Base_Dataset/chest_x_ray_snuh/DICOM 파일 이신애/919/39763037/ㅈㅇㅈ.DCM\n",
      "path /media/monib/ext1/work2022/Base_Dataset/chest_x_ray_snuh/DICOM 파일 이신애/921/41939161/ㄱㅇㅇ.DCM\n",
      "path /media/monib/ext1/work2022/Base_Dataset/chest_x_ray_snuh/DICOM 파일 이신애/922/44625308/ㄱㅎㅈ.DCM\n",
      "path /media/monib/ext1/work2022/Base_Dataset/chest_x_ray_snuh/DICOM 파일 이신애/923/43707733/ㄱㅈㅅ.DCM\n",
      "path /media/monib/ext1/work2022/Base_Dataset/chest_x_ray_snuh/DICOM 파일 이신애/925/29722200/ㅈㅅㅈ.DCM\n",
      "path /media/monib/ext1/work2022/Base_Dataset/chest_x_ray_snuh/DICOM 파일 이신애/926/37378147/ㄴㅅㄹ.DCM\n",
      "path /media/monib/ext1/work2022/Base_Dataset/chest_x_ray_snuh/DICOM 파일 이신애/927/44647795/ㄱㄱㄴ.DCM\n",
      "path /media/monib/ext1/work2022/Base_Dataset/chest_x_ray_snuh/DICOM 파일 이신애/928/44649791/ㄱㅇㄱ.DCM\n",
      "path /media/monib/ext1/work2022/Base_Dataset/chest_x_ray_snuh/DICOM 파일 이신애/929/23653887/ㅇㅈㄱ.DCM\n",
      "path /media/monib/ext1/work2022/Base_Dataset/chest_x_ray_snuh/DICOM 파일 이신애/930/44664202/ㅇㄴㅅ.DCM\n",
      "path /media/monib/ext1/work2022/Base_Dataset/chest_x_ray_snuh/DICOM 파일 이신애/931/44682882/ㅅㅇㅂ.DCM\n",
      "path /media/monib/ext1/work2022/Base_Dataset/chest_x_ray_snuh/DICOM 파일 이신애/932/44693091/ㅂㄱㅈ.DCM\n",
      "path /media/monib/ext1/work2022/Base_Dataset/chest_x_ray_snuh/DICOM 파일 이신애/933/21265912/ㄴㄷㅇ.DCM\n",
      "path /media/monib/ext1/work2022/Base_Dataset/chest_x_ray_snuh/DICOM 파일 이신애/934/24877679/ㅇㅎㅇ.DCM\n",
      "path /media/monib/ext1/work2022/Base_Dataset/chest_x_ray_snuh/DICOM 파일 이신애/935/14544826/ㅂㄱㅇ.DCM\n",
      "path /media/monib/ext1/work2022/Base_Dataset/chest_x_ray_snuh/DICOM 파일 이신애/937/22393740/ㅈㅁㅈ.DCM\n",
      "path /media/monib/ext1/work2022/Base_Dataset/chest_x_ray_snuh/DICOM 파일 이신애/938/34884023/ㅇㅎㅈ.DCM\n",
      "path /media/monib/ext1/work2022/Base_Dataset/chest_x_ray_snuh/DICOM 파일 이신애/939/15788768/ㅅㅅㅈ.DCM\n",
      "path /media/monib/ext1/work2022/Base_Dataset/chest_x_ray_snuh/DICOM 파일 이신애/940/44727590/ㄱㄳ.DCM\n",
      "path /media/monib/ext1/work2022/Base_Dataset/chest_x_ray_snuh/DICOM 파일 이신애/941/44730224/ㄱㅈㅇ.DCM\n",
      "path /media/monib/ext1/work2022/Base_Dataset/chest_x_ray_snuh/DICOM 파일 이신애/942/44742708/ㄱㅈㅇ.DCM\n",
      "path /media/monib/ext1/work2022/Base_Dataset/chest_x_ray_snuh/DICOM 파일 이신애/943/44732554/ㄱㄷㅅ.DCM\n",
      "path /media/monib/ext1/work2022/Base_Dataset/chest_x_ray_snuh/DICOM 파일 이신애/944/32407987/ㅇㅅㅈ.DCM\n",
      "path /media/monib/ext1/work2022/Base_Dataset/chest_x_ray_snuh/DICOM 파일 이신애/945/44766432/ㅈㄱㅇ.DCM\n",
      "path /media/monib/ext1/work2022/Base_Dataset/chest_x_ray_snuh/DICOM 파일 이신애/946/30580242/ㄱㅈㅊ.DCM\n",
      "path /media/monib/ext1/work2022/Base_Dataset/chest_x_ray_snuh/DICOM 파일 이신애/947/44783095/ㄱㅂㅇ.DCM\n",
      "path /media/monib/ext1/work2022/Base_Dataset/chest_x_ray_snuh/DICOM 파일 이신애/948/32363739/ㄱㅂㅎ.DCM\n",
      "path /media/monib/ext1/work2022/Base_Dataset/chest_x_ray_snuh/DICOM 파일 이신애/950/33183796/ㅅㄴㅂ.DCM\n",
      "path /media/monib/ext1/work2022/Base_Dataset/chest_x_ray_snuh/DICOM 파일 이신애/951/44797119/ㄱㅇㅎ.DCM\n",
      "path /media/monib/ext1/work2022/Base_Dataset/chest_x_ray_snuh/DICOM 파일 이신애/953/30324048/ㅁㅅㅎ.DCM\n",
      "path /media/monib/ext1/work2022/Base_Dataset/chest_x_ray_snuh/DICOM 파일 이신애/954/27032329/ㅇㅈㅈ.DCM\n",
      "path /media/monib/ext1/work2022/Base_Dataset/chest_x_ray_snuh/DICOM 파일 이신애/955/44809353/ㄱㄱㅂ.DCM\n",
      "path /media/monib/ext1/work2022/Base_Dataset/chest_x_ray_snuh/DICOM 파일 이신애/956/43749403/ㅇㅇㅅ.DCM\n",
      "path /media/monib/ext1/work2022/Base_Dataset/chest_x_ray_snuh/DICOM 파일 이신애/957/24646844/ㄳㄱ.DCM\n",
      "path /media/monib/ext1/work2022/Base_Dataset/chest_x_ray_snuh/DICOM 파일 이신애/958/44825153/ㄱㄷㅇ.DCM\n",
      "path /media/monib/ext1/work2022/Base_Dataset/chest_x_ray_snuh/DICOM 파일 이신애/959/44825177/ㄳㅇ.DCM\n",
      "path /media/monib/ext1/work2022/Base_Dataset/chest_x_ray_snuh/DICOM 파일 이신애/960/19706984/ㅇㄱㅎ.DCM\n",
      "path /media/monib/ext1/work2022/Base_Dataset/chest_x_ray_snuh/DICOM 파일 이신애/961/44834924/ㅄㅎ.DCM\n",
      "path /media/monib/ext1/work2022/Base_Dataset/chest_x_ray_snuh/DICOM 파일 이신애/962/28243557/ㅇㅈㅂ.DCM\n",
      "path /media/monib/ext1/work2022/Base_Dataset/chest_x_ray_snuh/DICOM 파일 이신애/963/26778499/ㄳㄴ.DCM\n",
      "path /media/monib/ext1/work2022/Base_Dataset/chest_x_ray_snuh/DICOM 파일 이신애/964/44846143/ㅇㅇㄱ.DCM\n",
      "path /media/monib/ext1/work2022/Base_Dataset/chest_x_ray_snuh/DICOM 파일 이신애/965/39771658/ㅂㅇㅎ.DCM\n",
      "path /media/monib/ext1/work2022/Base_Dataset/chest_x_ray_snuh/DICOM 파일 이신애/966/15364939/ㄱㅁㅎ.DCM\n",
      "path /media/monib/ext1/work2022/Base_Dataset/chest_x_ray_snuh/DICOM 파일 이신애/967/42118626/ㅈㅅㅎ.DCM\n",
      "path /media/monib/ext1/work2022/Base_Dataset/chest_x_ray_snuh/DICOM 파일 이신애/968/44879369/ㅈㅌㅎ.DCM\n",
      "path /media/monib/ext1/work2022/Base_Dataset/chest_x_ray_snuh/DICOM 파일 이신애/969/42527181/ㄱㅁㅅ.DCM\n",
      "path /media/monib/ext1/work2022/Base_Dataset/chest_x_ray_snuh/DICOM 파일 이신애/970/44892494/ㅎㅇㅅ.DCM\n",
      "path /media/monib/ext1/work2022/Base_Dataset/chest_x_ray_snuh/DICOM 파일 이신애/971/35697082/ㅅㅈㅁ.DCM\n",
      "path /media/monib/ext1/work2022/Base_Dataset/chest_x_ray_snuh/DICOM 파일 이신애/972/44920212/ㅈㅈㅎ.DCM\n",
      "path /media/monib/ext1/work2022/Base_Dataset/chest_x_ray_snuh/DICOM 파일 이신애/973/28248189/ㅇㅈㅎ.DCM\n",
      "path /media/monib/ext1/work2022/Base_Dataset/chest_x_ray_snuh/DICOM 파일 이신애/976/37862534/ㅁㅂㄹ.DCM\n",
      "path /media/monib/ext1/work2022/Base_Dataset/chest_x_ray_snuh/DICOM 파일 이신애/977/36914999/ㅇㅎㅈ.DCM\n",
      "path /media/monib/ext1/work2022/Base_Dataset/chest_x_ray_snuh/DICOM 파일 이신애/978/25731752/ㅅㄳ.DCM\n",
      "path /media/monib/ext1/work2022/Base_Dataset/chest_x_ray_snuh/DICOM 파일 이신애/979/44939191/ㄱㅈㄱ.DCM\n",
      "path /media/monib/ext1/work2022/Base_Dataset/chest_x_ray_snuh/DICOM 파일 이신애/980/34403727/ㄱㄱㅇ.DCM\n",
      "path /media/monib/ext1/work2022/Base_Dataset/chest_x_ray_snuh/DICOM 파일 이신애/981/22270847/ㅅㅈㅅ.DCM\n",
      "path /media/monib/ext1/work2022/Base_Dataset/chest_x_ray_snuh/DICOM 파일 이신애/982/44964522/ㅅㄳ.DCM\n",
      "path /media/monib/ext1/work2022/Base_Dataset/chest_x_ray_snuh/DICOM 파일 이신애/983/44966667/ㄱㅎㅅ.DCM\n",
      "path /media/monib/ext1/work2022/Base_Dataset/chest_x_ray_snuh/DICOM 파일 이신애/984/30851115/ㅎㅇㅇ.DCM\n",
      "path /media/monib/ext1/work2022/Base_Dataset/chest_x_ray_snuh/DICOM 파일 이신애/985/44972484/ㅇㅅㅊ.DCM\n",
      "path /media/monib/ext1/work2022/Base_Dataset/chest_x_ray_snuh/DICOM 파일 이신애/986/44976455/ㅈㅅㅅ.DCM\n",
      "path /media/monib/ext1/work2022/Base_Dataset/chest_x_ray_snuh/DICOM 파일 이신애/987/44979618/ㄱㅎㅌ.DCM\n",
      "path /media/monib/ext1/work2022/Base_Dataset/chest_x_ray_snuh/DICOM 파일 이신애/988/32240348/ㅇㄳ.DCM\n",
      "path /media/monib/ext1/work2022/Base_Dataset/chest_x_ray_snuh/DICOM 파일 이신애/989/44995146/ㅂㅈㅎ.DCM\n",
      "path /media/monib/ext1/work2022/Base_Dataset/chest_x_ray_snuh/DICOM 파일 이신애/990/34894378/ㅎㅈㅈ.DCM\n",
      "path /media/monib/ext1/work2022/Base_Dataset/chest_x_ray_snuh/DICOM 파일 이신애/992/28152947/ㅈㅎㅈ.DCM\n",
      "path /media/monib/ext1/work2022/Base_Dataset/chest_x_ray_snuh/DICOM 파일 이신애/993/31170080/ㄱㄳ.DCM\n",
      "path /media/monib/ext1/work2022/Base_Dataset/chest_x_ray_snuh/DICOM 파일 이신애/994/34138915/ㄱㄷㅂ.DCM\n",
      "path /media/monib/ext1/work2022/Base_Dataset/chest_x_ray_snuh/DICOM 파일 이신애/995/21997985/ㅈㅇㅌ.DCM\n",
      "path /media/monib/ext1/work2022/Base_Dataset/chest_x_ray_snuh/DICOM 파일 이신애/996/15284381/ㅇㅈㅇ.DCM\n",
      "path /media/monib/ext1/work2022/Base_Dataset/chest_x_ray_snuh/DICOM 파일 이신애/997/45024078/ㅈㅇㅅ.DCM\n",
      "path /media/monib/ext1/work2022/Base_Dataset/chest_x_ray_snuh/DICOM 파일 이신애/998/45026593/ㅇㅈㅇ.DCM\n",
      "path /media/monib/ext1/work2022/Base_Dataset/chest_x_ray_snuh/DICOM 파일 이신애/999/22449960/ㅇㅎㅊ.DCM\n",
      "path /media/monib/ext1/work2022/Base_Dataset/chest_x_ray_snuh/DICOM 파일 이신애/1000/45034222/ㄱㅇㅅ.DCM\n",
      "path /media/monib/ext1/work2022/Base_Dataset/chest_x_ray_snuh/DICOM 파일 이신애/1001/45042641/ㅈㅇㅇ.DCM\n",
      "path /media/monib/ext1/work2022/Base_Dataset/chest_x_ray_snuh/DICOM 파일 이신애/1004/45095335/ㅈㅎㅈ.DCM\n",
      "path /media/monib/ext1/work2022/Base_Dataset/chest_x_ray_snuh/DICOM 파일 이신애/1005/44172549/ㄳㅈ.DCM\n",
      "path /media/monib/ext1/work2022/Base_Dataset/chest_x_ray_snuh/DICOM 파일 이신애/1010/16837632/ㅈㅅㅊ.DCM\n",
      "path /media/monib/ext1/work2022/Base_Dataset/chest_x_ray_snuh/DICOM 파일 이신애/1013/42666822/ㄱㅁㅎ.DCM\n",
      "path /media/monib/ext1/work2022/Base_Dataset/chest_x_ray_snuh/DICOM 파일 이신애/1015/42818692/ㄱㄱㄴ.DCM\n",
      "path /media/monib/ext1/work2022/Base_Dataset/chest_x_ray_snuh/DICOM 파일 이신애/1019/43107674/ㅅㅇㅁ.DCM\n",
      "path /media/monib/ext1/work2022/Base_Dataset/chest_x_ray_snuh/DICOM 파일 이신애/1023/43410248/ㅈㅇㅂ.DCM\n",
      "path /media/monib/ext1/work2022/Base_Dataset/chest_x_ray_snuh/DICOM 파일 이신애/1024/43438532/ㅎㅈㅅ.DCM\n",
      "path /media/monib/ext1/work2022/Base_Dataset/chest_x_ray_snuh/DICOM 파일 이신애/1025/43590942/ㄳㄱ.DCM\n",
      "path /media/monib/ext1/work2022/Base_Dataset/chest_x_ray_snuh/DICOM 파일 이신애/1026/43631285/ㅎㅌㅇ.DCM\n",
      "path /media/monib/ext1/work2022/Base_Dataset/chest_x_ray_snuh/DICOM 파일 이신애/1027/39148405/ㅇㄱㅇ.DCM\n",
      "path /media/monib/ext1/work2022/Base_Dataset/chest_x_ray_snuh/DICOM 파일 이신애/1028/26051125/ㅇㅂㅇ.DCM\n",
      "Total Normal Images 857\n",
      "Total Abnormal Images 50\n",
      "x_train shape (725, 1024, 1024, 3)\n",
      "y_train shape (725,)\n",
      "x_val (182, 1024, 1024, 3)\n",
      "y_val (182,)\n",
      "Number of sample in train and validation are: 725, 182\n"
     ]
    },
    {
     "name": "stderr",
     "output_type": "stream",
     "text": [
      "2022-07-12 17:00:13.800659: I tensorflow/core/platform/cpu_feature_guard.cc:142] This TensorFlow binary is optimized with oneAPI Deep Neural Network Library (oneDNN) to use the following CPU instructions in performance-critical operations:  AVX2 AVX512F FMA\n",
      "To enable them in other operations, rebuild TensorFlow with the appropriate compiler flags.\n",
      "2022-07-12 17:00:13.809140: I tensorflow/core/common_runtime/gpu/gpu_device.cc:1733] Found device 0 with properties: \n",
      "pciBusID: 0000:1a:00.0 name: NVIDIA GeForce RTX 3090 computeCapability: 8.6\n",
      "coreClock: 1.695GHz coreCount: 82 deviceMemorySize: 23.70GiB deviceMemoryBandwidth: 871.81GiB/s\n",
      "2022-07-12 17:00:13.812153: I tensorflow/core/common_runtime/gpu/gpu_device.cc:1871] Adding visible gpu devices: 1\n",
      "2022-07-12 17:00:13.816141: I tensorflow/stream_executor/platform/default/dso_loader.cc:53] Successfully opened dynamic library libcudart.so.11.0\n",
      "2022-07-12 17:00:14.439827: I tensorflow/core/common_runtime/gpu/gpu_device.cc:1258] Device interconnect StreamExecutor with strength 1 edge matrix:\n",
      "2022-07-12 17:00:14.439857: I tensorflow/core/common_runtime/gpu/gpu_device.cc:1264]      1 \n",
      "2022-07-12 17:00:14.439863: I tensorflow/core/common_runtime/gpu/gpu_device.cc:1277] 1:   N \n",
      "2022-07-12 17:00:14.442287: I tensorflow/core/common_runtime/gpu/gpu_device.cc:1418] Created TensorFlow device (/job:localhost/replica:0/task:0/device:GPU:0 with 21891 MB memory) -> physical GPU (device: 1, name: NVIDIA GeForce RTX 3090, pci bus id: 0000:1a:00.0, compute capability: 8.6)\n",
      "2022-07-12 17:00:14.448345: W tensorflow/core/framework/cpu_allocator_impl.cc:80] Allocation of 18245222400 exceeds 10% of free system memory.\n",
      "2022-07-12 17:00:24.123799: W tensorflow/core/framework/cpu_allocator_impl.cc:80] Allocation of 4580179968 exceeds 10% of free system memory.\n"
     ]
    }
   ],
   "source": [
    "train_dataset, val_dataset, x_val, y_val = get_dataset(root_path)"
   ],
   "metadata": {
    "collapsed": false,
    "pycharm": {
     "name": "#%%\n"
    }
   }
  },
  {
   "cell_type": "code",
   "execution_count": 6,
   "outputs": [],
   "source": [
    "data_augmentation = keras.Sequential(\n",
    "    [\n",
    "        layers.RandomFlip(\"horizontal\"),\n",
    "        layers.RandomRotation(0.1),\n",
    "    ]\n",
    ")\n"
   ],
   "metadata": {
    "collapsed": false,
    "pycharm": {
     "name": "#%%\n"
    }
   }
  },
  {
   "cell_type": "markdown",
   "source": [
    "# Grad-CAM algorithm"
   ],
   "metadata": {
    "collapsed": false,
    "pycharm": {
     "name": "#%% md\n"
    }
   }
  },
  {
   "cell_type": "code",
   "execution_count": 6,
   "outputs": [],
   "source": [
    "def make_gradcam_heatmap(img_array, model, last_conv_layer_name, pred_index=None):\n",
    "    # First, we create a model that maps the input image to the activations\n",
    "    # of the last conv layer as well as the output predictions\n",
    "    grad_model = tf.keras.models.Model(\n",
    "        [model.inputs], [model.get_layer(last_conv_layer_name).output, model.output]\n",
    "    )\n",
    "\n",
    "    # Then, we compute the gradient of the top predicted class for our input image\n",
    "    # with respect to the activations of the last conv layer\n",
    "    with tf.GradientTape() as tape:\n",
    "        last_conv_layer_output, preds = grad_model(img_array)\n",
    "        if pred_index is None:\n",
    "            pred_index = tf.argmax(preds[0])\n",
    "        class_channel = preds[:, pred_index]\n",
    "\n",
    "    # This is the gradient of the output neuron (top predicted or chosen)\n",
    "    # with regard to the output feature map of the last conv layer\n",
    "    grads = tape.gradient(class_channel, last_conv_layer_output)\n",
    "\n",
    "    # This is a vector where each entry is the mean intensity of the gradient\n",
    "    # over a specific feature map channel\n",
    "    pooled_grads = tf.reduce_mean(grads, axis=(0, 1, 2))\n",
    "\n",
    "    # We multiply each channel in the feature map array\n",
    "    # by \"how important this channel is\" with regard to the top predicted class\n",
    "    # then sum all the channels to obtain the heatmap class activation\n",
    "    last_conv_layer_output = last_conv_layer_output[0]\n",
    "    heatmap = last_conv_layer_output @ pooled_grads[..., tf.newaxis]\n",
    "    heatmap = tf.squeeze(heatmap)\n",
    "\n",
    "    # For visualization purpose, we will also normalize the heatmap between 0 & 1\n",
    "    heatmap = tf.maximum(heatmap, 0) / tf.math.reduce_max(heatmap)\n",
    "    return heatmap.numpy()"
   ],
   "metadata": {
    "collapsed": false,
    "pycharm": {
     "name": "#%%\n"
    }
   }
  },
  {
   "cell_type": "code",
   "execution_count": 7,
   "outputs": [],
   "source": [
    "def save_and_display_gradcam(img_path, heatmap, cam_path=\"cam.jpg\", alpha=0.4, only_save= False):\n",
    "    # Load the original image\n",
    "    if isinstance(img_path, str):\n",
    "        img = keras.preprocessing.image.load_img(img_path)\n",
    "        img = keras.preprocessing.image.img_to_array(img)\n",
    "    else:\n",
    "        img = img_path\n",
    "\n",
    "    # Rescale heatmap to a range 0-255\n",
    "    heatmap = np.uint8(255 * heatmap)\n",
    "\n",
    "    # Use jet colormap to colorize heatmap\n",
    "    jet = cm.get_cmap(\"jet\")\n",
    "\n",
    "    # Use RGB values of the colormap\n",
    "    jet_colors = jet(np.arange(256))[:, :3]\n",
    "    jet_heatmap = jet_colors[heatmap]\n",
    "\n",
    "    # Create an image with RGB colorized heatmap\n",
    "    jet_heatmap = keras.preprocessing.image.array_to_img(jet_heatmap)\n",
    "    jet_heatmap = jet_heatmap.resize((img.shape[1], img.shape[0]))\n",
    "    jet_heatmap = keras.preprocessing.image.img_to_array(jet_heatmap)\n",
    "\n",
    "    # Superimpose the heatmap on original image\n",
    "    superimposed_img = jet_heatmap * alpha + img\n",
    "    superimposed_img = keras.preprocessing.image.array_to_img(superimposed_img)\n",
    "\n",
    "    if only_save:\n",
    "        superimposed_img.save(cam_path)\n",
    "    else:\n",
    "        # Save the superimposed image\n",
    "        superimposed_img.save(cam_path)\n",
    "        # Display Grad CAM\n",
    "        display(Image(cam_path))\n"
   ],
   "metadata": {
    "collapsed": false,
    "pycharm": {
     "name": "#%%\n"
    }
   }
  },
  {
   "cell_type": "code",
   "execution_count": 8,
   "outputs": [],
   "source": [
    "def get_array_from_dicom(img_path):\n",
    "    preprocess = Preprocesser()\n",
    "\n",
    "    img_arr = pydicom.dcmread(img_path).pixel_array\n",
    "    img_norm, _, _ = preprocess.normalize(img_arr)\n",
    "    img_resized = preprocess.resize(img_norm, (img_h, img_w))\n",
    "    img_resized = np.stack((img_resized,)*3, axis=-1)\n",
    "\n",
    "    return img_resized\n",
    "\n",
    "def plot_history(hist):\n",
    "\n",
    "    fig, ax = plt.subplots(1,2, figsize = (20,3))\n",
    "    ax = ax.ravel()\n",
    "\n",
    "    for i, metric in enumerate(['binary_accuracy', 'loss']):\n",
    "        ax[i].plot(hist.history[metric])\n",
    "        ax[i].plot(hist.history[\"val_\" + metric])\n",
    "        ax[i].set_title(f\"Model {metric}\")\n",
    "        ax[i].set_xlabel(\"epochs\")\n",
    "        ax[i].set_ylabel(metric)\n",
    "        ax[i].legend([\"train\", \"val\"])\n"
   ],
   "metadata": {
    "collapsed": false,
    "pycharm": {
     "name": "#%%\n"
    }
   }
  },
  {
   "cell_type": "markdown",
   "source": [
    "# Build Xception Model"
   ],
   "metadata": {
    "collapsed": false,
    "pycharm": {
     "name": "#%% md\n"
    }
   }
  },
  {
   "cell_type": "code",
   "execution_count": 12,
   "outputs": [
    {
     "name": "stdout",
     "output_type": "stream",
     "text": [
      "Model built!\n"
     ]
    }
   ],
   "source": [
    "base_model = keras.applications.Xception(\n",
    "        weights=\"imagenet\",  # Load weights pre-trained on ImageNet.\n",
    "        input_shape=(1024, 1024, 3),\n",
    "        include_top=False,\n",
    "    )  # Do not include the ImageNet classifier at the top.\n",
    "# Freeze the base_model\n",
    "base_model.trainable = False\n",
    "\n",
    "def build_model():\n",
    "    # Create new model on top\n",
    "    inputs = keras.Input(shape=(1024, 1024, 3))\n",
    "\n",
    "    # ------------- adding a top conv layer\n",
    "\n",
    "    # base_model is running in inference mode here.\n",
    "    x = inputs\n",
    "    x = base_model(x, training=False)\n",
    "    x = layers.Conv2D(\n",
    "            3,\n",
    "            32,\n",
    "            padding='same',\n",
    "            use_bias=False,\n",
    "            name='top_conv')(x)\n",
    "    x = keras.layers.GlobalAveragePooling2D()(x)\n",
    "    x = keras.layers.Dropout(0.2)(x)  # Regularize with dropout\n",
    "\n",
    "    outputs = layers.Dense(1,\n",
    "            activation='sigmoid',\n",
    "            name='predictions')(x)\n",
    "    model = keras.Model(inputs, outputs)\n",
    "    return model\n",
    "\n",
    "model = build_model()\n",
    "print(\"Model built!\")\n",
    "# model.summary()"
   ],
   "metadata": {
    "collapsed": false,
    "pycharm": {
     "name": "#%%\n"
    }
   }
  },
  {
   "cell_type": "markdown",
   "source": [
    "# fine tuning on imageNet"
   ],
   "metadata": {
    "collapsed": false,
    "pycharm": {
     "name": "#%% md\n"
    }
   }
  },
  {
   "cell_type": "code",
   "execution_count": 10,
   "outputs": [
    {
     "name": "stderr",
     "output_type": "stream",
     "text": [
      "2022-05-24 16:23:48.417499: W tensorflow/core/framework/cpu_allocator_impl.cc:80] Allocation of 18245222400 exceeds 10% of free system memory.\n",
      "2022-05-24 16:23:53.500589: W tensorflow/core/framework/cpu_allocator_impl.cc:80] Allocation of 18245222400 exceeds 10% of free system memory.\n"
     ]
    },
    {
     "name": "stdout",
     "output_type": "stream",
     "text": [
      "Epoch 1/20\n"
     ]
    },
    {
     "name": "stderr",
     "output_type": "stream",
     "text": [
      "/home/monib/Downloads/d/envs/tf2/lib/python3.7/site-packages/tensorflow/python/keras/backend.py:5017: UserWarning: \"`binary_crossentropy` received `from_logits=True`, but the `output` argument was produced by a sigmoid or softmax activation and thus does not represent logits. Was this intended?\"\n",
      "  '\"`binary_crossentropy` received `from_logits=True`, but the `output`'\n",
      "2022-05-24 16:23:59.888054: I tensorflow/compiler/mlir/mlir_graph_optimization_pass.cc:176] None of the MLIR Optimization Passes are enabled (registered 2)\n",
      "2022-05-24 16:23:59.917867: I tensorflow/core/platform/profile_utils/cpu_utils.cc:114] CPU Frequency: 3699850000 Hz\n",
      "2022-05-24 16:24:08.286892: I tensorflow/stream_executor/platform/default/dso_loader.cc:53] Successfully opened dynamic library libcudnn.so.8\n",
      "2022-05-24 16:24:08.970737: I tensorflow/stream_executor/cuda/cuda_dnn.cc:359] Loaded cuDNN version 8202\n",
      "2022-05-24 16:24:09.813524: E tensorflow/core/platform/default/subprocess.cc:304] Start cannot spawn child process: No such file or directory\n",
      "2022-05-24 16:24:09.813559: W tensorflow/stream_executor/gpu/asm_compiler.cc:56] Couldn't invoke ptxas --version\n",
      "2022-05-24 16:24:09.814716: E tensorflow/core/platform/default/subprocess.cc:304] Start cannot spawn child process: No such file or directory\n",
      "2022-05-24 16:24:09.814760: W tensorflow/stream_executor/gpu/redzone_allocator.cc:314] Internal: Failed to launch ptxas\n",
      "Relying on driver to perform ptx compilation. \n",
      "Modify $PATH to customize ptxas location.\n",
      "This message will be only logged once.\n",
      "2022-05-24 16:24:09.847416: I tensorflow/stream_executor/platform/default/dso_loader.cc:53] Successfully opened dynamic library libcublas.so.11\n",
      "2022-05-24 16:24:10.425139: I tensorflow/stream_executor/platform/default/dso_loader.cc:53] Successfully opened dynamic library libcublasLt.so.11\n",
      "2022-05-24 16:24:11.127139: I tensorflow/stream_executor/cuda/cuda_blas.cc:1838] TensorFloat-32 will be used for the matrix multiplication. This will only be logged once.\n"
     ]
    },
    {
     "name": "stdout",
     "output_type": "stream",
     "text": [
      "725/725 [==============================] - 49s 50ms/step - loss: 43.1138 - binary_accuracy: 0.8869 - val_loss: 60.1329 - val_binary_accuracy: 0.9451\n"
     ]
    },
    {
     "name": "stderr",
     "output_type": "stream",
     "text": [
      "2022-05-24 16:24:47.659245: W tensorflow/core/framework/cpu_allocator_impl.cc:80] Allocation of 18245222400 exceeds 10% of free system memory.\n"
     ]
    },
    {
     "name": "stdout",
     "output_type": "stream",
     "text": [
      "Epoch 2/20\n",
      "725/725 [==============================] - 44s 50ms/step - loss: 27.2381 - binary_accuracy: 0.9103 - val_loss: 46.9969 - val_binary_accuracy: 0.9451\n"
     ]
    },
    {
     "name": "stderr",
     "output_type": "stream",
     "text": [
      "2022-05-24 16:25:37.064171: W tensorflow/core/framework/cpu_allocator_impl.cc:80] Allocation of 18245222400 exceeds 10% of free system memory.\n"
     ]
    },
    {
     "name": "stdout",
     "output_type": "stream",
     "text": [
      "Epoch 3/20\n",
      "725/725 [==============================] - 36s 47ms/step - loss: 16.8330 - binary_accuracy: 0.9310 - val_loss: 20.7686 - val_binary_accuracy: 0.9231\n",
      "Epoch 4/20\n",
      "725/725 [==============================] - 44s 50ms/step - loss: 13.4771 - binary_accuracy: 0.9228 - val_loss: 12.1574 - val_binary_accuracy: 0.9341\n",
      "Epoch 5/20\n",
      "725/725 [==============================] - 37s 47ms/step - loss: 11.1121 - binary_accuracy: 0.9214 - val_loss: 10.2968 - val_binary_accuracy: 0.9286\n",
      "Epoch 6/20\n",
      "725/725 [==============================] - 44s 49ms/step - loss: 8.0626 - binary_accuracy: 0.9366 - val_loss: 10.9695 - val_binary_accuracy: 0.9066\n",
      "Epoch 7/20\n",
      "725/725 [==============================] - 37s 47ms/step - loss: 5.7213 - binary_accuracy: 0.9352 - val_loss: 10.1145 - val_binary_accuracy: 0.9341\n",
      "Epoch 8/20\n",
      "725/725 [==============================] - 44s 50ms/step - loss: 4.2755 - binary_accuracy: 0.9421 - val_loss: 6.8693 - val_binary_accuracy: 0.9341\n",
      "Epoch 9/20\n",
      "725/725 [==============================] - 36s 47ms/step - loss: 1.0884 - binary_accuracy: 0.9766 - val_loss: 4.2037 - val_binary_accuracy: 0.9231\n",
      "Epoch 10/20\n",
      "725/725 [==============================] - 44s 50ms/step - loss: 1.3018 - binary_accuracy: 0.9490 - val_loss: 3.9173 - val_binary_accuracy: 0.9341\n",
      "Epoch 11/20\n",
      "725/725 [==============================] - 37s 47ms/step - loss: 0.7920 - binary_accuracy: 0.9683 - val_loss: 2.7491 - val_binary_accuracy: 0.9231\n",
      "Epoch 12/20\n",
      "725/725 [==============================] - 44s 50ms/step - loss: 0.4199 - binary_accuracy: 0.9724 - val_loss: 4.6646 - val_binary_accuracy: 0.9451\n",
      "Epoch 13/20\n",
      "725/725 [==============================] - 37s 47ms/step - loss: 0.3083 - binary_accuracy: 0.9669 - val_loss: 1.4249 - val_binary_accuracy: 0.9451\n",
      "Epoch 14/20\n",
      "725/725 [==============================] - 44s 49ms/step - loss: 0.0929 - binary_accuracy: 0.9821 - val_loss: 0.8819 - val_binary_accuracy: 0.9396\n",
      "Epoch 15/20\n",
      "725/725 [==============================] - 36s 46ms/step - loss: 0.0633 - binary_accuracy: 0.9821 - val_loss: 0.4740 - val_binary_accuracy: 0.9396\n",
      "Epoch 16/20\n",
      "725/725 [==============================] - 38s 49ms/step - loss: 0.0515 - binary_accuracy: 0.9821 - val_loss: 0.6514 - val_binary_accuracy: 0.9341\n",
      "Epoch 17/20\n",
      "725/725 [==============================] - 42s 47ms/step - loss: 0.3772 - binary_accuracy: 0.9600 - val_loss: 0.4433 - val_binary_accuracy: 0.8901\n",
      "Epoch 18/20\n",
      "725/725 [==============================] - 37s 48ms/step - loss: 0.0794 - binary_accuracy: 0.9752 - val_loss: 0.3870 - val_binary_accuracy: 0.9396\n",
      "Epoch 19/20\n",
      "725/725 [==============================] - 43s 48ms/step - loss: 0.0769 - binary_accuracy: 0.9793 - val_loss: 0.4797 - val_binary_accuracy: 0.9341\n",
      "Epoch 20/20\n",
      "725/725 [==============================] - 37s 48ms/step - loss: 0.1089 - binary_accuracy: 0.9834 - val_loss: 0.4423 - val_binary_accuracy: 0.9396\n"
     ]
    }
   ],
   "source": [
    "# Train the Top layer\n",
    "epochs = 20\n",
    "\n",
    "model.compile(\n",
    "    optimizer=keras.optimizers.Adam(),\n",
    "    loss=keras.losses.BinaryCrossentropy(from_logits=True),\n",
    "    metrics=[keras.metrics.BinaryAccuracy()],\n",
    ")\n",
    "hist = model.fit(train_dataset, epochs=epochs, validation_data=val_dataset)"
   ],
   "metadata": {
    "collapsed": false,
    "pycharm": {
     "name": "#%%\n"
    }
   }
  },
  {
   "cell_type": "markdown",
   "source": [],
   "metadata": {
    "collapsed": false,
    "pycharm": {
     "name": "#%% md\n"
    }
   }
  },
  {
   "cell_type": "code",
   "execution_count": 11,
   "outputs": [
    {
     "data": {
      "text/plain": "<Figure size 1440x216 with 2 Axes>",
      "image/png": "[encoded data removed]"
     },
     "metadata": {
      "needs_background": "light"
     },
     "output_type": "display_data"
    }
   ],
   "source": [
    "plot_history(hist)"
   ],
   "metadata": {
    "collapsed": false,
    "pycharm": {
     "name": "#%%\n"
    }
   }
  },
  {
   "cell_type": "markdown",
   "source": [],
   "metadata": {
    "collapsed": false,
    "pycharm": {
     "name": "#%% md\n"
    }
   }
  },
  {
   "cell_type": "markdown",
   "source": [
    "# Unfreeze the base model and train the entire model"
   ],
   "metadata": {
    "collapsed": false,
    "pycharm": {
     "name": "#%% md\n"
    }
   }
  },
  {
   "cell_type": "code",
   "execution_count": 13,
   "outputs": [],
   "source": [
    "# Unfreeze the base_model.\n",
    "base_model.trainable = True\n",
    "# model.summary()\n",
    "\n",
    "model.compile(\n",
    "    optimizer=keras.optimizers.Adam(1e-5),  # Low learning rate\n",
    "    loss=keras.losses.BinaryCrossentropy(from_logits=True),\n",
    "    metrics=[keras.metrics.BinaryAccuracy(), keras.metrics.AUC(from_logits= True)],\n",
    ")\n",
    "\n",
    "epochs = 20\n",
    "hist2 = model.fit(train_dataset, epochs=epochs, validation_data=val_dataset)\n",
    "plot_history(hist2)"
   ],
   "metadata": {
    "collapsed": false,
    "pycharm": {
     "name": "#%%\n"
    }
   }
  },
  {
   "cell_type": "markdown",
   "source": [
    "# Save Model"
   ],
   "metadata": {
    "collapsed": false,
    "pycharm": {
     "name": "#%% md\n"
    }
   }
  },
  {
   "cell_type": "code",
   "execution_count": 13,
   "outputs": [
    {
     "name": "stderr",
     "output_type": "stream",
     "text": [
      "2022-05-24 17:43:08.435330: W tensorflow/python/util/util.cc:348] Sets are not currently considered sequences, but this may change in the future, so consider avoiding using them.\n",
      "/home/monib/Downloads/d/envs/tf2/lib/python3.7/site-packages/tensorflow/python/keras/utils/generic_utils.py:497: CustomMaskWarning: Custom mask layers require a config and must override get_config. When loading, the custom mask layer must be passed to the custom_objects argument.\n",
      "  category=CustomMaskWarning)\n"
     ]
    },
    {
     "name": "stdout",
     "output_type": "stream",
     "text": [
      "WARNING:tensorflow:FOR KERAS USERS: The object that you are saving contains one or more Keras models or layers. If you are loading the SavedModel with `tf.keras.models.load_model`, continue reading (otherwise, you may ignore the following instructions). Please change your code to save with `tf.keras.models.save_model` or `model.save`, and confirm that the file \"keras.metadata\" exists in the export directory. In the future, Keras will only load the SavedModels that have this file. In other words, `tf.saved_model.save` will no longer write SavedModels that can be recovered as Keras models (this will apply in TF 2.5).\n",
      "\n",
      "FOR DEVS: If you are overwriting _tracking_metadata in your class, this property has been used to save metadata in the SavedModel. The metadta field will be deprecated soon, so please move the metadata to a different file.\n",
      "INFO:tensorflow:Assets written to: ckp/xceptionNet/2022_05_24/Pleural_effusion_best_tf/assets\n"
     ]
    }
   ],
   "source": [
    "import datetime\n",
    "\n",
    "cur_datetime = current_time = datetime.datetime.now().strftime('%Y_%m_%d')\n",
    "save_path = f\"ckp/xceptionNet/{cur_datetime}\"\n",
    "os.makedirs(save_path, exist_ok=True)\n",
    "\n",
    "model.save_weights('{}/Pleural_effusion.h5'.format(save_path))\n",
    "tf.saved_model.save(model, '{}/Pleural_effusion_best_tf'.format(save_path))\n"
   ],
   "metadata": {
    "collapsed": false,
    "pycharm": {
     "name": "#%%\n"
    }
   }
  },
  {
   "cell_type": "markdown",
   "source": [
    "# Load Model and Evaluate on val_dataset\n"
   ],
   "metadata": {
    "collapsed": false,
    "pycharm": {
     "name": "#%% md\n"
    }
   }
  },
  {
   "cell_type": "code",
   "execution_count": 14,
   "outputs": [
    {
     "name": "stderr",
     "output_type": "stream",
     "text": [
      "2022-07-12 17:48:02.650690: W tensorflow/core/framework/cpu_allocator_impl.cc:80] Allocation of 4580179968 exceeds 10% of free system memory.\n",
      "2022-07-12 17:48:04.371919: W tensorflow/core/framework/cpu_allocator_impl.cc:80] Allocation of 4580179968 exceeds 10% of free system memory.\n",
      "/home/monib/Downloads/d/envs/tf2/lib/python3.7/site-packages/tensorflow/python/keras/backend.py:5017: UserWarning: \"`binary_crossentropy` received `from_logits=True`, but the `output` argument was produced by a sigmoid or softmax activation and thus does not represent logits. Was this intended?\"\n",
      "  '\"`binary_crossentropy` received `from_logits=True`, but the `output`'\n",
      "2022-07-12 17:48:06.310991: I tensorflow/compiler/mlir/mlir_graph_optimization_pass.cc:176] None of the MLIR Optimization Passes are enabled (registered 2)\n",
      "2022-07-12 17:48:06.337904: I tensorflow/core/platform/profile_utils/cpu_utils.cc:114] CPU Frequency: 3699850000 Hz\n",
      "2022-07-12 17:48:08.864688: I tensorflow/stream_executor/platform/default/dso_loader.cc:53] Successfully opened dynamic library libcudnn.so.8\n",
      "2022-07-12 17:48:10.009923: I tensorflow/stream_executor/cuda/cuda_dnn.cc:359] Loaded cuDNN version 8202\n",
      "2022-07-12 17:48:11.479987: E tensorflow/core/platform/default/subprocess.cc:304] Start cannot spawn child process: No such file or directory\n",
      "2022-07-12 17:48:11.480023: W tensorflow/stream_executor/gpu/asm_compiler.cc:56] Couldn't invoke ptxas --version\n",
      "2022-07-12 17:48:11.481087: E tensorflow/core/platform/default/subprocess.cc:304] Start cannot spawn child process: No such file or directory\n",
      "2022-07-12 17:48:11.481132: W tensorflow/stream_executor/gpu/redzone_allocator.cc:314] Internal: Failed to launch ptxas\n",
      "Relying on driver to perform ptx compilation. \n",
      "Modify $PATH to customize ptxas location.\n",
      "This message will be only logged once.\n",
      "2022-07-12 17:48:11.581641: I tensorflow/stream_executor/platform/default/dso_loader.cc:53] Successfully opened dynamic library libcublas.so.11\n",
      "2022-07-12 17:48:12.680362: I tensorflow/stream_executor/platform/default/dso_loader.cc:53] Successfully opened dynamic library libcublasLt.so.11\n"
     ]
    },
    {
     "name": "stdout",
     "output_type": "stream",
     "text": [
      "182/182 [==============================] - 17s 32ms/step - loss: 0.3820 - binary_accuracy: 0.9286 - auc: 0.8206\n",
      "Val evaluation [0.3819752335548401, 0.9285714030265808, 0.8206394910812378]\n"
     ]
    }
   ],
   "source": [
    "model.load_weights('/media/monib/ext1/work2022/classification_keras/ckp/xceptionNet/2022_05_24/Pleural_effusion.h5')\n",
    "print('Val evaluation', model.evaluate(val_dataset))\n",
    "\n",
    "# TF model\n",
    "# reloaded_model = tf.saved_model.load('{}/xcept_best_tf'.format(save_path))"
   ],
   "metadata": {
    "collapsed": false,
    "pycharm": {
     "name": "#%%\n"
    }
   }
  },
  {
   "cell_type": "markdown",
   "source": [],
   "metadata": {
    "collapsed": false,
    "pycharm": {
     "name": "#%% md\n"
    }
   }
  },
  {
   "cell_type": "markdown",
   "source": [
    "# Single Image Path"
   ],
   "metadata": {
    "collapsed": false,
    "pycharm": {
     "name": "#%% md\n"
    }
   }
  },
  {
   "cell_type": "code",
   "execution_count": 13,
   "outputs": [
    {
     "name": "stdout",
     "output_type": "stream",
     "text": [
      "(1024, 1024, 3)\n"
     ]
    }
   ],
   "source": [
    "ctx_path0 =\"/media/monib/ext1/work2022/Base_Dataset/chest_x_ray_snuh/DICOM 파일 이신애/45/52134911/ㅇㅎㅅ.DCM\"\n",
    "ctx_path1 =\"/media/monib/ext1/work2022/Base_Dataset/chest_x_ray_snuh/DICOM 파일 이신애/297/36582246/ㅇㅇㅅ.DCM\"\n",
    "png_path0 =\"/media/monib/ext1/work2022/Base_Dataset/chest_x_ray_snuh/rgb_files_600/0/serial_no_45.png\"\n",
    "png_path1 =\"/media/monib/ext1/work2022/Base_Dataset/chest_x_ray_snuh/rgb_files_600/1/serial_no_297.png\"\n",
    "\n",
    "img_array0 = get_array_from_dicom(ctx_path0)\n",
    "img_array1 = get_array_from_dicom(ctx_path1)\n",
    "print(img_array0.shape)"
   ],
   "metadata": {
    "collapsed": false,
    "pycharm": {
     "name": "#%%\n"
    }
   }
  },
  {
   "cell_type": "markdown",
   "source": [
    "# Prediction on single image"
   ],
   "metadata": {
    "collapsed": false,
    "pycharm": {
     "name": "#%% md\n"
    }
   }
  },
  {
   "cell_type": "code",
   "execution_count": 15,
   "outputs": [
    {
     "name": "stdout",
     "output_type": "stream",
     "text": [
      "prob y_pred0 [[1.3410755e-12]]\n",
      "prob y_pred1 [[1.]]\n",
      "class 0 [[0]]\n",
      "class 1 [[1]]\n"
     ]
    }
   ],
   "source": [
    "y_pred0 = model.predict(np.expand_dims(img_array0, axis=0))\n",
    "y_pred1 = model.predict(np.expand_dims(img_array1, axis=0))\n",
    "\n",
    "print(\"prob y_pred0\", y_pred0)\n",
    "print(\"prob y_pred1\", y_pred1)\n",
    "\n",
    "# class scores\n",
    "threshold = 0.5\n",
    "print(\"class 0\", np.where(y_pred0 > threshold, 1, 0))\n",
    "print(\"class 1\", np.where(y_pred1 > threshold, 1, 0))"
   ],
   "metadata": {
    "collapsed": false,
    "pycharm": {
     "name": "#%%\n"
    }
   }
  },
  {
   "cell_type": "markdown",
   "source": [
    "# Predict on all data"
   ],
   "metadata": {
    "collapsed": false,
    "pycharm": {
     "name": "#%% md\n"
    }
   }
  },
  {
   "cell_type": "code",
   "execution_count": 14,
   "outputs": [],
   "source": [
    "def data2numpy2(data):\n",
    "    normal_images = []\n",
    "    normal_paths= []\n",
    "    abnormal_images = []\n",
    "    abnormal_paths = []\n",
    "\n",
    "    #printing a few paths with corresponding serial number and labels\n",
    "    for i in range(len(data[0]['x_ray_paths'])):\n",
    "        try:\n",
    "            label = data[0]['Pleural effusion'][i]\n",
    "            if label == 0:\n",
    "\n",
    "                img_arr = pydicom.dcmread(data[0]['x_ray_paths'][i]).pixel_array # has shape x,y\n",
    "                img_norm, _, _ = preprocessor.normalize(img_arr)\n",
    "\n",
    "                img_resized = preprocessor.resize(img_norm, (img_h, img_w))\n",
    "                img_resized = np.stack((img_resized,)*3, axis=-1)\n",
    "\n",
    "                normal_images.append(img_resized)\n",
    "                normal_paths.append(data[0]['x_ray_paths'][i])\n",
    "            else:\n",
    "                img_arr = pydicom.dcmread(data[0]['x_ray_paths'][i]).pixel_array # has shape x,y\n",
    "                img_norm, _, _ = preprocessor.normalize(img_arr)\n",
    "\n",
    "                img_resized = preprocessor.resize(img_norm, (img_h, img_w))\n",
    "                img_resized = np.stack((img_resized,)*3, axis=-1)\n",
    "\n",
    "                abnormal_images.append(img_resized)\n",
    "                abnormal_paths.append(data[0]['x_ray_paths'][i])\n",
    "        except ValueError as ve:\n",
    "            print(f\"Value error at: {data[0]['x_ray_paths'][i]}\")\n",
    "    return normal_images, normal_paths, abnormal_images, abnormal_paths"
   ],
   "metadata": {
    "collapsed": false,
    "pycharm": {
     "name": "#%%\n"
    }
   }
  },
  {
   "cell_type": "code",
   "execution_count": 15,
   "outputs": [
    {
     "name": "stdout",
     "output_type": "stream",
     "text": [
      "cleaned up labels\n",
      "Value error at: /media/monib/ext1/work2022/Base_Dataset/chest_x_ray_snuh/DICOM 파일 이신애/7/12109342/Chest PA/1.3.46.670589.26.802146.4.20150317.113311.347918.0.dcm\n",
      "Value error at: /media/monib/ext1/work2022/Base_Dataset/chest_x_ray_snuh/DICOM 파일 이신애/9/12222935/1.3.46.670589.26.802065.4.20150304.162931.912466.0.dcm\n",
      "Value error at: /media/monib/ext1/work2022/Base_Dataset/chest_x_ray_snuh/DICOM 파일 이신애/12/13538330/Chest PA/1.3.46.670589.26.802065.4.20201006.93033.669326.0.dcm\n",
      "Value error at: /media/monib/ext1/work2022/Base_Dataset/chest_x_ray_snuh/DICOM 파일 이신애/14/14080074/Chest PA/1.3.46.670589.26.802065.4.20180102.110034.298247.0.dcm\n"
     ]
    }
   ],
   "source": [
    "norm_img, norm_pth, abnorm_img, abnorm_pth = data2numpy2(load_data(root_path))"
   ],
   "metadata": {
    "collapsed": false,
    "pycharm": {
     "name": "#%%\n"
    }
   }
  },
  {
   "cell_type": "code",
   "execution_count": 16,
   "outputs": [
    {
     "name": "stdout",
     "output_type": "stream",
     "text": [
      "file saved!\n"
     ]
    }
   ],
   "source": [
    "# get all data with paths\n",
    "threshold = 0.5\n",
    "import csv\n",
    "field = [\"Path\", \"Prob\", \"Predicted Score\"]\n",
    "\n",
    "filename = \"XceptionNet_Pleural_effusion.csv\"\n",
    "\n",
    "with open(filename, \"a\") as csvfile:\n",
    "        writer = csv.DictWriter(csvfile, fieldnames = field)\n",
    "        writer.writeheader()\n",
    "        for idx in range(len(norm_img)):\n",
    "            y_pred= model.predict(np.expand_dims(norm_img[idx], axis=0))\n",
    "            # class scores\n",
    "            class_score = np.where(y_pred > threshold, 1, 0)\n",
    "            data = [{\"Path\": norm_pth[idx].split('/')[8] + \"[Normal (0)]\" , \"Prob\": round(float(y_pred), 3), \"Predicted Score\":int(class_score)}]\n",
    "            writer.writerows(data)\n",
    "        for idx in range(len(abnorm_img)):\n",
    "            y_pred= model.predict(np.expand_dims(abnorm_img[idx], axis=0))\n",
    "            # class scores\n",
    "            class_score = np.where(y_pred > threshold, 1, 0)\n",
    "            data = [{\"Path\":abnorm_pth[idx].split('/')[8] + \"[Abnormal (1)]\", \"Prob\": round(float(y_pred), 3),\"Predicted Score\":int(class_score)}]\n",
    "            writer.writerows(data)\n",
    "        print(\"file saved!\")"
   ],
   "metadata": {
    "collapsed": false,
    "pycharm": {
     "name": "#%%\n"
    }
   }
  },
  {
   "cell_type": "markdown",
   "source": [
    "# Save all heatmap"
   ],
   "metadata": {
    "collapsed": false,
    "pycharm": {
     "name": "#%% md\n"
    }
   }
  },
  {
   "cell_type": "code",
   "execution_count": 17,
   "outputs": [],
   "source": [
    "def save_all_heatmap(model, norm_img, norm_pth, abnorm_img, abnorm_pth, save_dir):\n",
    "\n",
    "    model.layers[-1].activation = None\n",
    "\n",
    "    last_conv_layer_name = \"top_conv\"\n",
    "\n",
    "    for idx in range(len(norm_img)):\n",
    "\n",
    "        img_name = \"Serial_No\" + norm_pth[idx].split('/')[8]\n",
    "\n",
    "        # ----------- Convert to RGB Image for heatmap -----------\n",
    "        img_norm = norm_img[idx][:, :, 0] * 255\n",
    "        normal_dir = save_dir + \"Normal(0)\"\n",
    "        os.makedirs(normal_dir, exist_ok=True)\n",
    "        png_img = PIL_Image.fromarray(img_norm).convert('RGB')\n",
    "        png_img.save(f\"temp_img.png\", 'png')\n",
    "\n",
    "        heatmap = make_gradcam_heatmap(np.expand_dims(norm_img[idx] , axis=0), model, last_conv_layer_name)\n",
    "        save_and_display_gradcam(\"temp_img.png\", heatmap, cam_path=normal_dir + f\"/{img_name}.jpg\", alpha=0.2, only_save = True)\n",
    "\n",
    "        # abnormal part\n",
    "    for idx in range(len(abnorm_img)):\n",
    "        img_name = \"Serial_No\" + abnorm_pth[idx].split('/')[8]\n",
    "\n",
    "        # ----------- Convert to RGB Image for heatmap -----------\n",
    "        img_abnorm = abnorm_img[idx][:, :, 0] * 255\n",
    "        abnormal_dir = save_dir + \"Abnormal(1)\"\n",
    "        os.makedirs(abnormal_dir, exist_ok=True)\n",
    "        png_img = PIL_Image.fromarray(img_abnorm).convert('RGB')\n",
    "        png_img.save(f\"temp_img.png\", 'png')\n",
    "\n",
    "        heatmap = make_gradcam_heatmap(np.expand_dims(abnorm_img[idx], axis=0), model, last_conv_layer_name)\n",
    "        save_and_display_gradcam(\"temp_img.png\", heatmap, cam_path=abnormal_dir + f\"/{img_name}.jpg\", alpha=0.2, only_save = True)\n",
    "    print(\"images save!\")\n",
    "\n",
    "save_dir = \"/media/monib/ext1/work2022/Base_Dataset/chest_x_ray_snuh/hmp_Pleural_effusion/\"\n"
   ],
   "metadata": {
    "collapsed": false,
    "pycharm": {
     "name": "#%%\n"
    }
   }
  },
  {
   "cell_type": "code",
   "execution_count": 18,
   "outputs": [
    {
     "name": "stdout",
     "output_type": "stream",
     "text": [
      "images save!\n"
     ]
    }
   ],
   "source": [
    "save_all_heatmap(model, norm_img, norm_pth, abnorm_img, abnorm_pth, save_dir=save_dir)"
   ],
   "metadata": {
    "collapsed": false,
    "pycharm": {
     "name": "#%%\n"
    }
   }
  },
  {
   "cell_type": "code",
   "execution_count": 15,
   "metadata": {
    "pycharm": {
     "name": "#%%\n"
    }
   },
   "outputs": [
    {
     "name": "stderr",
     "output_type": "stream",
     "text": [
      "2022-05-23 16:57:43.825485: I tensorflow/stream_executor/cuda/cuda_blas.cc:1838] TensorFloat-32 will be used for the matrix multiplication. This will only be logged once.\n"
     ]
    },
    {
     "data": {
      "text/plain": "<Figure size 345.6x345.6 with 1 Axes>",
      "image/png": "[encoded data removed]"
     },
     "metadata": {
      "needs_background": "light"
     },
     "output_type": "display_data"
    },
    {
     "data": {
      "text/plain": "<Figure size 288x288 with 1 Axes>",
      "image/png": "[encoded data removed]"
     },
     "metadata": {
      "needs_background": "light"
     },
     "output_type": "display_data"
    }
   ],
   "source": [
    "# Remove last layer's softmax\n",
    "model.layers[-1].activation = None\n",
    "\n",
    "# Print what the top predicted class is\n",
    "# preds = model.predict(np.expand_dims(img_array0, axis=0))\n",
    "last_conv_layer_name = \"top_conv\"\n",
    "\n",
    "# Generate class activation heatmap\n",
    "heatmap0 = make_gradcam_heatmap(np.expand_dims(img_array0, axis=0), model, last_conv_layer_name)\n",
    "heatmap1 = make_gradcam_heatmap(np.expand_dims(img_array1, axis=0), model, last_conv_layer_name)\n",
    "\n",
    "# Display heatmap\n",
    "plt.matshow(heatmap0)\n",
    "plt.matshow(heatmap1)\n",
    "plt.show()"
   ]
  },
  {
   "cell_type": "code",
   "execution_count": null,
   "outputs": [],
   "source": [
    "heatmap0 = make_gradcam_heatmap(np.expand_dims(img_array0, axis=0), model, last_conv_layer_name)\n",
    "heatmap1 = make_gradcam_heatmap(np.expand_dims(img_array1, axis=0), model, last_conv_layer_name)"
   ],
   "metadata": {
    "collapsed": false,
    "pycharm": {
     "name": "#%%\n"
    }
   }
  },
  {
   "cell_type": "code",
   "execution_count": 30,
   "outputs": [
    {
     "data": {
      "image/jpeg": "[encoded data removed]",
      "text/plain": "<IPython.core.display.Image object>"
     },
     "metadata": {},
     "output_type": "display_data"
    },
    {
     "data": {
      "image/jpeg": "[encoded data removed]",
      "text/plain": "<IPython.core.display.Image object>"
     },
     "metadata": {},
     "output_type": "display_data"
    }
   ],
   "source": [
    "save_and_display_gradcam(png_path0, heatmap0)\n",
    "save_and_display_gradcam(png_path1, heatmap1)"
   ],
   "metadata": {
    "collapsed": false,
    "pycharm": {
     "name": "#%%\n"
    }
   }
  },
  {
   "cell_type": "markdown",
   "metadata": {
    "pycharm": {
     "name": "#%% md\n"
    }
   },
   "source": [
    "# Super Impose the heatmap on image"
   ]
  },
  {
   "cell_type": "code",
   "execution_count": null,
   "metadata": {
    "pycharm": {
     "name": "#%%\n",
     "is_executing": true
    }
   },
   "outputs": [],
   "source": [
    "save_and_display_gradcam(png_path0, heatmap0)\n",
    "save_and_display_gradcam(png_path1, heatmap1)"
   ]
  },
  {
   "cell_type": "markdown",
   "source": [],
   "metadata": {
    "collapsed": false,
    "pycharm": {
     "name": "#%% md\n"
    }
   }
  },
  {
   "cell_type": "markdown",
   "source": [
    "# ROC Curve"
   ],
   "metadata": {
    "collapsed": false,
    "pycharm": {
     "name": "#%% md\n"
    }
   }
  },
  {
   "cell_type": "code",
   "execution_count": 19,
   "outputs": [
    {
     "name": "stdout",
     "output_type": "stream",
     "text": [
      "Xception: ROC AUC=0.936\n"
     ]
    },
    {
     "data": {
      "text/plain": "<Figure size 432x288 with 1 Axes>",
      "image/png": "[encoded data removed]"
     },
     "metadata": {
      "needs_background": "light"
     },
     "output_type": "display_data"
    }
   ],
   "source": [
    "# roc curve and auc\n",
    "from sklearn.metrics import roc_curve\n",
    "from sklearn.metrics import roc_auc_score\n",
    "from sklearn.metrics import precision_recall_curve\n",
    "from sklearn.metrics import f1_score\n",
    "from sklearn.metrics import auc\n",
    "from matplotlib import pyplot\n",
    "\n",
    "# calculate scores\n",
    "y_pred = model.predict(x_val).ravel()\n",
    "fpr, tpr, _ = roc_curve(y_val, y_pred)\n",
    "\n",
    "lr_auc = roc_auc_score(y_val, y_pred)\n",
    "# summarize scores\n",
    "print('Xception: ROC AUC=%.3f' % (lr_auc))\n",
    "# calculate roc curves\n",
    "# plot the roc curve for the model\n",
    "pyplot.plot(fpr, tpr, marker='.', label='Pleural_effusion')\n",
    "# axis labels\n",
    "pyplot.xlabel('False Positive Rate')\n",
    "pyplot.ylabel('True Positive Rate')\n",
    "# show the legend\n",
    "pyplot.legend()\n",
    "# show the plot\n",
    "pyplot.show()"
   ],
   "metadata": {
    "collapsed": false,
    "pycharm": {
     "name": "#%%\n"
    }
   }
  },
  {
   "cell_type": "markdown",
   "source": [
    "# Precision and recall"
   ],
   "metadata": {
    "collapsed": false,
    "pycharm": {
     "name": "#%% md\n"
    }
   }
  },
  {
   "cell_type": "code",
   "execution_count": 20,
   "outputs": [
    {
     "name": "stdout",
     "output_type": "stream",
     "text": [
      "XceptionNet: auc=0.414\n"
     ]
    },
    {
     "data": {
      "text/plain": "<Figure size 432x288 with 1 Axes>",
      "image/png": "[encoded data removed]"
     },
     "metadata": {
      "needs_background": "light"
     },
     "output_type": "display_data"
    }
   ],
   "source": [
    "# predict probabilities\n",
    "lr_precision, lr_recall, _ = precision_recall_curve(y_val, y_pred)\n",
    "# lr_f1 = f1_score(y_val, y_pred)\n",
    "lr_auc = auc(lr_recall, lr_precision)\n",
    "# summarize scores\n",
    "print('XceptionNet: auc=%.3f' % (lr_auc))\n",
    "# plot the precision-recall curves\n",
    "pyplot.plot(lr_recall, lr_precision, marker='.', label='Pleural_effusion')\n",
    "# axis labels\n",
    "pyplot.xlabel('Recall')\n",
    "pyplot.ylabel('Precision')\n",
    "# show the legend\n",
    "pyplot.legend()\n",
    "# show the plot\n",
    "pyplot.show()"
   ],
   "metadata": {
    "collapsed": false,
    "pycharm": {
     "name": "#%%\n"
    }
   }
  },
  {
   "cell_type": "code",
   "execution_count": null,
   "outputs": [],
   "source": [],
   "metadata": {
    "collapsed": false,
    "pycharm": {
     "name": "#%%\n"
    }
   }
  }
 ],
 "metadata": {
  "kernelspec": {
   "display_name": "Python 3 (ipykernel)",
   "language": "python",
   "name": "python3"
  },
  "language_info": {
   "codemirror_mode": {
    "name": "ipython",
    "version": 3
   },
   "file_extension": ".py",
   "mimetype": "text/x-python",
   "name": "python",
   "nbconvert_exporter": "python",
   "pygments_lexer": "ipython3",
   "version": "3.7.13"
  }
 },
 "nbformat": 4,
 "nbformat_minor": 1
}